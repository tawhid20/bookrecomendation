{
 "cells": [
  {
   "cell_type": "code",
   "execution_count": 1,
   "metadata": {},
   "outputs": [],
   "source": [
    "import pandas as pd\n",
    "import numpy as np\n",
    "from sklearn.metrics.pairwise import cosine_similarity\n",
    "from nltk.corpus import stopwords\n",
    "from sklearn.feature_extraction.text import TfidfVectorizer\n",
    "from nltk.tokenize import RegexpTokenizer\n",
    "import re\n",
    "import string\n",
    "import random\n",
    "from PIL import Image\n",
    "import requests\n",
    "from io import BytesIO\n",
    "from sklearn.model_selection import cross_val_score, KFold"
   ]
  },
  {
   "cell_type": "code",
   "execution_count": 2,
   "metadata": {},
   "outputs": [],
   "source": [
    "from IPython.display import Image"
   ]
  },
  {
   "cell_type": "code",
   "execution_count": 3,
   "metadata": {},
   "outputs": [],
   "source": [
    "import seaborn as sns\n",
    "from sklearn.preprocessing import MinMaxScaler\n",
    "from sklearn import neighbors"
   ]
  },
  {
   "cell_type": "code",
   "execution_count": 4,
   "metadata": {},
   "outputs": [],
   "source": [
    "import matplotlib.pyplot as plt"
   ]
  },
  {
   "cell_type": "code",
   "execution_count": 5,
   "metadata": {},
   "outputs": [],
   "source": [
    "from sklearn import preprocessing\n",
    "from sklearn.linear_model import LogisticRegression\n",
    "from sklearn.neighbors import KNeighborsClassifier\n",
    "from sklearn.neural_network import MLPClassifier\n",
    "from sklearn.metrics import accuracy_score\n"
   ]
  },
  {
   "cell_type": "markdown",
   "metadata": {},
   "source": [
    "## Project Details:\n",
    "\n",
    "##### In this project we will build two Application :\n",
    "\n",
    "* Recommendation Engine\n",
    "* Book to movie predictor \n",
    "\n",
    "#### Recomendation Engine:\n",
    "The recommendation engine will take a book title as input and will find similar books based on several different features like description, author, and genre, etc. \n",
    "#### Book to movie predictor:\n",
    "This application will predict if a movie will be made into books or not.\n",
    "\n",
    "\n",
    "##### Objective :\n",
    "We will also use several different approaches for each of the applications and show a comparison.\n",
    "But first, we have done some data processing to make the data in a format that is more suitable for the algorithms."
   ]
  },
  {
   "cell_type": "code",
   "execution_count": 645,
   "metadata": {},
   "outputs": [],
   "source": [
    "project_df=pd.read_csv('data/Poject_data.csv',error_bad_lines=False,index_col=0,encoding= 'unicode_escape')"
   ]
  },
  {
   "cell_type": "code",
   "execution_count": 646,
   "metadata": {},
   "outputs": [
    {
     "data": {
      "text/plain": [
       "Index(['book_id', 'title', 'author', 'rating', 'num_pages',\n",
       "       'number_of_ratings', 'text_reviews_count', 'year', 'publisher',\n",
       "       'description', 'awards', 'genre', 'Movie', 'year_clean'],\n",
       "      dtype='object')"
      ]
     },
     "execution_count": 646,
     "metadata": {},
     "output_type": "execute_result"
    }
   ],
   "source": [
    "project_df.columns"
   ]
  },
  {
   "cell_type": "code",
   "execution_count": 647,
   "metadata": {},
   "outputs": [
    {
     "name": "stdout",
     "output_type": "stream",
     "text": [
      "<class 'pandas.core.frame.DataFrame'>\n",
      "Int64Index: 17234 entries, 0 to 17246\n",
      "Data columns (total 14 columns):\n",
      " #   Column              Non-Null Count  Dtype  \n",
      "---  ------              --------------  -----  \n",
      " 0   book_id             17234 non-null  int64  \n",
      " 1   title               17234 non-null  object \n",
      " 2   author              17234 non-null  object \n",
      " 3   rating              17234 non-null  float64\n",
      " 4   num_pages           17234 non-null  int64  \n",
      " 5   number_of_ratings   17234 non-null  int64  \n",
      " 6   text_reviews_count  17234 non-null  object \n",
      " 7   year                17234 non-null  object \n",
      " 8   publisher           17234 non-null  object \n",
      " 9   description         17234 non-null  object \n",
      " 10  awards              17234 non-null  object \n",
      " 11  genre               17234 non-null  object \n",
      " 12  Movie               17234 non-null  object \n",
      " 13  year_clean          17234 non-null  int64  \n",
      "dtypes: float64(1), int64(4), object(9)\n",
      "memory usage: 2.0+ MB\n"
     ]
    }
   ],
   "source": [
    "project_df.info()"
   ]
  },
  {
   "cell_type": "code",
   "execution_count": 648,
   "metadata": {},
   "outputs": [
    {
     "data": {
      "text/html": [
       "<div>\n",
       "<style scoped>\n",
       "    .dataframe tbody tr th:only-of-type {\n",
       "        vertical-align: middle;\n",
       "    }\n",
       "\n",
       "    .dataframe tbody tr th {\n",
       "        vertical-align: top;\n",
       "    }\n",
       "\n",
       "    .dataframe thead th {\n",
       "        text-align: right;\n",
       "    }\n",
       "</style>\n",
       "<table border=\"1\" class=\"dataframe\">\n",
       "  <thead>\n",
       "    <tr style=\"text-align: right;\">\n",
       "      <th></th>\n",
       "      <th>book_id</th>\n",
       "      <th>title</th>\n",
       "      <th>author</th>\n",
       "      <th>rating</th>\n",
       "      <th>num_pages</th>\n",
       "      <th>number_of_ratings</th>\n",
       "      <th>text_reviews_count</th>\n",
       "      <th>year</th>\n",
       "      <th>publisher</th>\n",
       "      <th>description</th>\n",
       "      <th>awards</th>\n",
       "      <th>genre</th>\n",
       "      <th>Movie</th>\n",
       "      <th>year_clean</th>\n",
       "    </tr>\n",
       "  </thead>\n",
       "  <tbody>\n",
       "    <tr>\n",
       "      <th>0</th>\n",
       "      <td>1</td>\n",
       "      <td>Harry Potter and the Half-Blood Prince (Harry ...</td>\n",
       "      <td>J.K. Rowling</td>\n",
       "      <td>4.57</td>\n",
       "      <td>652</td>\n",
       "      <td>2095690</td>\n",
       "      <td>27591</td>\n",
       "      <td>9/16/2006</td>\n",
       "      <td>Scholastic Inc.</td>\n",
       "      <td>The war against Voldemort is not going well; e...</td>\n",
       "      <td>3</td>\n",
       "      <td>fantasy_paranormal_fiction</td>\n",
       "      <td>yes</td>\n",
       "      <td>2006</td>\n",
       "    </tr>\n",
       "  </tbody>\n",
       "</table>\n",
       "</div>"
      ],
      "text/plain": [
       "   book_id                                              title        author  \\\n",
       "0        1  Harry Potter and the Half-Blood Prince (Harry ...  J.K. Rowling   \n",
       "\n",
       "   rating  num_pages  number_of_ratings text_reviews_count       year  \\\n",
       "0    4.57        652            2095690              27591  9/16/2006   \n",
       "\n",
       "         publisher                                        description awards  \\\n",
       "0  Scholastic Inc.  The war against Voldemort is not going well; e...      3   \n",
       "\n",
       "                        genre Movie  year_clean  \n",
       "0  fantasy_paranormal_fiction   yes        2006  "
      ]
     },
     "execution_count": 648,
     "metadata": {},
     "output_type": "execute_result"
    }
   ],
   "source": [
    "project_df.head(1)"
   ]
  },
  {
   "cell_type": "markdown",
   "metadata": {},
   "source": [
    "###### Feature Description:\n",
    "* book_id:This is the GoodReads book id\n",
    "* title: Title of the book\n",
    "* author: The primary author of the book \n",
    "* rating: The Avegare rating of the book\n",
    "* num_pages: The number of pages in the book\n",
    "* number_of_ratings: The total number of ratings the book recieved in GoodReads\n",
    "* text_reviews_count: The tital number of reviews the book recieved in GoodReads\n",
    "* publisher: The publisher of the paper back version of the book\n",
    "* description: A short description of what the book is about\n",
    "* awards: The number of awards the book recieved\n",
    "* genre: The genre of the book\n",
    "* Movie: IF there is a move based on the book\n",
    "* year: The year book was published in "
   ]
  },
  {
   "cell_type": "code",
   "execution_count": 649,
   "metadata": {},
   "outputs": [
    {
     "data": {
      "text/plain": [
       "'At last in paperback in one complete volume, here are the five novels from Douglas Adams\\'s Hitchhiker series. \"The Hitchhiker\\'s Guide to the Galaxy\"Seconds before the Earth is demolished for a galactic freeway, Arthur Dent is saved by Ford Prefect, a researcher for the revised Guide. Together they stick out their thumbs to the stars and begin a wild journey through time and space.\"The Restaurant at the End of the Universe\"Facing annihilation at the hands of warmongers is a curious time to crave tea. It could only happen to the cosmically displaced Arthur Dent and his comrades as they hurtle across the galaxy in a desperate search for a place to eat.\"Life, the Universe and Everything\"The unhappy inhabitants of planet Krikkit are sick of looking at the night sky- so they plan to destroy it. The universe, that is. Now only five individuals can avert Armageddon: mild-mannered Arthur Dent and his stalwart crew.\"So Long, and Thanks for All the Fish\"Back on Earth, Arthur Dent is ready to believe that the past eight years were all just a figment of his stressed-out imagination. But a gift-wrapped fishbowl with a cryptic inscription conspires to thrust him back to reality. So to speak.\"Mostly Harmless\"Just when Arthur Dent makes the terrible mistake of starting to enjoy life, all hell breaks loose. Can he save the Earth from total obliteration? Can he save the Guide from a hostile alien takeover? Can he save his daughter from herself?Also includes the short story \"Young Zaphod Plays It Safe\".'"
      ]
     },
     "execution_count": 649,
     "metadata": {},
     "output_type": "execute_result"
    }
   ],
   "source": [
    "project_df['description'][6]"
   ]
  },
  {
   "cell_type": "markdown",
   "metadata": {},
   "source": [
    "As it can be seen that the movie description is in a raw format, we have to do some formatting to it.\n",
    "* It consists of both uppercase and lowercase character, as our first Recommender system will use turn text to vectors this might be a problem as the same words will be treated differently if one is in uppercase another in lower. \n",
    "* We also have to remove stopwords from the description.  Stopwords are the words in any language which does not add much meaning to a sentence for example words like 'a',' an','be', 'is', 'the' etc. They can safely be ignored without sacrificing the meaning of the sentence.\n",
    "* We should also remove the punctuations as it doesn't have any effect on the meaning of the text. "
   ]
  },
  {
   "cell_type": "code",
   "execution_count": 650,
   "metadata": {},
   "outputs": [],
   "source": [
    "## Some fuction to clean the description text \n",
    "def make_lower_case(text):\n",
    "    return text.lower()\n",
    "\n",
    "def remove_stop_words(text):\n",
    "    text = text.split()\n",
    "    stops = set(stopwords.words(\"english\"))\n",
    "    text = [w for w in text if not w in stops]\n",
    "    text = \" \".join(text)\n",
    "    return text\n",
    "\n",
    "def remove_punctuation(text):\n",
    "    tokenizer = RegexpTokenizer(r'\\w+')\n",
    "    text = tokenizer.tokenize(text)\n",
    "    text = \" \".join(text)\n",
    "    return text\n",
    "\n",
    "\n",
    "project_df['description'] = project_df.description.apply(func = make_lower_case)\n",
    "project_df['description'] = project_df.description.apply(func = remove_stop_words)\n",
    "project_df['description'] = project_df.description.apply(func=remove_punctuation)"
   ]
  },
  {
   "cell_type": "code",
   "execution_count": 651,
   "metadata": {},
   "outputs": [],
   "source": [
    "project_df=project_df[project_df['description']!='Not_given']"
   ]
  },
  {
   "cell_type": "code",
   "execution_count": 652,
   "metadata": {},
   "outputs": [
    {
     "data": {
      "text/plain": [
       "(17234, 14)"
      ]
     },
     "execution_count": 652,
     "metadata": {},
     "output_type": "execute_result"
    }
   ],
   "source": [
    "project_df.shape"
   ]
  },
  {
   "cell_type": "markdown",
   "metadata": {},
   "source": [
    "As we are using are using the description mainly , we are removing entries with no description . "
   ]
  },
  {
   "cell_type": "code",
   "execution_count": 653,
   "metadata": {},
   "outputs": [
    {
     "data": {
      "text/plain": [
       "'last paperback one complete volume five novels douglas adams s hitchhiker series the hitchhiker s guide galaxy seconds earth demolished galactic freeway arthur dent saved ford prefect researcher revised guide together stick thumbs stars begin wild journey time space the restaurant end universe facing annihilation hands warmongers curious time crave tea could happen cosmically displaced arthur dent comrades hurtle across galaxy desperate search place eat life universe everything the unhappy inhabitants planet krikkit sick looking night sky plan destroy it universe is five individuals avert armageddon mild mannered arthur dent stalwart crew so long thanks fish back earth arthur dent ready believe past eight years figment stressed out imagination gift wrapped fishbowl cryptic inscription conspires thrust back reality speak mostly harmless just arthur dent makes terrible mistake starting enjoy life hell breaks loose save earth total obliteration save guide hostile alien takeover save daughter herself also includes short story young zaphod plays safe'"
      ]
     },
     "execution_count": 653,
     "metadata": {},
     "output_type": "execute_result"
    }
   ],
   "source": [
    "'last paperback one complete volume five novels Douglas Adams s hitchhiker series the hitchhiker s guide galaxy seconds earth demolished galactic freeway Arthur dent saved ford prefect researcher revised guide together stick thumbs stars begin wild journey time-space the restaurant end universe facing annihilation hands warmongers curious time crave tea could happen cosmically displaced Arthur dent comrades hurtle across galaxy desperate search place eat life universe everything the unhappy inhabitants planet cricket sick looking night sky plan destroy it universe is five individuals avert armageddon mild-mannered Arthur dent stalwart crew so long thanks fish back earth Arthur dent ready believe past eight years figment stressed-out imagination gift-wrapped fishbowl cryptic inscription conspires thrust back reality speak mostly harmless just Arthur dent makes terrible mistake starting enjoy life hell breaks loose save earth total obliteration save guide hostile alien takeover save daughter herself also includes short story young Zaphod plays safe'project_df['description'][6]"
   ]
  },
  {
   "cell_type": "markdown",
   "metadata": {},
   "source": [
    "This is the result after formatiing the text ."
   ]
  },
  {
   "cell_type": "markdown",
   "metadata": {},
   "source": [
    "##  Recommender System 1\n",
    "The First recommender System is made by finding the cosine similarities only between the description of the books vectorized using the TF-IDF vectorizer.\n",
    "\n",
    "TF-IDF(Term Frequency Inverse Document Frequency) vectorizer, is a very common algorithm to transform the text into a meaningful representation of numbers. \n",
    "Below is given the formula for vectorizer.\n",
    "We are using the max features of 5000, which means each entry will be converted into (5000,1)vector,\n"
   ]
  },
  {
   "cell_type": "code",
   "execution_count": 654,
   "metadata": {},
   "outputs": [
    {
     "data": {
      "image/png": "[encoded data removed]",
      "text/plain": [
       "<IPython.core.display.Image object>"
      ]
     },
     "execution_count": 654,
     "metadata": {},
     "output_type": "execute_result"
    }
   ],
   "source": [
    "Image(filename='data/images/tf_idf.png') "
   ]
  },
  {
   "cell_type": "code",
   "execution_count": 655,
   "metadata": {},
   "outputs": [],
   "source": [
    "tf_idf = TfidfVectorizer(analyzer='word', ngram_range=(2, 2), min_df = 1, stop_words='english')\n"
   ]
  },
  {
   "cell_type": "code",
   "execution_count": 656,
   "metadata": {},
   "outputs": [],
   "source": [
    "indices = pd.Series(project_df.index, index = project_df['title'])"
   ]
  },
  {
   "cell_type": "code",
   "execution_count": 657,
   "metadata": {},
   "outputs": [],
   "source": [
    "tfidf_matrix_desc = tf_idf.fit_transform(project_df['description'])"
   ]
  },
  {
   "cell_type": "code",
   "execution_count": 658,
   "metadata": {},
   "outputs": [],
   "source": [
    "similarity_mat_desc = cosine_similarity(tfidf_matrix_desc)"
   ]
  },
  {
   "cell_type": "code",
   "execution_count": 659,
   "metadata": {},
   "outputs": [
    {
     "data": {
      "text/plain": [
       "(17234,)"
      ]
     },
     "execution_count": 659,
     "metadata": {},
     "output_type": "execute_result"
    }
   ],
   "source": [
    "indices.shape"
   ]
  },
  {
   "cell_type": "code",
   "execution_count": 660,
   "metadata": {},
   "outputs": [],
   "source": [
    "def tf_description(dataframe,similarity_mat,indices,book_name,no_books):\n",
    "    idx = indices[book_name]\n",
    "    sig = list(enumerate(similarity_mat[idx]))\n",
    "    sig = sorted(sig, key=lambda x: x[1], reverse=True)\n",
    "    sig = sig[1:no_books]\n",
    "    book_indices = [i[0] for i in sig]\n",
    "    book_df=dataframe[dataframe['title']==book_name]\n",
    "    print(\"Book searched for: \")\n",
    "    print(list(book_df['title'])[0])\n",
    "    print('Author: ',list(book_df['author'])[0])\n",
    "    print('Genre: ',list(book_df['genre'])[0])\n",
    "    print(\"Similar books\")\n",
    "    return dataframe.iloc[book_indices]"
   ]
  },
  {
   "cell_type": "markdown",
   "metadata": {},
   "source": [
    "The function takes in a few variables \n",
    "* data frame: the table from which it will take the corresponding Author, Genre of similar books\n",
    "* similarity_mat: a matrix of 17235*17235 that contains the similarity of all the description \n",
    "* indices: the book name and the index of that book.\n",
    "* book_name: the input book, whose similar books we will predict.\n",
    "* no_books: The number of similar books we want to have\n",
    "\n",
    "The function outputs a data frame containing similar books."
   ]
  },
  {
   "cell_type": "code",
   "execution_count": 661,
   "metadata": {},
   "outputs": [
    {
     "name": "stdout",
     "output_type": "stream",
     "text": [
      "Book searched for: \n",
      "Harry Potter and the Prisoner of Azkaban (Harry Potter  #3)\n",
      "Author:  J.K. Rowling\n",
      "Genre:  fantasy_paranormal_fiction\n",
      "Similar books\n"
     ]
    },
    {
     "data": {
      "text/html": [
       "<div>\n",
       "<style scoped>\n",
       "    .dataframe tbody tr th:only-of-type {\n",
       "        vertical-align: middle;\n",
       "    }\n",
       "\n",
       "    .dataframe tbody tr th {\n",
       "        vertical-align: top;\n",
       "    }\n",
       "\n",
       "    .dataframe thead th {\n",
       "        text-align: right;\n",
       "    }\n",
       "</style>\n",
       "<table border=\"1\" class=\"dataframe\">\n",
       "  <thead>\n",
       "    <tr style=\"text-align: right;\">\n",
       "      <th></th>\n",
       "      <th>book_id</th>\n",
       "      <th>title</th>\n",
       "      <th>author</th>\n",
       "      <th>rating</th>\n",
       "      <th>num_pages</th>\n",
       "      <th>number_of_ratings</th>\n",
       "      <th>text_reviews_count</th>\n",
       "      <th>year</th>\n",
       "      <th>publisher</th>\n",
       "      <th>description</th>\n",
       "      <th>awards</th>\n",
       "      <th>genre</th>\n",
       "      <th>Movie</th>\n",
       "      <th>year_clean</th>\n",
       "    </tr>\n",
       "  </thead>\n",
       "  <tbody>\n",
       "    <tr>\n",
       "      <th>1</th>\n",
       "      <td>2</td>\n",
       "      <td>Harry Potter and the Order of the Phoenix (Har...</td>\n",
       "      <td>J.K. Rowling</td>\n",
       "      <td>4.49</td>\n",
       "      <td>870</td>\n",
       "      <td>2153167</td>\n",
       "      <td>29221</td>\n",
       "      <td>9/1/2004</td>\n",
       "      <td>Scholastic Inc.</td>\n",
       "      <td>door end silent corridor itâ s haunting harry ...</td>\n",
       "      <td>9</td>\n",
       "      <td>fantasy_paranormal_fiction</td>\n",
       "      <td>yes</td>\n",
       "      <td>2004</td>\n",
       "    </tr>\n",
       "    <tr>\n",
       "      <th>12503</th>\n",
       "      <td>13563334</td>\n",
       "      <td>Harry Potter and the Chamber of Secrets (Harry...</td>\n",
       "      <td>J.K. Rowling</td>\n",
       "      <td>4.38</td>\n",
       "      <td>231</td>\n",
       "      <td>209</td>\n",
       "      <td>32</td>\n",
       "      <td>2012</td>\n",
       "      <td>Scholastic, Inc</td>\n",
       "      <td>chamber secrets opened hogwarts school witchcr...</td>\n",
       "      <td>Not_given</td>\n",
       "      <td>fantasy_paranormal_fiction</td>\n",
       "      <td>no</td>\n",
       "      <td>2012</td>\n",
       "    </tr>\n",
       "    <tr>\n",
       "      <th>7429</th>\n",
       "      <td>43509</td>\n",
       "      <td>Harry Potter and the Goblet of Fire (Harry Pot...</td>\n",
       "      <td>J.K. Rowling</td>\n",
       "      <td>4.56</td>\n",
       "      <td>636</td>\n",
       "      <td>18754</td>\n",
       "      <td>906</td>\n",
       "      <td>7/8/2000</td>\n",
       "      <td>Bloomsbury</td>\n",
       "      <td>summer holidays dragging harry potter can t wa...</td>\n",
       "      <td>8</td>\n",
       "      <td>fantasy_paranormal_fiction</td>\n",
       "      <td>no</td>\n",
       "      <td>2000</td>\n",
       "    </tr>\n",
       "    <tr>\n",
       "      <th>10162</th>\n",
       "      <td>30167764</td>\n",
       "      <td>Harry Potter: Cinematic Guide</td>\n",
       "      <td>Not_given</td>\n",
       "      <td>3.79</td>\n",
       "      <td>64</td>\n",
       "      <td>158</td>\n",
       "      <td>15</td>\n",
       "      <td>2016</td>\n",
       "      <td>Scholastic Inc.</td>\n",
       "      <td>essential film companion harry potter that s p...</td>\n",
       "      <td>Not_given</td>\n",
       "      <td>children</td>\n",
       "      <td>no</td>\n",
       "      <td>2016</td>\n",
       "    </tr>\n",
       "    <tr>\n",
       "      <th>2969</th>\n",
       "      <td>15190</td>\n",
       "      <td>Looking for God in Harry Potter</td>\n",
       "      <td>John Granger</td>\n",
       "      <td>4.13</td>\n",
       "      <td>234</td>\n",
       "      <td>1347</td>\n",
       "      <td>94</td>\n",
       "      <td>2/17/2006</td>\n",
       "      <td>SaltRiver</td>\n",
       "      <td>millions children even christian children read...</td>\n",
       "      <td>0</td>\n",
       "      <td>history_biography</td>\n",
       "      <td>no</td>\n",
       "      <td>2006</td>\n",
       "    </tr>\n",
       "  </tbody>\n",
       "</table>\n",
       "</div>"
      ],
      "text/plain": [
       "        book_id                                              title  \\\n",
       "1             2  Harry Potter and the Order of the Phoenix (Har...   \n",
       "12503  13563334  Harry Potter and the Chamber of Secrets (Harry...   \n",
       "7429      43509  Harry Potter and the Goblet of Fire (Harry Pot...   \n",
       "10162  30167764                      Harry Potter: Cinematic Guide   \n",
       "2969      15190                    Looking for God in Harry Potter   \n",
       "\n",
       "             author  rating  num_pages  number_of_ratings text_reviews_count  \\\n",
       "1      J.K. Rowling    4.49        870            2153167              29221   \n",
       "12503  J.K. Rowling    4.38        231                209                 32   \n",
       "7429   J.K. Rowling    4.56        636              18754                906   \n",
       "10162     Not_given    3.79         64                158                 15   \n",
       "2969   John Granger    4.13        234               1347                 94   \n",
       "\n",
       "            year        publisher  \\\n",
       "1       9/1/2004  Scholastic Inc.   \n",
       "12503       2012  Scholastic, Inc   \n",
       "7429    7/8/2000       Bloomsbury   \n",
       "10162       2016  Scholastic Inc.   \n",
       "2969   2/17/2006        SaltRiver   \n",
       "\n",
       "                                             description     awards  \\\n",
       "1      door end silent corridor itâ s haunting harry ...          9   \n",
       "12503  chamber secrets opened hogwarts school witchcr...  Not_given   \n",
       "7429   summer holidays dragging harry potter can t wa...          8   \n",
       "10162  essential film companion harry potter that s p...  Not_given   \n",
       "2969   millions children even christian children read...          0   \n",
       "\n",
       "                            genre Movie  year_clean  \n",
       "1      fantasy_paranormal_fiction   yes        2004  \n",
       "12503  fantasy_paranormal_fiction    no        2012  \n",
       "7429   fantasy_paranormal_fiction    no        2000  \n",
       "10162                    children    no        2016  \n",
       "2969            history_biography    no        2006  "
      ]
     },
     "execution_count": 661,
     "metadata": {},
     "output_type": "execute_result"
    }
   ],
   "source": [
    "tf_description(project_df,similarity_mat_desc,indices,project_df['title'][3],6)"
   ]
  },
  {
   "cell_type": "code",
   "execution_count": 662,
   "metadata": {},
   "outputs": [
    {
     "name": "stdout",
     "output_type": "stream",
     "text": [
      "Book searched for: \n",
      "The Lord of the Rings (The Lord of the Rings  #1-3)\n",
      "Author:  J.R.R. Tolkien\n",
      "Genre:  fantasy_paranormal_fiction\n",
      "Similar books\n"
     ]
    },
    {
     "data": {
      "text/html": [
       "<div>\n",
       "<style scoped>\n",
       "    .dataframe tbody tr th:only-of-type {\n",
       "        vertical-align: middle;\n",
       "    }\n",
       "\n",
       "    .dataframe tbody tr th {\n",
       "        vertical-align: top;\n",
       "    }\n",
       "\n",
       "    .dataframe thead th {\n",
       "        text-align: right;\n",
       "    }\n",
       "</style>\n",
       "<table border=\"1\" class=\"dataframe\">\n",
       "  <thead>\n",
       "    <tr style=\"text-align: right;\">\n",
       "      <th></th>\n",
       "      <th>book_id</th>\n",
       "      <th>title</th>\n",
       "      <th>author</th>\n",
       "      <th>rating</th>\n",
       "      <th>num_pages</th>\n",
       "      <th>number_of_ratings</th>\n",
       "      <th>text_reviews_count</th>\n",
       "      <th>year</th>\n",
       "      <th>publisher</th>\n",
       "      <th>description</th>\n",
       "      <th>awards</th>\n",
       "      <th>genre</th>\n",
       "      <th>Movie</th>\n",
       "      <th>year_clean</th>\n",
       "    </tr>\n",
       "  </thead>\n",
       "  <tbody>\n",
       "    <tr>\n",
       "      <th>10337</th>\n",
       "      <td>236159</td>\n",
       "      <td>Dorothy and the Wizard of Oz  (Oz, #4)</td>\n",
       "      <td>L. Frank Baum</td>\n",
       "      <td>3.78</td>\n",
       "      <td>140</td>\n",
       "      <td>177</td>\n",
       "      <td>10</td>\n",
       "      <td>2005</td>\n",
       "      <td>Dodo Press</td>\n",
       "      <td>large format easy reading wonderful wizard oz ...</td>\n",
       "      <td>Not_given</td>\n",
       "      <td>children</td>\n",
       "      <td>no</td>\n",
       "      <td>2005</td>\n",
       "    </tr>\n",
       "    <tr>\n",
       "      <th>12247</th>\n",
       "      <td>892555</td>\n",
       "      <td>The Return of the King (The Lord of the Rings,...</td>\n",
       "      <td>J.R.R. Tolkien</td>\n",
       "      <td>4.51</td>\n",
       "      <td>436</td>\n",
       "      <td>341</td>\n",
       "      <td>19</td>\n",
       "      <td>2005</td>\n",
       "      <td>HarperCollins</td>\n",
       "      <td>classic hardback edition third volume lord rin...</td>\n",
       "      <td>Not_given</td>\n",
       "      <td>fantasy_paranormal_fiction</td>\n",
       "      <td>no</td>\n",
       "      <td>2005</td>\n",
       "    </tr>\n",
       "    <tr>\n",
       "      <th>3222</th>\n",
       "      <td>16546</td>\n",
       "      <td>Pictures by J.R.R. Tolkien</td>\n",
       "      <td>J.R.R. Tolkien</td>\n",
       "      <td>4.47</td>\n",
       "      <td>102</td>\n",
       "      <td>531</td>\n",
       "      <td>14</td>\n",
       "      <td>10/1/1992</td>\n",
       "      <td>Houghton Mifflin</td>\n",
       "      <td>sumptuous collection tolkien s art gain new un...</td>\n",
       "      <td>0</td>\n",
       "      <td>fantasy_paranormal_fiction</td>\n",
       "      <td>no</td>\n",
       "      <td>1992</td>\n",
       "    </tr>\n",
       "    <tr>\n",
       "      <th>9503</th>\n",
       "      <td>13528330</td>\n",
       "      <td>Starry River of the Sky</td>\n",
       "      <td>Grace Lin</td>\n",
       "      <td>4.08</td>\n",
       "      <td>288</td>\n",
       "      <td>249</td>\n",
       "      <td>75</td>\n",
       "      <td>2012</td>\n",
       "      <td>Little, Brown Books for Young Readers</td>\n",
       "      <td>bestselling author grace lin comes companion n...</td>\n",
       "      <td>Not_given</td>\n",
       "      <td>children</td>\n",
       "      <td>no</td>\n",
       "      <td>2012</td>\n",
       "    </tr>\n",
       "    <tr>\n",
       "      <th>4345</th>\n",
       "      <td>23625</td>\n",
       "      <td>The History of Middle-Earth Index (The History...</td>\n",
       "      <td>J.R.R. Tolkien</td>\n",
       "      <td>4.25</td>\n",
       "      <td>484</td>\n",
       "      <td>51</td>\n",
       "      <td>3</td>\n",
       "      <td>8/5/2002</td>\n",
       "      <td>HarperCollins</td>\n",
       "      <td>although j r r tolkien well known hobbit lord ...</td>\n",
       "      <td>0</td>\n",
       "      <td>fantasy_paranormal_fiction</td>\n",
       "      <td>no</td>\n",
       "      <td>2002</td>\n",
       "    </tr>\n",
       "  </tbody>\n",
       "</table>\n",
       "</div>"
      ],
      "text/plain": [
       "        book_id                                              title  \\\n",
       "10337    236159             Dorothy and the Wizard of Oz  (Oz, #4)   \n",
       "12247    892555  The Return of the King (The Lord of the Rings,...   \n",
       "3222      16546                         Pictures by J.R.R. Tolkien   \n",
       "9503   13528330                            Starry River of the Sky   \n",
       "4345      23625  The History of Middle-Earth Index (The History...   \n",
       "\n",
       "               author  rating  num_pages  number_of_ratings  \\\n",
       "10337   L. Frank Baum    3.78        140                177   \n",
       "12247  J.R.R. Tolkien    4.51        436                341   \n",
       "3222   J.R.R. Tolkien    4.47        102                531   \n",
       "9503        Grace Lin    4.08        288                249   \n",
       "4345   J.R.R. Tolkien    4.25        484                 51   \n",
       "\n",
       "      text_reviews_count       year                              publisher  \\\n",
       "10337                 10       2005                             Dodo Press   \n",
       "12247                 19       2005                          HarperCollins   \n",
       "3222                  14  10/1/1992                       Houghton Mifflin   \n",
       "9503                  75       2012  Little, Brown Books for Young Readers   \n",
       "4345                   3   8/5/2002                          HarperCollins   \n",
       "\n",
       "                                             description     awards  \\\n",
       "10337  large format easy reading wonderful wizard oz ...  Not_given   \n",
       "12247  classic hardback edition third volume lord rin...  Not_given   \n",
       "3222   sumptuous collection tolkien s art gain new un...          0   \n",
       "9503   bestselling author grace lin comes companion n...  Not_given   \n",
       "4345   although j r r tolkien well known hobbit lord ...          0   \n",
       "\n",
       "                            genre Movie  year_clean  \n",
       "10337                    children    no        2005  \n",
       "12247  fantasy_paranormal_fiction    no        2005  \n",
       "3222   fantasy_paranormal_fiction    no        1992  \n",
       "9503                     children    no        2012  \n",
       "4345   fantasy_paranormal_fiction    no        2002  "
      ]
     },
     "execution_count": 662,
     "metadata": {},
     "output_type": "execute_result"
    }
   ],
   "source": [
    "tf_description(project_df,similarity_mat_desc,indices,project_df['title'][19],6)"
   ]
  },
  {
   "cell_type": "code",
   "execution_count": 663,
   "metadata": {},
   "outputs": [
    {
     "name": "stdout",
     "output_type": "stream",
     "text": [
      "Book searched for: \n",
      "Angels & Demons (Robert Langdon  #1)\n",
      "Author:  Dan Brown\n",
      "Genre:  fantasy_paranormal_fiction\n",
      "Similar books\n"
     ]
    },
    {
     "data": {
      "text/html": [
       "<div>\n",
       "<style scoped>\n",
       "    .dataframe tbody tr th:only-of-type {\n",
       "        vertical-align: middle;\n",
       "    }\n",
       "\n",
       "    .dataframe tbody tr th {\n",
       "        vertical-align: top;\n",
       "    }\n",
       "\n",
       "    .dataframe thead th {\n",
       "        text-align: right;\n",
       "    }\n",
       "</style>\n",
       "<table border=\"1\" class=\"dataframe\">\n",
       "  <thead>\n",
       "    <tr style=\"text-align: right;\">\n",
       "      <th></th>\n",
       "      <th>book_id</th>\n",
       "      <th>title</th>\n",
       "      <th>author</th>\n",
       "      <th>rating</th>\n",
       "      <th>num_pages</th>\n",
       "      <th>number_of_ratings</th>\n",
       "      <th>text_reviews_count</th>\n",
       "      <th>year</th>\n",
       "      <th>publisher</th>\n",
       "      <th>description</th>\n",
       "      <th>awards</th>\n",
       "      <th>genre</th>\n",
       "      <th>Movie</th>\n",
       "      <th>year_clean</th>\n",
       "    </tr>\n",
       "  </thead>\n",
       "  <tbody>\n",
       "    <tr>\n",
       "      <th>14261</th>\n",
       "      <td>3336510</td>\n",
       "      <td>Angels &amp; Demons (Robert Langdon, #1)</td>\n",
       "      <td>Dan Brown</td>\n",
       "      <td>3.86</td>\n",
       "      <td>572</td>\n",
       "      <td>692</td>\n",
       "      <td>48</td>\n",
       "      <td>2001</td>\n",
       "      <td>Pocket Books</td>\n",
       "      <td>takes guts write novel combines ancient secret...</td>\n",
       "      <td>Not_given</td>\n",
       "      <td>mystery_thriller_crime</td>\n",
       "      <td>no</td>\n",
       "      <td>2001</td>\n",
       "    </tr>\n",
       "    <tr>\n",
       "      <th>219</th>\n",
       "      <td>968</td>\n",
       "      <td>The Da Vinci Code (Robert Langdon  #2)</td>\n",
       "      <td>Dan Brown</td>\n",
       "      <td>3.84</td>\n",
       "      <td>489</td>\n",
       "      <td>1679706</td>\n",
       "      <td>35877</td>\n",
       "      <td>3/28/2006</td>\n",
       "      <td>Anchor</td>\n",
       "      <td>isbn 9780307277671 moved edition while paris h...</td>\n",
       "      <td>9</td>\n",
       "      <td>fantasy_paranormal_fiction</td>\n",
       "      <td>no</td>\n",
       "      <td>2006</td>\n",
       "    </tr>\n",
       "    <tr>\n",
       "      <th>8105</th>\n",
       "      <td>6411961</td>\n",
       "      <td>The Lost Symbol</td>\n",
       "      <td>Dan Brown</td>\n",
       "      <td>3.71</td>\n",
       "      <td>509</td>\n",
       "      <td>519529</td>\n",
       "      <td>27182</td>\n",
       "      <td>September15th2009</td>\n",
       "      <td>Doubleday</td>\n",
       "      <td>lost will foundin stunning follow up global ph...</td>\n",
       "      <td>2</td>\n",
       "      <td>fantasy_paranormal_fiction</td>\n",
       "      <td>yes</td>\n",
       "      <td>2009</td>\n",
       "    </tr>\n",
       "    <tr>\n",
       "      <th>220</th>\n",
       "      <td>969</td>\n",
       "      <td>The Da Vinci Code</td>\n",
       "      <td>Dan Brown</td>\n",
       "      <td>3.84</td>\n",
       "      <td>467</td>\n",
       "      <td>1120</td>\n",
       "      <td>105</td>\n",
       "      <td>3/28/2006</td>\n",
       "      <td>Broadway Books</td>\n",
       "      <td>da vinci code intrigued thrilled millions read...</td>\n",
       "      <td>9</td>\n",
       "      <td>fantasy_paranormal_fiction</td>\n",
       "      <td>no</td>\n",
       "      <td>2006</td>\n",
       "    </tr>\n",
       "    <tr>\n",
       "      <th>202</th>\n",
       "      <td>848</td>\n",
       "      <td>No Price Too High: A Pentecostal Preacher Beco...</td>\n",
       "      <td>Alex C. Jones</td>\n",
       "      <td>4.27</td>\n",
       "      <td>259</td>\n",
       "      <td>51</td>\n",
       "      <td>7</td>\n",
       "      <td>4/30/2006</td>\n",
       "      <td>Ignatius Press</td>\n",
       "      <td>alex jones on fire pentecostal minister detroi...</td>\n",
       "      <td>0</td>\n",
       "      <td>Other</td>\n",
       "      <td>no</td>\n",
       "      <td>2006</td>\n",
       "    </tr>\n",
       "  </tbody>\n",
       "</table>\n",
       "</div>"
      ],
      "text/plain": [
       "       book_id                                              title  \\\n",
       "14261  3336510               Angels & Demons (Robert Langdon, #1)   \n",
       "219        968             The Da Vinci Code (Robert Langdon  #2)   \n",
       "8105   6411961                                    The Lost Symbol   \n",
       "220        969                                  The Da Vinci Code   \n",
       "202        848  No Price Too High: A Pentecostal Preacher Beco...   \n",
       "\n",
       "              author  rating  num_pages  number_of_ratings text_reviews_count  \\\n",
       "14261      Dan Brown    3.86        572                692                 48   \n",
       "219        Dan Brown    3.84        489            1679706              35877   \n",
       "8105       Dan Brown    3.71        509             519529              27182   \n",
       "220        Dan Brown    3.84        467               1120                105   \n",
       "202    Alex C. Jones    4.27        259                 51                  7   \n",
       "\n",
       "                    year       publisher  \\\n",
       "14261               2001    Pocket Books   \n",
       "219            3/28/2006          Anchor   \n",
       "8105   September15th2009       Doubleday   \n",
       "220            3/28/2006  Broadway Books   \n",
       "202            4/30/2006  Ignatius Press   \n",
       "\n",
       "                                             description     awards  \\\n",
       "14261  takes guts write novel combines ancient secret...  Not_given   \n",
       "219    isbn 9780307277671 moved edition while paris h...          9   \n",
       "8105   lost will foundin stunning follow up global ph...          2   \n",
       "220    da vinci code intrigued thrilled millions read...          9   \n",
       "202    alex jones on fire pentecostal minister detroi...          0   \n",
       "\n",
       "                            genre Movie  year_clean  \n",
       "14261      mystery_thriller_crime    no        2001  \n",
       "219    fantasy_paranormal_fiction    no        2006  \n",
       "8105   fantasy_paranormal_fiction   yes        2009  \n",
       "220    fantasy_paranormal_fiction    no        2006  \n",
       "202                         Other    no        2006  "
      ]
     },
     "execution_count": 663,
     "metadata": {},
     "output_type": "execute_result"
    }
   ],
   "source": [
    "tf_description(project_df,similarity_mat_desc,indices,project_df['title'][218],6)"
   ]
  },
  {
   "cell_type": "markdown",
   "metadata": {},
   "source": [
    "##### Observation\n",
    "It can be seen that even with only description data, the recommender system is getting a good result, but it can be improved by adding more features.\n",
    "When we searched for books similar to Harry Potter and the Prisoner of Azkaban, we got books similar to that. When we used The Lord of the Rings and as input, we go only a few books from the series same goes for Angels & Demons.\n",
    "\n",
    "We can add more features to it to see if it improves the system. We will use the same vectorizer. we will add another column desc_author_genre in the data frame where will concatenate the title, author, publisher, genre, and description.\n",
    "and use the same function that we used for the previous recommender system."
   ]
  },
  {
   "cell_type": "code",
   "execution_count": 664,
   "metadata": {},
   "outputs": [],
   "source": [
    "project_df=project_df[project_df['author']!='Not_given']"
   ]
  },
  {
   "cell_type": "markdown",
   "metadata": {},
   "source": [
    "As we are using auhtor name as a features , we are removing the entries where author name is not given ."
   ]
  },
  {
   "cell_type": "code",
   "execution_count": 665,
   "metadata": {},
   "outputs": [],
   "source": [
    "project_df['desc_author_genre']=project_df['title']+project_df['author']+project_df['genre']+project_df['publisher']+project_df['description']"
   ]
  },
  {
   "cell_type": "code",
   "execution_count": 666,
   "metadata": {},
   "outputs": [],
   "source": [
    "tfidf_matrix_more = tf_idf.fit_transform(project_df['desc_author_genre'])"
   ]
  },
  {
   "cell_type": "code",
   "execution_count": 667,
   "metadata": {},
   "outputs": [],
   "source": [
    "similarity_mat_more = cosine_similarity(tfidf_matrix_more)"
   ]
  },
  {
   "cell_type": "code",
   "execution_count": 668,
   "metadata": {},
   "outputs": [
    {
     "name": "stdout",
     "output_type": "stream",
     "text": [
      "Book searched for: \n",
      "Harry Potter and the Prisoner of Azkaban (Harry Potter  #3)\n",
      "Author:  J.K. Rowling\n",
      "Genre:  fantasy_paranormal_fiction\n",
      "Similar books\n"
     ]
    },
    {
     "data": {
      "text/html": [
       "<div>\n",
       "<style scoped>\n",
       "    .dataframe tbody tr th:only-of-type {\n",
       "        vertical-align: middle;\n",
       "    }\n",
       "\n",
       "    .dataframe tbody tr th {\n",
       "        vertical-align: top;\n",
       "    }\n",
       "\n",
       "    .dataframe thead th {\n",
       "        text-align: right;\n",
       "    }\n",
       "</style>\n",
       "<table border=\"1\" class=\"dataframe\">\n",
       "  <thead>\n",
       "    <tr style=\"text-align: right;\">\n",
       "      <th></th>\n",
       "      <th>book_id</th>\n",
       "      <th>title</th>\n",
       "      <th>author</th>\n",
       "      <th>rating</th>\n",
       "      <th>num_pages</th>\n",
       "      <th>number_of_ratings</th>\n",
       "      <th>text_reviews_count</th>\n",
       "      <th>year</th>\n",
       "      <th>publisher</th>\n",
       "      <th>description</th>\n",
       "      <th>awards</th>\n",
       "      <th>genre</th>\n",
       "      <th>Movie</th>\n",
       "      <th>year_clean</th>\n",
       "      <th>desc_author_genre</th>\n",
       "    </tr>\n",
       "  </thead>\n",
       "  <tbody>\n",
       "    <tr>\n",
       "      <th>12503</th>\n",
       "      <td>13563334</td>\n",
       "      <td>Harry Potter and the Chamber of Secrets (Harry...</td>\n",
       "      <td>J.K. Rowling</td>\n",
       "      <td>4.38</td>\n",
       "      <td>231</td>\n",
       "      <td>209</td>\n",
       "      <td>32</td>\n",
       "      <td>2012</td>\n",
       "      <td>Scholastic, Inc</td>\n",
       "      <td>chamber secrets opened hogwarts school witchcr...</td>\n",
       "      <td>Not_given</td>\n",
       "      <td>fantasy_paranormal_fiction</td>\n",
       "      <td>no</td>\n",
       "      <td>2012</td>\n",
       "      <td>Harry Potter and the Chamber of Secrets (Harry...</td>\n",
       "    </tr>\n",
       "    <tr>\n",
       "      <th>7429</th>\n",
       "      <td>43509</td>\n",
       "      <td>Harry Potter and the Goblet of Fire (Harry Pot...</td>\n",
       "      <td>J.K. Rowling</td>\n",
       "      <td>4.56</td>\n",
       "      <td>636</td>\n",
       "      <td>18754</td>\n",
       "      <td>906</td>\n",
       "      <td>7/8/2000</td>\n",
       "      <td>Bloomsbury</td>\n",
       "      <td>summer holidays dragging harry potter can t wa...</td>\n",
       "      <td>8</td>\n",
       "      <td>fantasy_paranormal_fiction</td>\n",
       "      <td>no</td>\n",
       "      <td>2000</td>\n",
       "      <td>Harry Potter and the Goblet of Fire (Harry Pot...</td>\n",
       "    </tr>\n",
       "    <tr>\n",
       "      <th>12568</th>\n",
       "      <td>124975</td>\n",
       "      <td>Harry Potter et l'Ordre du PhÃ©nix (Harry Pott...</td>\n",
       "      <td>J.K. Rowling</td>\n",
       "      <td>4.47</td>\n",
       "      <td>1031</td>\n",
       "      <td>187</td>\n",
       "      <td>13</td>\n",
       "      <td>2005</td>\n",
       "      <td>Folio Junior</td>\n",
       "      <td>french language edition harry potter et l ordr...</td>\n",
       "      <td>Not_given</td>\n",
       "      <td>fantasy_paranormal_fiction</td>\n",
       "      <td>no</td>\n",
       "      <td>2005</td>\n",
       "      <td>Harry Potter et l'Ordre du PhÃ©nix (Harry Pott...</td>\n",
       "    </tr>\n",
       "    <tr>\n",
       "      <th>2</th>\n",
       "      <td>4</td>\n",
       "      <td>Harry Potter and the Chamber of Secrets (Harry...</td>\n",
       "      <td>J.K. Rowling</td>\n",
       "      <td>4.42</td>\n",
       "      <td>352</td>\n",
       "      <td>6333</td>\n",
       "      <td>244</td>\n",
       "      <td>11/1/2003</td>\n",
       "      <td>Scholastic</td>\n",
       "      <td>dursleys mean hideous summer harry potter want...</td>\n",
       "      <td>7</td>\n",
       "      <td>fantasy_paranormal_fiction</td>\n",
       "      <td>no</td>\n",
       "      <td>2003</td>\n",
       "      <td>Harry Potter and the Chamber of Secrets (Harry...</td>\n",
       "    </tr>\n",
       "    <tr>\n",
       "      <th>2969</th>\n",
       "      <td>15190</td>\n",
       "      <td>Looking for God in Harry Potter</td>\n",
       "      <td>John Granger</td>\n",
       "      <td>4.13</td>\n",
       "      <td>234</td>\n",
       "      <td>1347</td>\n",
       "      <td>94</td>\n",
       "      <td>2/17/2006</td>\n",
       "      <td>SaltRiver</td>\n",
       "      <td>millions children even christian children read...</td>\n",
       "      <td>0</td>\n",
       "      <td>history_biography</td>\n",
       "      <td>no</td>\n",
       "      <td>2006</td>\n",
       "      <td>Looking for God in Harry PotterJohn Grangerhis...</td>\n",
       "    </tr>\n",
       "  </tbody>\n",
       "</table>\n",
       "</div>"
      ],
      "text/plain": [
       "        book_id                                              title  \\\n",
       "12503  13563334  Harry Potter and the Chamber of Secrets (Harry...   \n",
       "7429      43509  Harry Potter and the Goblet of Fire (Harry Pot...   \n",
       "12568    124975  Harry Potter et l'Ordre du PhÃ©nix (Harry Pott...   \n",
       "2             4  Harry Potter and the Chamber of Secrets (Harry...   \n",
       "2969      15190                    Looking for God in Harry Potter   \n",
       "\n",
       "             author  rating  num_pages  number_of_ratings text_reviews_count  \\\n",
       "12503  J.K. Rowling    4.38        231                209                 32   \n",
       "7429   J.K. Rowling    4.56        636              18754                906   \n",
       "12568  J.K. Rowling    4.47       1031                187                 13   \n",
       "2      J.K. Rowling    4.42        352               6333                244   \n",
       "2969   John Granger    4.13        234               1347                 94   \n",
       "\n",
       "            year        publisher  \\\n",
       "12503       2012  Scholastic, Inc   \n",
       "7429    7/8/2000       Bloomsbury   \n",
       "12568       2005     Folio Junior   \n",
       "2      11/1/2003       Scholastic   \n",
       "2969   2/17/2006        SaltRiver   \n",
       "\n",
       "                                             description     awards  \\\n",
       "12503  chamber secrets opened hogwarts school witchcr...  Not_given   \n",
       "7429   summer holidays dragging harry potter can t wa...          8   \n",
       "12568  french language edition harry potter et l ordr...  Not_given   \n",
       "2      dursleys mean hideous summer harry potter want...          7   \n",
       "2969   millions children even christian children read...          0   \n",
       "\n",
       "                            genre Movie  year_clean  \\\n",
       "12503  fantasy_paranormal_fiction    no        2012   \n",
       "7429   fantasy_paranormal_fiction    no        2000   \n",
       "12568  fantasy_paranormal_fiction    no        2005   \n",
       "2      fantasy_paranormal_fiction    no        2003   \n",
       "2969            history_biography    no        2006   \n",
       "\n",
       "                                       desc_author_genre  \n",
       "12503  Harry Potter and the Chamber of Secrets (Harry...  \n",
       "7429   Harry Potter and the Goblet of Fire (Harry Pot...  \n",
       "12568  Harry Potter et l'Ordre du PhÃ©nix (Harry Pott...  \n",
       "2      Harry Potter and the Chamber of Secrets (Harry...  \n",
       "2969   Looking for God in Harry PotterJohn Grangerhis...  "
      ]
     },
     "execution_count": 668,
     "metadata": {},
     "output_type": "execute_result"
    }
   ],
   "source": [
    "tf_description(project_df,similarity_mat_more,indices,project_df['title'][3],6)"
   ]
  },
  {
   "cell_type": "code",
   "execution_count": 669,
   "metadata": {},
   "outputs": [
    {
     "name": "stdout",
     "output_type": "stream",
     "text": [
      "Book searched for: \n",
      "Angels & Demons (Robert Langdon  #1)\n",
      "Author:  Dan Brown\n",
      "Genre:  fantasy_paranormal_fiction\n",
      "Similar books\n"
     ]
    },
    {
     "data": {
      "text/html": [
       "<div>\n",
       "<style scoped>\n",
       "    .dataframe tbody tr th:only-of-type {\n",
       "        vertical-align: middle;\n",
       "    }\n",
       "\n",
       "    .dataframe tbody tr th {\n",
       "        vertical-align: top;\n",
       "    }\n",
       "\n",
       "    .dataframe thead th {\n",
       "        text-align: right;\n",
       "    }\n",
       "</style>\n",
       "<table border=\"1\" class=\"dataframe\">\n",
       "  <thead>\n",
       "    <tr style=\"text-align: right;\">\n",
       "      <th></th>\n",
       "      <th>book_id</th>\n",
       "      <th>title</th>\n",
       "      <th>author</th>\n",
       "      <th>rating</th>\n",
       "      <th>num_pages</th>\n",
       "      <th>number_of_ratings</th>\n",
       "      <th>text_reviews_count</th>\n",
       "      <th>year</th>\n",
       "      <th>publisher</th>\n",
       "      <th>description</th>\n",
       "      <th>awards</th>\n",
       "      <th>genre</th>\n",
       "      <th>Movie</th>\n",
       "      <th>year_clean</th>\n",
       "      <th>desc_author_genre</th>\n",
       "    </tr>\n",
       "  </thead>\n",
       "  <tbody>\n",
       "    <tr>\n",
       "      <th>14261</th>\n",
       "      <td>3336510</td>\n",
       "      <td>Angels &amp; Demons (Robert Langdon, #1)</td>\n",
       "      <td>Dan Brown</td>\n",
       "      <td>3.86</td>\n",
       "      <td>572</td>\n",
       "      <td>692</td>\n",
       "      <td>48</td>\n",
       "      <td>2001</td>\n",
       "      <td>Pocket Books</td>\n",
       "      <td>takes guts write novel combines ancient secret...</td>\n",
       "      <td>Not_given</td>\n",
       "      <td>mystery_thriller_crime</td>\n",
       "      <td>no</td>\n",
       "      <td>2001</td>\n",
       "      <td>Angels &amp; Demons (Robert Langdon, #1)Dan Brownm...</td>\n",
       "    </tr>\n",
       "    <tr>\n",
       "      <th>219</th>\n",
       "      <td>968</td>\n",
       "      <td>The Da Vinci Code (Robert Langdon  #2)</td>\n",
       "      <td>Dan Brown</td>\n",
       "      <td>3.84</td>\n",
       "      <td>489</td>\n",
       "      <td>1679706</td>\n",
       "      <td>35877</td>\n",
       "      <td>3/28/2006</td>\n",
       "      <td>Anchor</td>\n",
       "      <td>isbn 9780307277671 moved edition while paris h...</td>\n",
       "      <td>9</td>\n",
       "      <td>fantasy_paranormal_fiction</td>\n",
       "      <td>no</td>\n",
       "      <td>2006</td>\n",
       "      <td>The Da Vinci Code (Robert Langdon  #2)Dan Brow...</td>\n",
       "    </tr>\n",
       "    <tr>\n",
       "      <th>8105</th>\n",
       "      <td>6411961</td>\n",
       "      <td>The Lost Symbol</td>\n",
       "      <td>Dan Brown</td>\n",
       "      <td>3.71</td>\n",
       "      <td>509</td>\n",
       "      <td>519529</td>\n",
       "      <td>27182</td>\n",
       "      <td>September15th2009</td>\n",
       "      <td>Doubleday</td>\n",
       "      <td>lost will foundin stunning follow up global ph...</td>\n",
       "      <td>2</td>\n",
       "      <td>fantasy_paranormal_fiction</td>\n",
       "      <td>yes</td>\n",
       "      <td>2009</td>\n",
       "      <td>The Lost SymbolDan Brownfantasy_paranormal_fic...</td>\n",
       "    </tr>\n",
       "    <tr>\n",
       "      <th>14130</th>\n",
       "      <td>17931602</td>\n",
       "      <td>Inferno (Robert Langdon, #4)</td>\n",
       "      <td>Dan Brown</td>\n",
       "      <td>3.81</td>\n",
       "      <td>565</td>\n",
       "      <td>158</td>\n",
       "      <td>26</td>\n",
       "      <td>2013</td>\n",
       "      <td>JC Lattes</td>\n",
       "      <td>dans ses best sellers internationaux da vinci ...</td>\n",
       "      <td>Not_given</td>\n",
       "      <td>mystery_thriller_crime</td>\n",
       "      <td>no</td>\n",
       "      <td>2013</td>\n",
       "      <td>Inferno (Robert Langdon, #4)Dan Brownmystery_t...</td>\n",
       "    </tr>\n",
       "    <tr>\n",
       "      <th>220</th>\n",
       "      <td>969</td>\n",
       "      <td>The Da Vinci Code</td>\n",
       "      <td>Dan Brown</td>\n",
       "      <td>3.84</td>\n",
       "      <td>467</td>\n",
       "      <td>1120</td>\n",
       "      <td>105</td>\n",
       "      <td>3/28/2006</td>\n",
       "      <td>Broadway Books</td>\n",
       "      <td>da vinci code intrigued thrilled millions read...</td>\n",
       "      <td>9</td>\n",
       "      <td>fantasy_paranormal_fiction</td>\n",
       "      <td>no</td>\n",
       "      <td>2006</td>\n",
       "      <td>The Da Vinci CodeDan Brownfantasy_paranormal_f...</td>\n",
       "    </tr>\n",
       "  </tbody>\n",
       "</table>\n",
       "</div>"
      ],
      "text/plain": [
       "        book_id                                   title     author  rating  \\\n",
       "14261   3336510    Angels & Demons (Robert Langdon, #1)  Dan Brown    3.86   \n",
       "219         968  The Da Vinci Code (Robert Langdon  #2)  Dan Brown    3.84   \n",
       "8105    6411961                         The Lost Symbol  Dan Brown    3.71   \n",
       "14130  17931602            Inferno (Robert Langdon, #4)  Dan Brown    3.81   \n",
       "220         969                       The Da Vinci Code  Dan Brown    3.84   \n",
       "\n",
       "       num_pages  number_of_ratings text_reviews_count               year  \\\n",
       "14261        572                692                 48               2001   \n",
       "219          489            1679706              35877          3/28/2006   \n",
       "8105         509             519529              27182  September15th2009   \n",
       "14130        565                158                 26               2013   \n",
       "220          467               1120                105          3/28/2006   \n",
       "\n",
       "            publisher                                        description  \\\n",
       "14261    Pocket Books  takes guts write novel combines ancient secret...   \n",
       "219            Anchor  isbn 9780307277671 moved edition while paris h...   \n",
       "8105        Doubleday  lost will foundin stunning follow up global ph...   \n",
       "14130       JC Lattes  dans ses best sellers internationaux da vinci ...   \n",
       "220    Broadway Books  da vinci code intrigued thrilled millions read...   \n",
       "\n",
       "          awards                       genre Movie  year_clean  \\\n",
       "14261  Not_given      mystery_thriller_crime    no        2001   \n",
       "219            9  fantasy_paranormal_fiction    no        2006   \n",
       "8105           2  fantasy_paranormal_fiction   yes        2009   \n",
       "14130  Not_given      mystery_thriller_crime    no        2013   \n",
       "220            9  fantasy_paranormal_fiction    no        2006   \n",
       "\n",
       "                                       desc_author_genre  \n",
       "14261  Angels & Demons (Robert Langdon, #1)Dan Brownm...  \n",
       "219    The Da Vinci Code (Robert Langdon  #2)Dan Brow...  \n",
       "8105   The Lost SymbolDan Brownfantasy_paranormal_fic...  \n",
       "14130  Inferno (Robert Langdon, #4)Dan Brownmystery_t...  \n",
       "220    The Da Vinci CodeDan Brownfantasy_paranormal_f...  "
      ]
     },
     "execution_count": 669,
     "metadata": {},
     "output_type": "execute_result"
    }
   ],
   "source": [
    "tf_description(project_df,similarity_mat_more,indices,project_df['title'][218],6)"
   ]
  },
  {
   "cell_type": "code",
   "execution_count": 670,
   "metadata": {},
   "outputs": [
    {
     "name": "stdout",
     "output_type": "stream",
     "text": [
      "Book searched for: \n",
      "The Lord of the Rings (The Lord of the Rings  #1-3)\n",
      "Author:  J.R.R. Tolkien\n",
      "Genre:  fantasy_paranormal_fiction\n",
      "Similar books\n"
     ]
    },
    {
     "data": {
      "text/html": [
       "<div>\n",
       "<style scoped>\n",
       "    .dataframe tbody tr th:only-of-type {\n",
       "        vertical-align: middle;\n",
       "    }\n",
       "\n",
       "    .dataframe tbody tr th {\n",
       "        vertical-align: top;\n",
       "    }\n",
       "\n",
       "    .dataframe thead th {\n",
       "        text-align: right;\n",
       "    }\n",
       "</style>\n",
       "<table border=\"1\" class=\"dataframe\">\n",
       "  <thead>\n",
       "    <tr style=\"text-align: right;\">\n",
       "      <th></th>\n",
       "      <th>book_id</th>\n",
       "      <th>title</th>\n",
       "      <th>author</th>\n",
       "      <th>rating</th>\n",
       "      <th>num_pages</th>\n",
       "      <th>number_of_ratings</th>\n",
       "      <th>text_reviews_count</th>\n",
       "      <th>year</th>\n",
       "      <th>publisher</th>\n",
       "      <th>description</th>\n",
       "      <th>awards</th>\n",
       "      <th>genre</th>\n",
       "      <th>Movie</th>\n",
       "      <th>year_clean</th>\n",
       "      <th>desc_author_genre</th>\n",
       "    </tr>\n",
       "  </thead>\n",
       "  <tbody>\n",
       "    <tr>\n",
       "      <th>509</th>\n",
       "      <td>2329</td>\n",
       "      <td>The History of the Lord of the Rings (The Hist...</td>\n",
       "      <td>J.R.R. Tolkien</td>\n",
       "      <td>4.38</td>\n",
       "      <td>1680</td>\n",
       "      <td>237</td>\n",
       "      <td>3</td>\n",
       "      <td>9/1/2000</td>\n",
       "      <td>Mariner Books</td>\n",
       "      <td>j r r tolkienâ s lord rings firmly acknowledge...</td>\n",
       "      <td>0</td>\n",
       "      <td>fantasy_paranormal_fiction</td>\n",
       "      <td>no</td>\n",
       "      <td>2000</td>\n",
       "      <td>The History of the Lord of the Rings (The Hist...</td>\n",
       "    </tr>\n",
       "    <tr>\n",
       "      <th>511</th>\n",
       "      <td>2331</td>\n",
       "      <td>The Lord of the Rings- 3 volumes set (The Lord...</td>\n",
       "      <td>J.R.R. Tolkien</td>\n",
       "      <td>4.50</td>\n",
       "      <td>1438</td>\n",
       "      <td>232</td>\n",
       "      <td>9</td>\n",
       "      <td>6/1/2005</td>\n",
       "      <td>Mariner Books</td>\n",
       "      <td>fifty years j r r tolkien s peerless fantasy a...</td>\n",
       "      <td>6</td>\n",
       "      <td>fantasy_paranormal_fiction</td>\n",
       "      <td>no</td>\n",
       "      <td>2005</td>\n",
       "      <td>The Lord of the Rings- 3 volumes set (The Lord...</td>\n",
       "    </tr>\n",
       "    <tr>\n",
       "      <th>2975</th>\n",
       "      <td>15232</td>\n",
       "      <td>The Lord of the Rings: A Reader's Companion</td>\n",
       "      <td>Wayne G. Hammond</td>\n",
       "      <td>4.35</td>\n",
       "      <td>416</td>\n",
       "      <td>4380</td>\n",
       "      <td>21</td>\n",
       "      <td>12/27/2005</td>\n",
       "      <td>Houghton Mifflin Harcourt</td>\n",
       "      <td>lord rings reader s companion internationally ...</td>\n",
       "      <td>1</td>\n",
       "      <td>fantasy_paranormal_fiction</td>\n",
       "      <td>no</td>\n",
       "      <td>2005</td>\n",
       "      <td>The Lord of the Rings: A Reader's CompanionWay...</td>\n",
       "    </tr>\n",
       "    <tr>\n",
       "      <th>12247</th>\n",
       "      <td>892555</td>\n",
       "      <td>The Return of the King (The Lord of the Rings,...</td>\n",
       "      <td>J.R.R. Tolkien</td>\n",
       "      <td>4.51</td>\n",
       "      <td>436</td>\n",
       "      <td>341</td>\n",
       "      <td>19</td>\n",
       "      <td>2005</td>\n",
       "      <td>HarperCollins</td>\n",
       "      <td>classic hardback edition third volume lord rin...</td>\n",
       "      <td>Not_given</td>\n",
       "      <td>fantasy_paranormal_fiction</td>\n",
       "      <td>no</td>\n",
       "      <td>2005</td>\n",
       "      <td>The Return of the King (The Lord of the Rings,...</td>\n",
       "    </tr>\n",
       "    <tr>\n",
       "      <th>2980</th>\n",
       "      <td>15260</td>\n",
       "      <td>The Magical Worlds of Lord of the Rings: The A...</td>\n",
       "      <td>David Colbert</td>\n",
       "      <td>4.08</td>\n",
       "      <td>208</td>\n",
       "      <td>2073</td>\n",
       "      <td>50</td>\n",
       "      <td>10/1/2002</td>\n",
       "      <td>Berkley Trade</td>\n",
       "      <td>nightmare key tolkien s mythology can gandalf ...</td>\n",
       "      <td>0</td>\n",
       "      <td>fantasy_paranormal_fiction</td>\n",
       "      <td>no</td>\n",
       "      <td>2002</td>\n",
       "      <td>The Magical Worlds of Lord of the Rings: The A...</td>\n",
       "    </tr>\n",
       "  </tbody>\n",
       "</table>\n",
       "</div>"
      ],
      "text/plain": [
       "       book_id                                              title  \\\n",
       "509       2329  The History of the Lord of the Rings (The Hist...   \n",
       "511       2331  The Lord of the Rings- 3 volumes set (The Lord...   \n",
       "2975     15232        The Lord of the Rings: A Reader's Companion   \n",
       "12247   892555  The Return of the King (The Lord of the Rings,...   \n",
       "2980     15260  The Magical Worlds of Lord of the Rings: The A...   \n",
       "\n",
       "                 author  rating  num_pages  number_of_ratings  \\\n",
       "509      J.R.R. Tolkien    4.38       1680                237   \n",
       "511      J.R.R. Tolkien    4.50       1438                232   \n",
       "2975   Wayne G. Hammond    4.35        416               4380   \n",
       "12247    J.R.R. Tolkien    4.51        436                341   \n",
       "2980      David Colbert    4.08        208               2073   \n",
       "\n",
       "      text_reviews_count        year                  publisher  \\\n",
       "509                    3    9/1/2000              Mariner Books   \n",
       "511                    9    6/1/2005              Mariner Books   \n",
       "2975                  21  12/27/2005  Houghton Mifflin Harcourt   \n",
       "12247                 19        2005              HarperCollins   \n",
       "2980                  50   10/1/2002              Berkley Trade   \n",
       "\n",
       "                                             description     awards  \\\n",
       "509    j r r tolkienâ s lord rings firmly acknowledge...          0   \n",
       "511    fifty years j r r tolkien s peerless fantasy a...          6   \n",
       "2975   lord rings reader s companion internationally ...          1   \n",
       "12247  classic hardback edition third volume lord rin...  Not_given   \n",
       "2980   nightmare key tolkien s mythology can gandalf ...          0   \n",
       "\n",
       "                            genre Movie  year_clean  \\\n",
       "509    fantasy_paranormal_fiction    no        2000   \n",
       "511    fantasy_paranormal_fiction    no        2005   \n",
       "2975   fantasy_paranormal_fiction    no        2005   \n",
       "12247  fantasy_paranormal_fiction    no        2005   \n",
       "2980   fantasy_paranormal_fiction    no        2002   \n",
       "\n",
       "                                       desc_author_genre  \n",
       "509    The History of the Lord of the Rings (The Hist...  \n",
       "511    The Lord of the Rings- 3 volumes set (The Lord...  \n",
       "2975   The Lord of the Rings: A Reader's CompanionWay...  \n",
       "12247  The Return of the King (The Lord of the Rings,...  \n",
       "2980   The Magical Worlds of Lord of the Rings: The A...  "
      ]
     },
     "execution_count": 670,
     "metadata": {},
     "output_type": "execute_result"
    }
   ],
   "source": [
    "tf_description(project_df,similarity_mat_more,indices,project_df['title'][19],6)"
   ]
  },
  {
   "cell_type": "markdown",
   "metadata": {},
   "source": [
    "As we can see that adding more features made the recommended system better. When searched for Harry Potter and the Prisoner of Azkaban, Angels & Demons, and The Lord of the Rings we got att the books of the series. "
   ]
  },
  {
   "cell_type": "markdown",
   "metadata": {},
   "source": [
    "## Recommender System 2\n",
    "Now we will try to take a different approach, We will try using the KNN algorithm to try to find similar books. \n",
    "k-Nearest-Neighbors (k-NN) is a supervised machine learning model.k-NN models work by taking a data point and looking at the ‘k’ closest labeled data points. The data point is then assigned the label of the majority of the ‘k’ closest points.ref: https://towardsdatascience.com/building-a-k-nearest-neighbors-k-nn-model-with-scikit-learn-51209555453a"
   ]
  },
  {
   "cell_type": "code",
   "execution_count": 776,
   "metadata": {},
   "outputs": [
    {
     "data": {
      "image/jpeg": "[encoded data removed]",
      "text/plain": [
       "<IPython.core.display.Image object>"
      ]
     },
     "execution_count": 776,
     "metadata": {
      "image/jpeg": {
       "height": 300,
       "width": 300
      }
     },
     "output_type": "execute_result"
    }
   ],
   "source": [
    "Image(filename='data/images/knn.jpeg',height=300,width=300) "
   ]
  },
  {
   "cell_type": "code",
   "execution_count": 777,
   "metadata": {},
   "outputs": [
    {
     "data": {
      "text/html": [
       "<div>\n",
       "<style scoped>\n",
       "    .dataframe tbody tr th:only-of-type {\n",
       "        vertical-align: middle;\n",
       "    }\n",
       "\n",
       "    .dataframe tbody tr th {\n",
       "        vertical-align: top;\n",
       "    }\n",
       "\n",
       "    .dataframe thead th {\n",
       "        text-align: right;\n",
       "    }\n",
       "</style>\n",
       "<table border=\"1\" class=\"dataframe\">\n",
       "  <thead>\n",
       "    <tr style=\"text-align: right;\">\n",
       "      <th></th>\n",
       "      <th>book_id</th>\n",
       "      <th>title</th>\n",
       "      <th>author</th>\n",
       "      <th>rating</th>\n",
       "      <th>num_pages</th>\n",
       "      <th>number_of_ratings</th>\n",
       "      <th>text_reviews_count</th>\n",
       "      <th>year</th>\n",
       "      <th>publisher</th>\n",
       "      <th>description</th>\n",
       "      <th>awards</th>\n",
       "      <th>genre</th>\n",
       "      <th>Movie</th>\n",
       "      <th>year_clean</th>\n",
       "      <th>desc_author_genre</th>\n",
       "    </tr>\n",
       "  </thead>\n",
       "  <tbody>\n",
       "    <tr>\n",
       "      <th>0</th>\n",
       "      <td>1</td>\n",
       "      <td>Harry Potter and the Half-Blood Prince (Harry ...</td>\n",
       "      <td>J.K. Rowling</td>\n",
       "      <td>4.57</td>\n",
       "      <td>652</td>\n",
       "      <td>2095690</td>\n",
       "      <td>27591</td>\n",
       "      <td>9/16/2006</td>\n",
       "      <td>Scholastic Inc.</td>\n",
       "      <td>war voldemort going well even muggle governmen...</td>\n",
       "      <td>3</td>\n",
       "      <td>fantasy_paranormal_fiction</td>\n",
       "      <td>yes</td>\n",
       "      <td>2006</td>\n",
       "      <td>Harry Potter and the Half-Blood Prince (Harry ...</td>\n",
       "    </tr>\n",
       "    <tr>\n",
       "      <th>1</th>\n",
       "      <td>2</td>\n",
       "      <td>Harry Potter and the Order of the Phoenix (Har...</td>\n",
       "      <td>J.K. Rowling</td>\n",
       "      <td>4.49</td>\n",
       "      <td>870</td>\n",
       "      <td>2153167</td>\n",
       "      <td>29221</td>\n",
       "      <td>9/1/2004</td>\n",
       "      <td>Scholastic Inc.</td>\n",
       "      <td>door end silent corridor itâ s haunting harry ...</td>\n",
       "      <td>9</td>\n",
       "      <td>fantasy_paranormal_fiction</td>\n",
       "      <td>yes</td>\n",
       "      <td>2004</td>\n",
       "      <td>Harry Potter and the Order of the Phoenix (Har...</td>\n",
       "    </tr>\n",
       "  </tbody>\n",
       "</table>\n",
       "</div>"
      ],
      "text/plain": [
       "   book_id                                              title        author  \\\n",
       "0        1  Harry Potter and the Half-Blood Prince (Harry ...  J.K. Rowling   \n",
       "1        2  Harry Potter and the Order of the Phoenix (Har...  J.K. Rowling   \n",
       "\n",
       "   rating  num_pages  number_of_ratings text_reviews_count       year  \\\n",
       "0    4.57        652            2095690              27591  9/16/2006   \n",
       "1    4.49        870            2153167              29221   9/1/2004   \n",
       "\n",
       "         publisher                                        description awards  \\\n",
       "0  Scholastic Inc.  war voldemort going well even muggle governmen...      3   \n",
       "1  Scholastic Inc.  door end silent corridor itâ s haunting harry ...      9   \n",
       "\n",
       "                        genre Movie  year_clean  \\\n",
       "0  fantasy_paranormal_fiction   yes        2006   \n",
       "1  fantasy_paranormal_fiction   yes        2004   \n",
       "\n",
       "                                   desc_author_genre  \n",
       "0  Harry Potter and the Half-Blood Prince (Harry ...  \n",
       "1  Harry Potter and the Order of the Phoenix (Har...  "
      ]
     },
     "execution_count": 777,
     "metadata": {},
     "output_type": "execute_result"
    }
   ],
   "source": [
    "project_df.head(2)"
   ]
  },
  {
   "cell_type": "code",
   "execution_count": 778,
   "metadata": {},
   "outputs": [],
   "source": [
    "project_df_knn=project_df[['title','rating','num_pages','number_of_ratings','text_reviews_count','genre','year_clean']].copy()"
   ]
  },
  {
   "cell_type": "markdown",
   "metadata": {},
   "source": [
    "Since in the first recommender system we didn't use features like rating, revies, year, etc. This time we will try to use the time to find similar books.\n",
    "\n",
    "for that first, we need to do some data formatting."
   ]
  },
  {
   "cell_type": "code",
   "execution_count": 779,
   "metadata": {},
   "outputs": [
    {
     "data": {
      "text/html": [
       "<div>\n",
       "<style scoped>\n",
       "    .dataframe tbody tr th:only-of-type {\n",
       "        vertical-align: middle;\n",
       "    }\n",
       "\n",
       "    .dataframe tbody tr th {\n",
       "        vertical-align: top;\n",
       "    }\n",
       "\n",
       "    .dataframe thead th {\n",
       "        text-align: right;\n",
       "    }\n",
       "</style>\n",
       "<table border=\"1\" class=\"dataframe\">\n",
       "  <thead>\n",
       "    <tr style=\"text-align: right;\">\n",
       "      <th></th>\n",
       "      <th>title</th>\n",
       "      <th>rating</th>\n",
       "      <th>num_pages</th>\n",
       "      <th>number_of_ratings</th>\n",
       "      <th>text_reviews_count</th>\n",
       "      <th>genre</th>\n",
       "      <th>year_clean</th>\n",
       "    </tr>\n",
       "  </thead>\n",
       "  <tbody>\n",
       "    <tr>\n",
       "      <th>0</th>\n",
       "      <td>Harry Potter and the Half-Blood Prince (Harry ...</td>\n",
       "      <td>4.57</td>\n",
       "      <td>652</td>\n",
       "      <td>2095690</td>\n",
       "      <td>27591</td>\n",
       "      <td>fantasy_paranormal_fiction</td>\n",
       "      <td>2006</td>\n",
       "    </tr>\n",
       "    <tr>\n",
       "      <th>1</th>\n",
       "      <td>Harry Potter and the Order of the Phoenix (Har...</td>\n",
       "      <td>4.49</td>\n",
       "      <td>870</td>\n",
       "      <td>2153167</td>\n",
       "      <td>29221</td>\n",
       "      <td>fantasy_paranormal_fiction</td>\n",
       "      <td>2004</td>\n",
       "    </tr>\n",
       "  </tbody>\n",
       "</table>\n",
       "</div>"
      ],
      "text/plain": [
       "                                               title  rating  num_pages  \\\n",
       "0  Harry Potter and the Half-Blood Prince (Harry ...    4.57        652   \n",
       "1  Harry Potter and the Order of the Phoenix (Har...    4.49        870   \n",
       "\n",
       "   number_of_ratings text_reviews_count                       genre  \\\n",
       "0            2095690              27591  fantasy_paranormal_fiction   \n",
       "1            2153167              29221  fantasy_paranormal_fiction   \n",
       "\n",
       "   year_clean  \n",
       "0        2006  \n",
       "1        2004  "
      ]
     },
     "execution_count": 779,
     "metadata": {},
     "output_type": "execute_result"
    }
   ],
   "source": [
    "project_df_knn.head(2)"
   ]
  },
  {
   "cell_type": "code",
   "execution_count": 780,
   "metadata": {},
   "outputs": [
    {
     "data": {
      "text/plain": [
       "<AxesSubplot:xlabel='rating'>"
      ]
     },
     "execution_count": 780,
     "metadata": {},
     "output_type": "execute_result"
    },
    {
     "data": {
      "image/png": "[encoded data removed]",
      "text/plain": [
       "<Figure size 432x288 with 1 Axes>"
      ]
     },
     "metadata": {
      "needs_background": "light"
     },
     "output_type": "display_data"
    }
   ],
   "source": [
    "sns.distplot(project_df_knn['rating'])"
   ]
  },
  {
   "cell_type": "markdown",
   "metadata": {},
   "source": [
    "The data is a bit skewed so we can remove data that has less than 2.5 rating"
   ]
  },
  {
   "cell_type": "code",
   "execution_count": 781,
   "metadata": {},
   "outputs": [
    {
     "data": {
      "text/plain": [
       "0.00    16\n",
       "2.00     4\n",
       "2.45     1\n",
       "1.67     1\n",
       "1.91     1\n",
       "2.40     1\n",
       "2.26     1\n",
       "1.00     1\n",
       "Name: rating, dtype: int64"
      ]
     },
     "execution_count": 781,
     "metadata": {},
     "output_type": "execute_result"
    }
   ],
   "source": [
    "project_df_knn[project_df_knn['rating']<2.5]['rating'].value_counts()"
   ]
  },
  {
   "cell_type": "markdown",
   "metadata": {},
   "source": [
    "We are not loosing too much data so this is dooable "
   ]
  },
  {
   "cell_type": "code",
   "execution_count": 782,
   "metadata": {},
   "outputs": [],
   "source": [
    "project_df_knn=project_df_knn[project_df_knn['rating']>2.5]"
   ]
  },
  {
   "cell_type": "markdown",
   "metadata": {},
   "source": [
    "We can classify the rating into groups to get a better cluster."
   ]
  },
  {
   "cell_type": "code",
   "execution_count": 783,
   "metadata": {},
   "outputs": [],
   "source": [
    "project_df_knn.loc[ (project_df_knn['rating'] > 2) & (project_df_knn['rating'] <= 3), 'rating_between'] = \"between 2 and 3\"\n",
    "project_df_knn.loc[ (project_df_knn['rating'] > 3) & (project_df_knn['rating'] <= 4), 'rating_between'] = \"between 3 and 4\"\n",
    "project_df_knn.loc[ (project_df_knn['rating'] > 4) & (project_df_knn['rating'] <= 5), 'rating_between'] = \"between 4 and 5\""
   ]
  },
  {
   "cell_type": "code",
   "execution_count": 784,
   "metadata": {},
   "outputs": [],
   "source": [
    "project_df_knn.drop('rating',axis=1,inplace=True) # now we can drop the column"
   ]
  },
  {
   "cell_type": "markdown",
   "metadata": {},
   "source": [
    "Now we can drop the column as we dont need that anymore ."
   ]
  },
  {
   "cell_type": "code",
   "execution_count": 785,
   "metadata": {},
   "outputs": [
    {
     "data": {
      "text/plain": [
       "<AxesSubplot:xlabel='num_pages'>"
      ]
     },
     "execution_count": 785,
     "metadata": {},
     "output_type": "execute_result"
    },
    {
     "data": {
      "image/png": "[encoded data removed]",
      "text/plain": [
       "<Figure size 432x288 with 1 Axes>"
      ]
     },
     "metadata": {
      "needs_background": "light"
     },
     "output_type": "display_data"
    }
   ],
   "source": [
    "sns.boxplot(project_df_knn['num_pages'])"
   ]
  },
  {
   "cell_type": "markdown",
   "metadata": {},
   "source": [
    "There are a lot of outliers that can be removed to get a cleaner data"
   ]
  },
  {
   "cell_type": "code",
   "execution_count": 786,
   "metadata": {},
   "outputs": [],
   "source": [
    "project_df_knn=project_df_knn[project_df_knn['num_pages']<1200]"
   ]
  },
  {
   "cell_type": "code",
   "execution_count": 787,
   "metadata": {},
   "outputs": [
    {
     "data": {
      "text/plain": [
       "<AxesSubplot:xlabel='number_of_ratings'>"
      ]
     },
     "execution_count": 787,
     "metadata": {},
     "output_type": "execute_result"
    },
    {
     "data": {
      "image/png": "[encoded data removed]",
      "text/plain": [
       "<Figure size 432x288 with 1 Axes>"
      ]
     },
     "metadata": {
      "needs_background": "light"
     },
     "output_type": "display_data"
    }
   ],
   "source": [
    "sns.distplot(project_df_knn['number_of_ratings'])"
   ]
  },
  {
   "cell_type": "markdown",
   "metadata": {},
   "source": [
    "The data is very much skewed so applying log transformation to the data might make it more evenly di"
   ]
  },
  {
   "cell_type": "code",
   "execution_count": 788,
   "metadata": {},
   "outputs": [
    {
     "name": "stderr",
     "output_type": "stream",
     "text": [
      "c:\\python38\\lib\\site-packages\\pandas\\core\\series.py:679: RuntimeWarning: divide by zero encountered in log\n",
      "  result = getattr(ufunc, method)(*inputs, **kwargs)\n"
     ]
    }
   ],
   "source": [
    "project_df_knn['no_ratingslognorm'] = np.log(project_df_knn['number_of_ratings'])"
   ]
  },
  {
   "cell_type": "code",
   "execution_count": 789,
   "metadata": {},
   "outputs": [],
   "source": [
    "project_df_knn=project_df_knn[project_df_knn['no_ratingslognorm']>1.8]"
   ]
  },
  {
   "cell_type": "code",
   "execution_count": 790,
   "metadata": {},
   "outputs": [],
   "source": [
    "project_df_knn=project_df_knn[project_df_knn['no_ratingslognorm']<12.2]"
   ]
  },
  {
   "cell_type": "code",
   "execution_count": 791,
   "metadata": {},
   "outputs": [
    {
     "data": {
      "text/plain": [
       "<AxesSubplot:xlabel='no_ratingslognorm'>"
      ]
     },
     "execution_count": 791,
     "metadata": {},
     "output_type": "execute_result"
    },
    {
     "data": {
      "image/png": "[encoded data removed]",
      "text/plain": [
       "<Figure size 432x288 with 1 Axes>"
      ]
     },
     "metadata": {
      "needs_background": "light"
     },
     "output_type": "display_data"
    }
   ],
   "source": [
    "sns.distplot(project_df_knn['no_ratingslognorm'])"
   ]
  },
  {
   "cell_type": "markdown",
   "metadata": {},
   "source": [
    "It might not be a perfect distribution but its better than we had"
   ]
  },
  {
   "cell_type": "code",
   "execution_count": 22,
   "metadata": {},
   "outputs": [],
   "source": [
    "def to_int(text):\n",
    "    return int(text)"
   ]
  },
  {
   "cell_type": "code",
   "execution_count": 793,
   "metadata": {},
   "outputs": [],
   "source": [
    "project_df_knn=project_df_knn[project_df_knn['text_reviews_count']!='Unavailable']\n",
    "project_df_knn['text_reviews_count']=project_df_knn['text_reviews_count'].apply(lambda x :to_int(x) )"
   ]
  },
  {
   "cell_type": "markdown",
   "metadata": {},
   "source": [
    "We are removing entries with no text revies and convert them into integers"
   ]
  },
  {
   "cell_type": "code",
   "execution_count": 825,
   "metadata": {},
   "outputs": [
    {
     "data": {
      "text/html": [
       "<div>\n",
       "<style scoped>\n",
       "    .dataframe tbody tr th:only-of-type {\n",
       "        vertical-align: middle;\n",
       "    }\n",
       "\n",
       "    .dataframe tbody tr th {\n",
       "        vertical-align: top;\n",
       "    }\n",
       "\n",
       "    .dataframe thead th {\n",
       "        text-align: right;\n",
       "    }\n",
       "</style>\n",
       "<table border=\"1\" class=\"dataframe\">\n",
       "  <thead>\n",
       "    <tr style=\"text-align: right;\">\n",
       "      <th></th>\n",
       "      <th>title</th>\n",
       "      <th>num_pages</th>\n",
       "      <th>number_of_ratings</th>\n",
       "      <th>text_reviews_count</th>\n",
       "      <th>genre</th>\n",
       "      <th>year_clean</th>\n",
       "      <th>rating_between</th>\n",
       "      <th>no_ratingslognorm</th>\n",
       "    </tr>\n",
       "  </thead>\n",
       "  <tbody>\n",
       "    <tr>\n",
       "      <th>2</th>\n",
       "      <td>Harry Potter and the Chamber of Secrets (Harry...</td>\n",
       "      <td>352</td>\n",
       "      <td>6333</td>\n",
       "      <td>244</td>\n",
       "      <td>fantasy_paranormal_fiction</td>\n",
       "      <td>2003</td>\n",
       "      <td>between 4 and 5</td>\n",
       "      <td>8.753529</td>\n",
       "    </tr>\n",
       "    <tr>\n",
       "      <th>4</th>\n",
       "      <td>Unauthorized Harry Potter Book Seven News: \"Ha...</td>\n",
       "      <td>152</td>\n",
       "      <td>19</td>\n",
       "      <td>1</td>\n",
       "      <td>not_given</td>\n",
       "      <td>2005</td>\n",
       "      <td>between 3 and 4</td>\n",
       "      <td>2.944439</td>\n",
       "    </tr>\n",
       "  </tbody>\n",
       "</table>\n",
       "</div>"
      ],
      "text/plain": [
       "                                               title  num_pages  \\\n",
       "2  Harry Potter and the Chamber of Secrets (Harry...        352   \n",
       "4  Unauthorized Harry Potter Book Seven News: \"Ha...        152   \n",
       "\n",
       "   number_of_ratings  text_reviews_count                       genre  \\\n",
       "2               6333                 244  fantasy_paranormal_fiction   \n",
       "4                 19                   1                   not_given   \n",
       "\n",
       "   year_clean   rating_between  no_ratingslognorm  \n",
       "2        2003  between 4 and 5           8.753529  \n",
       "4        2005  between 3 and 4           2.944439  "
      ]
     },
     "execution_count": 825,
     "metadata": {},
     "output_type": "execute_result"
    }
   ],
   "source": [
    "project_df_knn.head(2)"
   ]
  },
  {
   "cell_type": "code",
   "execution_count": 799,
   "metadata": {},
   "outputs": [],
   "source": [
    "temp_df=pd.get_dummies(project_df_knn[['genre','rating_between']],drop_first=True)"
   ]
  },
  {
   "cell_type": "markdown",
   "metadata": {},
   "source": [
    "We can convert the categorical values to one hot enconding for the model"
   ]
  },
  {
   "cell_type": "code",
   "execution_count": 800,
   "metadata": {},
   "outputs": [
    {
     "data": {
      "text/html": [
       "<div>\n",
       "<style scoped>\n",
       "    .dataframe tbody tr th:only-of-type {\n",
       "        vertical-align: middle;\n",
       "    }\n",
       "\n",
       "    .dataframe tbody tr th {\n",
       "        vertical-align: top;\n",
       "    }\n",
       "\n",
       "    .dataframe thead th {\n",
       "        text-align: right;\n",
       "    }\n",
       "</style>\n",
       "<table border=\"1\" class=\"dataframe\">\n",
       "  <thead>\n",
       "    <tr style=\"text-align: right;\">\n",
       "      <th></th>\n",
       "      <th>title</th>\n",
       "      <th>num_pages</th>\n",
       "      <th>number_of_ratings</th>\n",
       "      <th>text_reviews_count</th>\n",
       "      <th>year_clean</th>\n",
       "      <th>no_ratingslognorm</th>\n",
       "      <th>genre_Other</th>\n",
       "      <th>genre_children</th>\n",
       "      <th>genre_comics</th>\n",
       "      <th>genre_fantasy_paranormal_fiction</th>\n",
       "      <th>genre_history_biography</th>\n",
       "      <th>genre_mystery_thriller_crime</th>\n",
       "      <th>genre_not_given</th>\n",
       "      <th>genre_poetry_philosophy</th>\n",
       "      <th>genre_romance</th>\n",
       "      <th>genre_young_adult</th>\n",
       "      <th>rating_between_between 3 and 4</th>\n",
       "      <th>rating_between_between 4 and 5</th>\n",
       "    </tr>\n",
       "  </thead>\n",
       "  <tbody>\n",
       "    <tr>\n",
       "      <th>2</th>\n",
       "      <td>Harry Potter and the Chamber of Secrets (Harry...</td>\n",
       "      <td>352</td>\n",
       "      <td>6333</td>\n",
       "      <td>244</td>\n",
       "      <td>2003</td>\n",
       "      <td>8.753529</td>\n",
       "      <td>0</td>\n",
       "      <td>0</td>\n",
       "      <td>0</td>\n",
       "      <td>1</td>\n",
       "      <td>0</td>\n",
       "      <td>0</td>\n",
       "      <td>0</td>\n",
       "      <td>0</td>\n",
       "      <td>0</td>\n",
       "      <td>0</td>\n",
       "      <td>0</td>\n",
       "      <td>1</td>\n",
       "    </tr>\n",
       "    <tr>\n",
       "      <th>4</th>\n",
       "      <td>Unauthorized Harry Potter Book Seven News: \"Ha...</td>\n",
       "      <td>152</td>\n",
       "      <td>19</td>\n",
       "      <td>1</td>\n",
       "      <td>2005</td>\n",
       "      <td>2.944439</td>\n",
       "      <td>0</td>\n",
       "      <td>0</td>\n",
       "      <td>0</td>\n",
       "      <td>0</td>\n",
       "      <td>0</td>\n",
       "      <td>0</td>\n",
       "      <td>1</td>\n",
       "      <td>0</td>\n",
       "      <td>0</td>\n",
       "      <td>0</td>\n",
       "      <td>1</td>\n",
       "      <td>0</td>\n",
       "    </tr>\n",
       "    <tr>\n",
       "      <th>6</th>\n",
       "      <td>The Ultimate Hitchhiker's Guide: Five Complete...</td>\n",
       "      <td>815</td>\n",
       "      <td>3628</td>\n",
       "      <td>254</td>\n",
       "      <td>2005</td>\n",
       "      <td>8.196437</td>\n",
       "      <td>0</td>\n",
       "      <td>0</td>\n",
       "      <td>0</td>\n",
       "      <td>1</td>\n",
       "      <td>0</td>\n",
       "      <td>0</td>\n",
       "      <td>0</td>\n",
       "      <td>0</td>\n",
       "      <td>0</td>\n",
       "      <td>0</td>\n",
       "      <td>0</td>\n",
       "      <td>1</td>\n",
       "    </tr>\n",
       "    <tr>\n",
       "      <th>8</th>\n",
       "      <td>The Hitchhiker's Guide to the Galaxy (Hitchhik...</td>\n",
       "      <td>215</td>\n",
       "      <td>4930</td>\n",
       "      <td>460</td>\n",
       "      <td>2004</td>\n",
       "      <td>8.503094</td>\n",
       "      <td>0</td>\n",
       "      <td>0</td>\n",
       "      <td>0</td>\n",
       "      <td>1</td>\n",
       "      <td>0</td>\n",
       "      <td>0</td>\n",
       "      <td>0</td>\n",
       "      <td>0</td>\n",
       "      <td>0</td>\n",
       "      <td>0</td>\n",
       "      <td>0</td>\n",
       "      <td>1</td>\n",
       "    </tr>\n",
       "    <tr>\n",
       "      <th>9</th>\n",
       "      <td>The Ultimate Hitchhiker's Guide (Hitchhiker's ...</td>\n",
       "      <td>815</td>\n",
       "      <td>2877</td>\n",
       "      <td>195</td>\n",
       "      <td>1996</td>\n",
       "      <td>7.964503</td>\n",
       "      <td>0</td>\n",
       "      <td>0</td>\n",
       "      <td>0</td>\n",
       "      <td>1</td>\n",
       "      <td>0</td>\n",
       "      <td>0</td>\n",
       "      <td>0</td>\n",
       "      <td>0</td>\n",
       "      <td>0</td>\n",
       "      <td>0</td>\n",
       "      <td>0</td>\n",
       "      <td>1</td>\n",
       "    </tr>\n",
       "  </tbody>\n",
       "</table>\n",
       "</div>"
      ],
      "text/plain": [
       "                                               title  num_pages  \\\n",
       "2  Harry Potter and the Chamber of Secrets (Harry...        352   \n",
       "4  Unauthorized Harry Potter Book Seven News: \"Ha...        152   \n",
       "6  The Ultimate Hitchhiker's Guide: Five Complete...        815   \n",
       "8  The Hitchhiker's Guide to the Galaxy (Hitchhik...        215   \n",
       "9  The Ultimate Hitchhiker's Guide (Hitchhiker's ...        815   \n",
       "\n",
       "   number_of_ratings  text_reviews_count  year_clean  no_ratingslognorm  \\\n",
       "2               6333                 244        2003           8.753529   \n",
       "4                 19                   1        2005           2.944439   \n",
       "6               3628                 254        2005           8.196437   \n",
       "8               4930                 460        2004           8.503094   \n",
       "9               2877                 195        1996           7.964503   \n",
       "\n",
       "   genre_Other  genre_children  genre_comics  \\\n",
       "2            0               0             0   \n",
       "4            0               0             0   \n",
       "6            0               0             0   \n",
       "8            0               0             0   \n",
       "9            0               0             0   \n",
       "\n",
       "   genre_fantasy_paranormal_fiction  genre_history_biography  \\\n",
       "2                                 1                        0   \n",
       "4                                 0                        0   \n",
       "6                                 1                        0   \n",
       "8                                 1                        0   \n",
       "9                                 1                        0   \n",
       "\n",
       "   genre_mystery_thriller_crime  genre_not_given  genre_poetry_philosophy  \\\n",
       "2                             0                0                        0   \n",
       "4                             0                1                        0   \n",
       "6                             0                0                        0   \n",
       "8                             0                0                        0   \n",
       "9                             0                0                        0   \n",
       "\n",
       "   genre_romance  genre_young_adult  rating_between_between 3 and 4  \\\n",
       "2              0                  0                               0   \n",
       "4              0                  0                               1   \n",
       "6              0                  0                               0   \n",
       "8              0                  0                               0   \n",
       "9              0                  0                               0   \n",
       "\n",
       "   rating_between_between 4 and 5  \n",
       "2                               1  \n",
       "4                               0  \n",
       "6                               1  \n",
       "8                               1  \n",
       "9                               1  "
      ]
     },
     "execution_count": 800,
     "metadata": {},
     "output_type": "execute_result"
    }
   ],
   "source": [
    "features = pd.concat([ project_df_knn, temp_df], axis=1)\n",
    "features.drop(['genre','rating_between'],axis=1,inplace=True)\n",
    "features.head()"
   ]
  },
  {
   "cell_type": "markdown",
   "metadata": {},
   "source": [
    "As the features are all in different scale , we have to use min max scaler to keep the scale of the data constant"
   ]
  },
  {
   "cell_type": "code",
   "execution_count": 801,
   "metadata": {},
   "outputs": [
    {
     "data": {
      "text/plain": [
       "Index(['title', 'num_pages', 'number_of_ratings', 'text_reviews_count',\n",
       "       'year_clean', 'no_ratingslognorm', 'genre_Other', 'genre_children',\n",
       "       'genre_comics', 'genre_fantasy_paranormal_fiction',\n",
       "       'genre_history_biography', 'genre_mystery_thriller_crime',\n",
       "       'genre_not_given', 'genre_poetry_philosophy', 'genre_romance',\n",
       "       'genre_young_adult', 'rating_between_between 3 and 4',\n",
       "       'rating_between_between 4 and 5'],\n",
       "      dtype='object')"
      ]
     },
     "execution_count": 801,
     "metadata": {},
     "output_type": "execute_result"
    }
   ],
   "source": [
    "features.columns"
   ]
  },
  {
   "cell_type": "code",
   "execution_count": 802,
   "metadata": {},
   "outputs": [],
   "source": [
    "min_max_scaler = MinMaxScaler()\n",
    "features_no_title = min_max_scaler.fit_transform(features[['num_pages', 'number_of_ratings', 'text_reviews_count',\n",
    "       'year_clean', 'no_ratingslognorm', 'genre_Other', 'genre_children',\n",
    "       'genre_comics', 'genre_fantasy_paranormal_fiction',\n",
    "       'genre_history_biography', 'genre_mystery_thriller_crime',\n",
    "       'genre_not_given', 'genre_poetry_philosophy', 'genre_romance',\n",
    "       'genre_young_adult', 'rating_between_between 3 and 4',\n",
    "       'rating_between_between 4 and 5']])"
   ]
  },
  {
   "cell_type": "code",
   "execution_count": 803,
   "metadata": {},
   "outputs": [],
   "source": [
    "model = neighbors.NearestNeighbors(n_neighbors=6, algorithm='kd_tree')\n",
    "model.fit(features_no_title)\n",
    "dist, idlist = model.kneighbors(features_no_title)"
   ]
  },
  {
   "cell_type": "markdown",
   "metadata": {},
   "source": [
    "We are using the kd_tree algorithm to find the 5 book , closest to the input book ."
   ]
  },
  {
   "cell_type": "code",
   "execution_count": 810,
   "metadata": {},
   "outputs": [],
   "source": [
    "def BookRecommender_knn(book_name):\n",
    "    book_list_name = []\n",
    "    book_id = features[features['title'] == book_name].index\n",
    "    print(book_id)\n",
    "    book_id = book_id[0]\n",
    "    print(book_name)\n",
    "    for newid in idlist[book_id]:\n",
    "        book_list_name.append(project_df.loc[newid].title)\n",
    "    return book_list_name[1:]"
   ]
  },
  {
   "cell_type": "code",
   "execution_count": 823,
   "metadata": {},
   "outputs": [
    {
     "name": "stdout",
     "output_type": "stream",
     "text": [
      "Int64Index([2], dtype='int64')\n",
      "Harry Potter and the Chamber of Secrets (Harry Potter  #2)\n"
     ]
    },
    {
     "data": {
      "text/plain": [
       "['The Karma Of Brown Folk',\n",
       " 'Island: Collected Stories',\n",
       " 'Critique of Pure Reason (Studies in the History of Philosophy)',\n",
       " 'Storm of the Century',\n",
       " 'Round Ireland with a Fridge']"
      ]
     },
     "execution_count": 823,
     "metadata": {},
     "output_type": "execute_result"
    }
   ],
   "source": [
    "BookRecommender_knn(features['title'][2])\n"
   ]
  },
  {
   "cell_type": "code",
   "execution_count": 822,
   "metadata": {},
   "outputs": [
    {
     "name": "stdout",
     "output_type": "stream",
     "text": [
      "Int64Index([56], dtype='int64')\n",
      "The Lord of the Rings: The Art of the Fellowship of the Ring\n"
     ]
    },
    {
     "data": {
      "text/plain": [
       "['The Areas of My Expertise: An Almanac of Complete World Knowledge Compiled with Instructive Annotation and Arranged in Useful Order',\n",
       " 'Because It Is Bitter  and Because It Is My Heart',\n",
       " 'Dark Visions',\n",
       " 'How to Buy  Sell & Profit on eBay: Kick-Start Your Home-Based Business in Just Thirty Days',\n",
       " 'Eight Black Horses (87th Precinct  #38)']"
      ]
     },
     "execution_count": 822,
     "metadata": {},
     "output_type": "execute_result"
    }
   ],
   "source": [
    "BookRecommender_knn(project_df['title'][56])"
   ]
  },
  {
   "cell_type": "markdown",
   "metadata": {},
   "source": [
    "##### Observation\n",
    "We can see that the recommender system is not performing that well as the one where we used tf-idf vectorizer on the book description. It is recommending books that are not at all related to the books we are searching for."
   ]
  },
  {
   "cell_type": "markdown",
   "metadata": {},
   "source": [
    "### Book to Moive predictor\n",
    "\n",
    "Recently a lot of books are receiving a movie adaptation. Well recognized movies such as the Harry Potter series, Lord of the rings series, Angels and Demons, The Da Vinci code, and many more are an adaptation of books. This Classifier will try to predict will a book be made to a movie or not."
   ]
  },
  {
   "cell_type": "code",
   "execution_count": 7,
   "metadata": {},
   "outputs": [],
   "source": [
    "project_df=pd.read_csv('data/Poject_data.csv',error_bad_lines=False,index_col=0,encoding= 'unicode_escape')"
   ]
  },
  {
   "cell_type": "code",
   "execution_count": 8,
   "metadata": {},
   "outputs": [
    {
     "data": {
      "text/html": [
       "<div>\n",
       "<style scoped>\n",
       "    .dataframe tbody tr th:only-of-type {\n",
       "        vertical-align: middle;\n",
       "    }\n",
       "\n",
       "    .dataframe tbody tr th {\n",
       "        vertical-align: top;\n",
       "    }\n",
       "\n",
       "    .dataframe thead th {\n",
       "        text-align: right;\n",
       "    }\n",
       "</style>\n",
       "<table border=\"1\" class=\"dataframe\">\n",
       "  <thead>\n",
       "    <tr style=\"text-align: right;\">\n",
       "      <th></th>\n",
       "      <th>book_id</th>\n",
       "      <th>title</th>\n",
       "      <th>author</th>\n",
       "      <th>rating</th>\n",
       "      <th>num_pages</th>\n",
       "      <th>number_of_ratings</th>\n",
       "      <th>text_reviews_count</th>\n",
       "      <th>year</th>\n",
       "      <th>publisher</th>\n",
       "      <th>description</th>\n",
       "      <th>awards</th>\n",
       "      <th>genre</th>\n",
       "      <th>Movie</th>\n",
       "      <th>year_clean</th>\n",
       "    </tr>\n",
       "  </thead>\n",
       "  <tbody>\n",
       "    <tr>\n",
       "      <th>0</th>\n",
       "      <td>1</td>\n",
       "      <td>Harry Potter and the Half-Blood Prince (Harry ...</td>\n",
       "      <td>J.K. Rowling</td>\n",
       "      <td>4.57</td>\n",
       "      <td>652</td>\n",
       "      <td>2095690</td>\n",
       "      <td>27591</td>\n",
       "      <td>9/16/2006</td>\n",
       "      <td>Scholastic Inc.</td>\n",
       "      <td>The war against Voldemort is not going well; e...</td>\n",
       "      <td>3</td>\n",
       "      <td>fantasy_paranormal_fiction</td>\n",
       "      <td>yes</td>\n",
       "      <td>2006</td>\n",
       "    </tr>\n",
       "    <tr>\n",
       "      <th>1</th>\n",
       "      <td>2</td>\n",
       "      <td>Harry Potter and the Order of the Phoenix (Har...</td>\n",
       "      <td>J.K. Rowling</td>\n",
       "      <td>4.49</td>\n",
       "      <td>870</td>\n",
       "      <td>2153167</td>\n",
       "      <td>29221</td>\n",
       "      <td>9/1/2004</td>\n",
       "      <td>Scholastic Inc.</td>\n",
       "      <td>There is a door at the end of a silent corrido...</td>\n",
       "      <td>9</td>\n",
       "      <td>fantasy_paranormal_fiction</td>\n",
       "      <td>yes</td>\n",
       "      <td>2004</td>\n",
       "    </tr>\n",
       "  </tbody>\n",
       "</table>\n",
       "</div>"
      ],
      "text/plain": [
       "   book_id                                              title        author  \\\n",
       "0        1  Harry Potter and the Half-Blood Prince (Harry ...  J.K. Rowling   \n",
       "1        2  Harry Potter and the Order of the Phoenix (Har...  J.K. Rowling   \n",
       "\n",
       "   rating  num_pages  number_of_ratings text_reviews_count       year  \\\n",
       "0    4.57        652            2095690              27591  9/16/2006   \n",
       "1    4.49        870            2153167              29221   9/1/2004   \n",
       "\n",
       "         publisher                                        description awards  \\\n",
       "0  Scholastic Inc.  The war against Voldemort is not going well; e...      3   \n",
       "1  Scholastic Inc.  There is a door at the end of a silent corrido...      9   \n",
       "\n",
       "                        genre Movie  year_clean  \n",
       "0  fantasy_paranormal_fiction   yes        2006  \n",
       "1  fantasy_paranormal_fiction   yes        2004  "
      ]
     },
     "execution_count": 8,
     "metadata": {},
     "output_type": "execute_result"
    }
   ],
   "source": [
    "project_df.head(2)"
   ]
  },
  {
   "cell_type": "code",
   "execution_count": 9,
   "metadata": {},
   "outputs": [
    {
     "data": {
      "text/plain": [
       "(17234, 14)"
      ]
     },
     "execution_count": 9,
     "metadata": {},
     "output_type": "execute_result"
    }
   ],
   "source": [
    "project_df.shape"
   ]
  },
  {
   "cell_type": "code",
   "execution_count": 10,
   "metadata": {},
   "outputs": [],
   "source": [
    "movie_data=project_df[project_df['Movie']=='yes']"
   ]
  },
  {
   "cell_type": "code",
   "execution_count": 11,
   "metadata": {},
   "outputs": [
    {
     "data": {
      "text/plain": [
       "(1985, 14)"
      ]
     },
     "execution_count": 11,
     "metadata": {},
     "output_type": "execute_result"
    }
   ],
   "source": [
    "movie_data.shape"
   ]
  },
  {
   "cell_type": "markdown",
   "metadata": {},
   "source": [
    "The data is highly imbalanced as among 17235 entries we have only 1985 was made into movies so to balance the data for the model we will randomly select 2000 entries from the entries which weren't turned into movies. and concatenate them"
   ]
  },
  {
   "cell_type": "code",
   "execution_count": 12,
   "metadata": {},
   "outputs": [],
   "source": [
    "not_movie_data=project_df[project_df['Movie']=='no'].sample(n=2000,random_state=142)"
   ]
  },
  {
   "cell_type": "code",
   "execution_count": 13,
   "metadata": {},
   "outputs": [
    {
     "data": {
      "text/html": [
       "<div>\n",
       "<style scoped>\n",
       "    .dataframe tbody tr th:only-of-type {\n",
       "        vertical-align: middle;\n",
       "    }\n",
       "\n",
       "    .dataframe tbody tr th {\n",
       "        vertical-align: top;\n",
       "    }\n",
       "\n",
       "    .dataframe thead th {\n",
       "        text-align: right;\n",
       "    }\n",
       "</style>\n",
       "<table border=\"1\" class=\"dataframe\">\n",
       "  <thead>\n",
       "    <tr style=\"text-align: right;\">\n",
       "      <th></th>\n",
       "      <th>book_id</th>\n",
       "      <th>title</th>\n",
       "      <th>author</th>\n",
       "      <th>rating</th>\n",
       "      <th>num_pages</th>\n",
       "      <th>number_of_ratings</th>\n",
       "      <th>text_reviews_count</th>\n",
       "      <th>year</th>\n",
       "      <th>publisher</th>\n",
       "      <th>description</th>\n",
       "      <th>awards</th>\n",
       "      <th>genre</th>\n",
       "      <th>Movie</th>\n",
       "      <th>year_clean</th>\n",
       "    </tr>\n",
       "  </thead>\n",
       "  <tbody>\n",
       "    <tr>\n",
       "      <th>6335</th>\n",
       "      <td>35539</td>\n",
       "      <td>The Beatles: The Biography</td>\n",
       "      <td>Bob Spitz</td>\n",
       "      <td>4.15</td>\n",
       "      <td>983</td>\n",
       "      <td>9041</td>\n",
       "      <td>417</td>\n",
       "      <td>10/10/2005</td>\n",
       "      <td>Little Brown</td>\n",
       "      <td>Even before the Beatles hit the big time, a my...</td>\n",
       "      <td>1</td>\n",
       "      <td>Other</td>\n",
       "      <td>no</td>\n",
       "      <td>2005</td>\n",
       "    </tr>\n",
       "    <tr>\n",
       "      <th>912</th>\n",
       "      <td>4451</td>\n",
       "      <td>People of the Lie: The Hope for Healing Human ...</td>\n",
       "      <td>M. Scott Peck</td>\n",
       "      <td>3.98</td>\n",
       "      <td>272</td>\n",
       "      <td>6256</td>\n",
       "      <td>459</td>\n",
       "      <td>1/2/1998</td>\n",
       "      <td>Touchstone</td>\n",
       "      <td>In this absorbing and equally inspiring compan...</td>\n",
       "      <td>0</td>\n",
       "      <td>Other</td>\n",
       "      <td>no</td>\n",
       "      <td>1998</td>\n",
       "    </tr>\n",
       "  </tbody>\n",
       "</table>\n",
       "</div>"
      ],
      "text/plain": [
       "      book_id                                              title  \\\n",
       "6335    35539                         The Beatles: The Biography   \n",
       "912      4451  People of the Lie: The Hope for Healing Human ...   \n",
       "\n",
       "             author  rating  num_pages  number_of_ratings text_reviews_count  \\\n",
       "6335      Bob Spitz    4.15        983               9041                417   \n",
       "912   M. Scott Peck    3.98        272               6256                459   \n",
       "\n",
       "            year     publisher  \\\n",
       "6335  10/10/2005  Little Brown   \n",
       "912     1/2/1998    Touchstone   \n",
       "\n",
       "                                            description awards  genre Movie  \\\n",
       "6335  Even before the Beatles hit the big time, a my...      1  Other    no   \n",
       "912   In this absorbing and equally inspiring compan...      0  Other    no   \n",
       "\n",
       "      year_clean  \n",
       "6335        2005  \n",
       "912         1998  "
      ]
     },
     "execution_count": 13,
     "metadata": {},
     "output_type": "execute_result"
    }
   ],
   "source": [
    "not_movie_data.head(2)"
   ]
  },
  {
   "cell_type": "code",
   "execution_count": 14,
   "metadata": {},
   "outputs": [],
   "source": [
    "classification_df=pd.concat([movie_data, not_movie_data])"
   ]
  },
  {
   "cell_type": "code",
   "execution_count": 15,
   "metadata": {},
   "outputs": [
    {
     "data": {
      "text/plain": [
       "(3985, 14)"
      ]
     },
     "execution_count": 15,
     "metadata": {},
     "output_type": "execute_result"
    }
   ],
   "source": [
    "classification_df.shape"
   ]
  },
  {
   "cell_type": "code",
   "execution_count": 16,
   "metadata": {},
   "outputs": [],
   "source": [
    "classification_df_1=classification_df.copy()\n",
    "### we copied the df so that we dont dont chage the original dataframe "
   ]
  },
  {
   "cell_type": "markdown",
   "metadata": {},
   "source": [
    "As we have previously used a dataset for classification, We can use the same data formatting we used for the recommendation for knn but tweak it as we are using a different part of the dataset"
   ]
  },
  {
   "cell_type": "code",
   "execution_count": 17,
   "metadata": {},
   "outputs": [
    {
     "name": "stdout",
     "output_type": "stream",
     "text": [
      "<class 'pandas.core.frame.DataFrame'>\n",
      "Int64Index: 3985 entries, 0 to 433\n",
      "Data columns (total 14 columns):\n",
      " #   Column              Non-Null Count  Dtype  \n",
      "---  ------              --------------  -----  \n",
      " 0   book_id             3985 non-null   int64  \n",
      " 1   title               3985 non-null   object \n",
      " 2   author              3985 non-null   object \n",
      " 3   rating              3985 non-null   float64\n",
      " 4   num_pages           3985 non-null   int64  \n",
      " 5   number_of_ratings   3985 non-null   int64  \n",
      " 6   text_reviews_count  3985 non-null   object \n",
      " 7   year                3985 non-null   object \n",
      " 8   publisher           3985 non-null   object \n",
      " 9   description         3985 non-null   object \n",
      " 10  awards              3985 non-null   object \n",
      " 11  genre               3985 non-null   object \n",
      " 12  Movie               3985 non-null   object \n",
      " 13  year_clean          3985 non-null   int64  \n",
      "dtypes: float64(1), int64(4), object(9)\n",
      "memory usage: 467.0+ KB\n"
     ]
    }
   ],
   "source": [
    "classification_df_1.info()"
   ]
  },
  {
   "cell_type": "code",
   "execution_count": 18,
   "metadata": {},
   "outputs": [],
   "source": [
    "classification_df_1=classification_df_1[classification_df_1['rating']>2.5]\n",
    "classification_df_1.loc[ (classification_df_1['rating'] > 2) & (classification_df_1['rating'] <= 3), 'rating_between'] = \"between 2 and 3\"\n",
    "classification_df_1.loc[ (classification_df_1['rating'] > 3) & (classification_df_1['rating'] <= 4), 'rating_between'] = \"between 3 and 4\"\n",
    "classification_df_1.loc[ (classification_df_1['rating'] > 4) & (classification_df_1['rating'] <= 5), 'rating_between'] = \"between 4 and 5\"\n",
    "classification_df_1.drop('rating',axis=1,inplace=True)\n",
    "classification_df_1=classification_df_1[classification_df_1['num_pages']<1300]\n"
   ]
  },
  {
   "cell_type": "code",
   "execution_count": 19,
   "metadata": {},
   "outputs": [
    {
     "name": "stderr",
     "output_type": "stream",
     "text": [
      "c:\\python38\\lib\\site-packages\\pandas\\core\\series.py:679: RuntimeWarning: divide by zero encountered in log\n",
      "  result = getattr(ufunc, method)(*inputs, **kwargs)\n"
     ]
    }
   ],
   "source": [
    "classification_df_1['no_ratingslognorm'] = np.log(classification_df_1['number_of_ratings'])\n",
    "classification_df_1=classification_df_1[classification_df_1['no_ratingslognorm']>1.8]\n",
    "classification_df_1=classification_df_1[classification_df_1['no_ratingslognorm']<12.2]"
   ]
  },
  {
   "cell_type": "code",
   "execution_count": 23,
   "metadata": {},
   "outputs": [],
   "source": [
    "classification_df_1=classification_df_1[classification_df_1['text_reviews_count']!='Unavailable']"
   ]
  },
  {
   "cell_type": "code",
   "execution_count": 24,
   "metadata": {},
   "outputs": [],
   "source": [
    "classification_df_1['text_reviews_count']=classification_df_1['text_reviews_count'].apply(lambda x :to_int(x) )"
   ]
  },
  {
   "cell_type": "code",
   "execution_count": 25,
   "metadata": {},
   "outputs": [],
   "source": [
    "classification_df_1['text_reviews_count'] = np.log(classification_df_1['text_reviews_count'])\n",
    "classification_df_1=classification_df_1[classification_df_1['text_reviews_count']!=classification_df_1['text_reviews_count'].min()]"
   ]
  },
  {
   "cell_type": "code",
   "execution_count": 26,
   "metadata": {},
   "outputs": [
    {
     "data": {
      "text/plain": [
       "57       8.423102\n",
       "75       3.433987\n",
       "89       5.181784\n",
       "98       7.576097\n",
       "123      3.713572\n",
       "           ...   \n",
       "9245     2.302585\n",
       "3385     4.852030\n",
       "2581     4.875197\n",
       "12503    3.465736\n",
       "433      4.867534\n",
       "Name: text_reviews_count, Length: 3548, dtype: float64"
      ]
     },
     "execution_count": 26,
     "metadata": {},
     "output_type": "execute_result"
    }
   ],
   "source": [
    "classification_df_1['text_reviews_count']"
   ]
  },
  {
   "cell_type": "code",
   "execution_count": 27,
   "metadata": {},
   "outputs": [
    {
     "data": {
      "text/html": [
       "<div>\n",
       "<style scoped>\n",
       "    .dataframe tbody tr th:only-of-type {\n",
       "        vertical-align: middle;\n",
       "    }\n",
       "\n",
       "    .dataframe tbody tr th {\n",
       "        vertical-align: top;\n",
       "    }\n",
       "\n",
       "    .dataframe thead th {\n",
       "        text-align: right;\n",
       "    }\n",
       "</style>\n",
       "<table border=\"1\" class=\"dataframe\">\n",
       "  <thead>\n",
       "    <tr style=\"text-align: right;\">\n",
       "      <th></th>\n",
       "      <th>book_id</th>\n",
       "      <th>title</th>\n",
       "      <th>author</th>\n",
       "      <th>num_pages</th>\n",
       "      <th>number_of_ratings</th>\n",
       "      <th>text_reviews_count</th>\n",
       "      <th>year</th>\n",
       "      <th>publisher</th>\n",
       "      <th>description</th>\n",
       "      <th>awards</th>\n",
       "      <th>genre</th>\n",
       "      <th>Movie</th>\n",
       "      <th>year_clean</th>\n",
       "      <th>rating_between</th>\n",
       "      <th>no_ratingslognorm</th>\n",
       "    </tr>\n",
       "  </thead>\n",
       "  <tbody>\n",
       "    <tr>\n",
       "      <th>57</th>\n",
       "      <td>122</td>\n",
       "      <td>The Power of One (The Power of One  #1)</td>\n",
       "      <td>Bryce Courtenay</td>\n",
       "      <td>544</td>\n",
       "      <td>69167</td>\n",
       "      <td>8.423102</td>\n",
       "      <td>9/29/1996</td>\n",
       "      <td>Ballantine Books</td>\n",
       "      <td>In 1939, as Hitler casts his enormous, cruel s...</td>\n",
       "      <td>1</td>\n",
       "      <td>fantasy_paranormal_fiction</td>\n",
       "      <td>yes</td>\n",
       "      <td>1996</td>\n",
       "      <td>between 4 and 5</td>\n",
       "      <td>11.144279</td>\n",
       "    </tr>\n",
       "    <tr>\n",
       "      <th>75</th>\n",
       "      <td>164</td>\n",
       "      <td>The Untouchables</td>\n",
       "      <td>Eliot Ness</td>\n",
       "      <td>256</td>\n",
       "      <td>613</td>\n",
       "      <td>3.433987</td>\n",
       "      <td>2/1/1996</td>\n",
       "      <td>Buccaneer Books</td>\n",
       "      <td>The Untouchables is the gripping true story of...</td>\n",
       "      <td>0</td>\n",
       "      <td>history_biography</td>\n",
       "      <td>yes</td>\n",
       "      <td>1996</td>\n",
       "      <td>between 3 and 4</td>\n",
       "      <td>6.418365</td>\n",
       "    </tr>\n",
       "  </tbody>\n",
       "</table>\n",
       "</div>"
      ],
      "text/plain": [
       "    book_id                                    title           author  \\\n",
       "57      122  The Power of One (The Power of One  #1)  Bryce Courtenay   \n",
       "75      164                         The Untouchables       Eliot Ness   \n",
       "\n",
       "    num_pages  number_of_ratings  text_reviews_count       year  \\\n",
       "57        544              69167            8.423102  9/29/1996   \n",
       "75        256                613            3.433987   2/1/1996   \n",
       "\n",
       "           publisher                                        description  \\\n",
       "57  Ballantine Books  In 1939, as Hitler casts his enormous, cruel s...   \n",
       "75   Buccaneer Books  The Untouchables is the gripping true story of...   \n",
       "\n",
       "   awards                       genre Movie  year_clean   rating_between  \\\n",
       "57      1  fantasy_paranormal_fiction   yes        1996  between 4 and 5   \n",
       "75      0           history_biography   yes        1996  between 3 and 4   \n",
       "\n",
       "    no_ratingslognorm  \n",
       "57          11.144279  \n",
       "75           6.418365  "
      ]
     },
     "execution_count": 27,
     "metadata": {},
     "output_type": "execute_result"
    }
   ],
   "source": [
    "classification_df_1.head(2)"
   ]
  },
  {
   "cell_type": "code",
   "execution_count": 28,
   "metadata": {},
   "outputs": [
    {
     "data": {
      "text/plain": [
       "no     1938\n",
       "yes    1610\n",
       "Name: Movie, dtype: int64"
      ]
     },
     "execution_count": 28,
     "metadata": {},
     "output_type": "execute_result"
    }
   ],
   "source": [
    "classification_df_1['Movie'].value_counts()"
   ]
  },
  {
   "cell_type": "markdown",
   "metadata": {},
   "source": [
    "Now we have 1935 entries which has not been made into movies and 1610 entries , which has "
   ]
  },
  {
   "cell_type": "code",
   "execution_count": 29,
   "metadata": {},
   "outputs": [],
   "source": [
    "classification_df_1_final=classification_df_1[['num_pages','no_ratingslognorm','text_reviews_count','awards','genre','year_clean','Movie','rating_between']].copy()"
   ]
  },
  {
   "cell_type": "code",
   "execution_count": 30,
   "metadata": {},
   "outputs": [
    {
     "data": {
      "text/html": [
       "<div>\n",
       "<style scoped>\n",
       "    .dataframe tbody tr th:only-of-type {\n",
       "        vertical-align: middle;\n",
       "    }\n",
       "\n",
       "    .dataframe tbody tr th {\n",
       "        vertical-align: top;\n",
       "    }\n",
       "\n",
       "    .dataframe thead th {\n",
       "        text-align: right;\n",
       "    }\n",
       "</style>\n",
       "<table border=\"1\" class=\"dataframe\">\n",
       "  <thead>\n",
       "    <tr style=\"text-align: right;\">\n",
       "      <th></th>\n",
       "      <th>num_pages</th>\n",
       "      <th>no_ratingslognorm</th>\n",
       "      <th>text_reviews_count</th>\n",
       "      <th>awards</th>\n",
       "      <th>genre</th>\n",
       "      <th>year_clean</th>\n",
       "      <th>Movie</th>\n",
       "      <th>rating_between</th>\n",
       "    </tr>\n",
       "  </thead>\n",
       "  <tbody>\n",
       "    <tr>\n",
       "      <th>57</th>\n",
       "      <td>544</td>\n",
       "      <td>11.144279</td>\n",
       "      <td>8.423102</td>\n",
       "      <td>1</td>\n",
       "      <td>fantasy_paranormal_fiction</td>\n",
       "      <td>1996</td>\n",
       "      <td>yes</td>\n",
       "      <td>between 4 and 5</td>\n",
       "    </tr>\n",
       "    <tr>\n",
       "      <th>75</th>\n",
       "      <td>256</td>\n",
       "      <td>6.418365</td>\n",
       "      <td>3.433987</td>\n",
       "      <td>0</td>\n",
       "      <td>history_biography</td>\n",
       "      <td>1996</td>\n",
       "      <td>yes</td>\n",
       "      <td>between 3 and 4</td>\n",
       "    </tr>\n",
       "  </tbody>\n",
       "</table>\n",
       "</div>"
      ],
      "text/plain": [
       "    num_pages  no_ratingslognorm  text_reviews_count awards  \\\n",
       "57        544          11.144279            8.423102      1   \n",
       "75        256           6.418365            3.433987      0   \n",
       "\n",
       "                         genre  year_clean Movie   rating_between  \n",
       "57  fantasy_paranormal_fiction        1996   yes  between 4 and 5  \n",
       "75           history_biography        1996   yes  between 3 and 4  "
      ]
     },
     "execution_count": 30,
     "metadata": {},
     "output_type": "execute_result"
    }
   ],
   "source": [
    "classification_df_1_final.head(2)"
   ]
  },
  {
   "cell_type": "code",
   "execution_count": 31,
   "metadata": {},
   "outputs": [],
   "source": [
    "temp_df=pd.get_dummies(classification_df_1_final[['genre','rating_between']],drop_first=True)\n",
    "\n",
    "features = pd.concat([ classification_df_1_final, temp_df], axis=1)\n",
    "label=features['Movie']\n",
    "features.drop(['genre','rating_between','awards','Movie'],axis=1,inplace=True)"
   ]
  },
  {
   "cell_type": "code",
   "execution_count": 32,
   "metadata": {},
   "outputs": [
    {
     "data": {
      "text/html": [
       "<div>\n",
       "<style scoped>\n",
       "    .dataframe tbody tr th:only-of-type {\n",
       "        vertical-align: middle;\n",
       "    }\n",
       "\n",
       "    .dataframe tbody tr th {\n",
       "        vertical-align: top;\n",
       "    }\n",
       "\n",
       "    .dataframe thead th {\n",
       "        text-align: right;\n",
       "    }\n",
       "</style>\n",
       "<table border=\"1\" class=\"dataframe\">\n",
       "  <thead>\n",
       "    <tr style=\"text-align: right;\">\n",
       "      <th></th>\n",
       "      <th>num_pages</th>\n",
       "      <th>no_ratingslognorm</th>\n",
       "      <th>text_reviews_count</th>\n",
       "      <th>year_clean</th>\n",
       "      <th>genre_Other</th>\n",
       "      <th>genre_children</th>\n",
       "      <th>genre_comics</th>\n",
       "      <th>genre_fantasy_paranormal_fiction</th>\n",
       "      <th>genre_history_biography</th>\n",
       "      <th>genre_mystery_thriller_crime</th>\n",
       "      <th>genre_not_given</th>\n",
       "      <th>genre_poetry_philosophy</th>\n",
       "      <th>genre_romance</th>\n",
       "      <th>genre_young_adult</th>\n",
       "      <th>rating_between_between 3 and 4</th>\n",
       "      <th>rating_between_between 4 and 5</th>\n",
       "    </tr>\n",
       "  </thead>\n",
       "  <tbody>\n",
       "    <tr>\n",
       "      <th>57</th>\n",
       "      <td>544</td>\n",
       "      <td>11.144279</td>\n",
       "      <td>8.423102</td>\n",
       "      <td>1996</td>\n",
       "      <td>0</td>\n",
       "      <td>0</td>\n",
       "      <td>0</td>\n",
       "      <td>1</td>\n",
       "      <td>0</td>\n",
       "      <td>0</td>\n",
       "      <td>0</td>\n",
       "      <td>0</td>\n",
       "      <td>0</td>\n",
       "      <td>0</td>\n",
       "      <td>0</td>\n",
       "      <td>1</td>\n",
       "    </tr>\n",
       "    <tr>\n",
       "      <th>75</th>\n",
       "      <td>256</td>\n",
       "      <td>6.418365</td>\n",
       "      <td>3.433987</td>\n",
       "      <td>1996</td>\n",
       "      <td>0</td>\n",
       "      <td>0</td>\n",
       "      <td>0</td>\n",
       "      <td>0</td>\n",
       "      <td>1</td>\n",
       "      <td>0</td>\n",
       "      <td>0</td>\n",
       "      <td>0</td>\n",
       "      <td>0</td>\n",
       "      <td>0</td>\n",
       "      <td>1</td>\n",
       "      <td>0</td>\n",
       "    </tr>\n",
       "    <tr>\n",
       "      <th>89</th>\n",
       "      <td>191</td>\n",
       "      <td>7.971431</td>\n",
       "      <td>5.181784</td>\n",
       "      <td>2004</td>\n",
       "      <td>0</td>\n",
       "      <td>0</td>\n",
       "      <td>0</td>\n",
       "      <td>0</td>\n",
       "      <td>0</td>\n",
       "      <td>1</td>\n",
       "      <td>0</td>\n",
       "      <td>0</td>\n",
       "      <td>0</td>\n",
       "      <td>0</td>\n",
       "      <td>1</td>\n",
       "      <td>0</td>\n",
       "    </tr>\n",
       "    <tr>\n",
       "      <th>98</th>\n",
       "      <td>797</td>\n",
       "      <td>11.029066</td>\n",
       "      <td>7.576097</td>\n",
       "      <td>2003</td>\n",
       "      <td>0</td>\n",
       "      <td>0</td>\n",
       "      <td>0</td>\n",
       "      <td>0</td>\n",
       "      <td>0</td>\n",
       "      <td>0</td>\n",
       "      <td>0</td>\n",
       "      <td>0</td>\n",
       "      <td>0</td>\n",
       "      <td>0</td>\n",
       "      <td>1</td>\n",
       "      <td>0</td>\n",
       "    </tr>\n",
       "    <tr>\n",
       "      <th>123</th>\n",
       "      <td>224</td>\n",
       "      <td>6.131226</td>\n",
       "      <td>3.713572</td>\n",
       "      <td>2004</td>\n",
       "      <td>0</td>\n",
       "      <td>0</td>\n",
       "      <td>0</td>\n",
       "      <td>1</td>\n",
       "      <td>0</td>\n",
       "      <td>0</td>\n",
       "      <td>0</td>\n",
       "      <td>0</td>\n",
       "      <td>0</td>\n",
       "      <td>0</td>\n",
       "      <td>1</td>\n",
       "      <td>0</td>\n",
       "    </tr>\n",
       "  </tbody>\n",
       "</table>\n",
       "</div>"
      ],
      "text/plain": [
       "     num_pages  no_ratingslognorm  text_reviews_count  year_clean  \\\n",
       "57         544          11.144279            8.423102        1996   \n",
       "75         256           6.418365            3.433987        1996   \n",
       "89         191           7.971431            5.181784        2004   \n",
       "98         797          11.029066            7.576097        2003   \n",
       "123        224           6.131226            3.713572        2004   \n",
       "\n",
       "     genre_Other  genre_children  genre_comics  \\\n",
       "57             0               0             0   \n",
       "75             0               0             0   \n",
       "89             0               0             0   \n",
       "98             0               0             0   \n",
       "123            0               0             0   \n",
       "\n",
       "     genre_fantasy_paranormal_fiction  genre_history_biography  \\\n",
       "57                                  1                        0   \n",
       "75                                  0                        1   \n",
       "89                                  0                        0   \n",
       "98                                  0                        0   \n",
       "123                                 1                        0   \n",
       "\n",
       "     genre_mystery_thriller_crime  genre_not_given  genre_poetry_philosophy  \\\n",
       "57                              0                0                        0   \n",
       "75                              0                0                        0   \n",
       "89                              1                0                        0   \n",
       "98                              0                0                        0   \n",
       "123                             0                0                        0   \n",
       "\n",
       "     genre_romance  genre_young_adult  rating_between_between 3 and 4  \\\n",
       "57               0                  0                               0   \n",
       "75               0                  0                               1   \n",
       "89               0                  0                               1   \n",
       "98               0                  0                               1   \n",
       "123              0                  0                               1   \n",
       "\n",
       "     rating_between_between 4 and 5  \n",
       "57                                1  \n",
       "75                                0  \n",
       "89                                0  \n",
       "98                                0  \n",
       "123                               0  "
      ]
     },
     "execution_count": 32,
     "metadata": {},
     "output_type": "execute_result"
    }
   ],
   "source": [
    "features.head()"
   ]
  },
  {
   "cell_type": "code",
   "execution_count": 33,
   "metadata": {},
   "outputs": [],
   "source": [
    "min_max_scaler = MinMaxScaler()\n",
    "features = min_max_scaler.fit_transform(features)"
   ]
  },
  {
   "cell_type": "code",
   "execution_count": 34,
   "metadata": {},
   "outputs": [],
   "source": [
    "le = preprocessing.LabelEncoder()\n",
    "labels=le.fit_transform(label)"
   ]
  },
  {
   "cell_type": "code",
   "execution_count": 35,
   "metadata": {},
   "outputs": [],
   "source": [
    "model_arr=[]\n",
    "accuracy_arr=[]\n",
    "std_arr=[]"
   ]
  },
  {
   "cell_type": "code",
   "execution_count": 36,
   "metadata": {},
   "outputs": [],
   "source": [
    "def clf_result(classifier,classifier_name):\n",
    "    acc_scores = cross_val_score(classifier, features, labels, scoring='accuracy', cv=KFold(n_splits=10, shuffle=True, random_state=142),n_jobs=-1)\n",
    "    accuracy=acc_scores.mean()\n",
    "    std=acc_scores.std()\n",
    "    print(\"Classifier_name :\",classifier_name)\n",
    "    print(\"accuracy: \",accuracy)\n",
    "    print(\"standard dev: \",std)\n",
    "    model_arr.append(classifier_name)\n",
    "    accuracy_arr.append(accuracy)\n",
    "    std_arr.append(std)\n",
    "    return acc_scores\n",
    "    \n",
    "    "
   ]
  },
  {
   "cell_type": "markdown",
   "metadata": {},
   "source": [
    "This function takes The classifier and Classifier name as arcuments , where classifier is the model we are traiing and testing the model on . the fuction uses 10 fold cross validation to calculate the accuracy , recall ,percission, and f1 score od the model. as we have a relatively small dataset , so cross validation is better that using train and test split . "
   ]
  },
  {
   "cell_type": "code",
   "execution_count": 37,
   "metadata": {},
   "outputs": [
    {
     "name": "stdout",
     "output_type": "stream",
     "text": [
      "Classifier_name : LogisticRegression\n",
      "accuracy:  0.8159576669053872\n",
      "standard dev:  0.02279013209686464\n"
     ]
    }
   ],
   "source": [
    "lgr = LogisticRegression(random_state=142)\n",
    "lgr_acc=clf_result(lgr,\"LogisticRegression\")"
   ]
  },
  {
   "cell_type": "code",
   "execution_count": 38,
   "metadata": {},
   "outputs": [
    {
     "name": "stdout",
     "output_type": "stream",
     "text": [
      "Classifier_name : KNeighborsClassifier\n",
      "accuracy:  0.7838378292352988\n",
      "standard dev:  0.03230395891747344\n"
     ]
    }
   ],
   "source": [
    "knn = KNeighborsClassifier(n_neighbors=3)\n",
    "knn_acc=clf_result(knn,\"KNeighborsClassifier\")"
   ]
  },
  {
   "cell_type": "code",
   "execution_count": 39,
   "metadata": {},
   "outputs": [
    {
     "name": "stdout",
     "output_type": "stream",
     "text": [
      "Classifier_name :  MLPClassifier\n",
      "accuracy:  0.8162425399856769\n",
      "standard dev:  0.02333306857081861\n"
     ]
    }
   ],
   "source": [
    "mlp = MLPClassifier(alpha=1, max_iter=1000,random_state=142,hidden_layer_sizes=(100,100))\n",
    "mlp_acc=clf_result(mlp,\" MLPClassifier\")"
   ]
  },
  {
   "cell_type": "markdown",
   "metadata": {},
   "source": [
    "## Observation\n",
    "As we can see that even with simple features and Algorighm we get accuracy around 80 % and highest  accuracy is of  Multilayerd perceptron annd the lowest being KNN.So now we will add publisher and author to see if the accuracy increases."
   ]
  },
  {
   "cell_type": "code",
   "execution_count": 40,
   "metadata": {},
   "outputs": [],
   "source": [
    "classification_df_2=classification_df_1.copy() "
   ]
  },
  {
   "cell_type": "code",
   "execution_count": 41,
   "metadata": {},
   "outputs": [],
   "source": [
    "classification_df_2['author']=le.fit_transform(classification_df_2['author'])\n",
    "classification_df_2['publisher']=le.fit_transform(classification_df_2['publisher'])"
   ]
  },
  {
   "cell_type": "code",
   "execution_count": 42,
   "metadata": {},
   "outputs": [],
   "source": [
    "classification_df_2_final=classification_df_2[['num_pages','no_ratingslognorm','text_reviews_count','awards','genre','year_clean','Movie','rating_between','author','publisher']]"
   ]
  },
  {
   "cell_type": "code",
   "execution_count": 43,
   "metadata": {},
   "outputs": [],
   "source": [
    "temp_df=pd.get_dummies(classification_df_2_final[['genre','rating_between']],drop_first=True)\n",
    "\n",
    "features = pd.concat([ classification_df_2_final, temp_df], axis=1)\n",
    "label=features['Movie']\n",
    "features.drop(['genre','rating_between','awards','Movie'],axis=1,inplace=True)"
   ]
  },
  {
   "cell_type": "code",
   "execution_count": 44,
   "metadata": {},
   "outputs": [],
   "source": [
    "labels=le.fit_transform(label)"
   ]
  },
  {
   "cell_type": "code",
   "execution_count": 45,
   "metadata": {},
   "outputs": [
    {
     "data": {
      "text/html": [
       "<div>\n",
       "<style scoped>\n",
       "    .dataframe tbody tr th:only-of-type {\n",
       "        vertical-align: middle;\n",
       "    }\n",
       "\n",
       "    .dataframe tbody tr th {\n",
       "        vertical-align: top;\n",
       "    }\n",
       "\n",
       "    .dataframe thead th {\n",
       "        text-align: right;\n",
       "    }\n",
       "</style>\n",
       "<table border=\"1\" class=\"dataframe\">\n",
       "  <thead>\n",
       "    <tr style=\"text-align: right;\">\n",
       "      <th></th>\n",
       "      <th>num_pages</th>\n",
       "      <th>no_ratingslognorm</th>\n",
       "      <th>text_reviews_count</th>\n",
       "      <th>year_clean</th>\n",
       "      <th>author</th>\n",
       "      <th>publisher</th>\n",
       "      <th>genre_Other</th>\n",
       "      <th>genre_children</th>\n",
       "      <th>genre_comics</th>\n",
       "      <th>genre_fantasy_paranormal_fiction</th>\n",
       "      <th>genre_history_biography</th>\n",
       "      <th>genre_mystery_thriller_crime</th>\n",
       "      <th>genre_not_given</th>\n",
       "      <th>genre_poetry_philosophy</th>\n",
       "      <th>genre_romance</th>\n",
       "      <th>genre_young_adult</th>\n",
       "      <th>rating_between_between 3 and 4</th>\n",
       "      <th>rating_between_between 4 and 5</th>\n",
       "    </tr>\n",
       "  </thead>\n",
       "  <tbody>\n",
       "    <tr>\n",
       "      <th>57</th>\n",
       "      <td>544</td>\n",
       "      <td>11.144279</td>\n",
       "      <td>8.423102</td>\n",
       "      <td>1996</td>\n",
       "      <td>229</td>\n",
       "      <td>601</td>\n",
       "      <td>0</td>\n",
       "      <td>0</td>\n",
       "      <td>0</td>\n",
       "      <td>1</td>\n",
       "      <td>0</td>\n",
       "      <td>0</td>\n",
       "      <td>0</td>\n",
       "      <td>0</td>\n",
       "      <td>0</td>\n",
       "      <td>0</td>\n",
       "      <td>0</td>\n",
       "      <td>1</td>\n",
       "    </tr>\n",
       "    <tr>\n",
       "      <th>75</th>\n",
       "      <td>256</td>\n",
       "      <td>6.418365</td>\n",
       "      <td>3.433987</td>\n",
       "      <td>1996</td>\n",
       "      <td>536</td>\n",
       "      <td>667</td>\n",
       "      <td>0</td>\n",
       "      <td>0</td>\n",
       "      <td>0</td>\n",
       "      <td>0</td>\n",
       "      <td>1</td>\n",
       "      <td>0</td>\n",
       "      <td>0</td>\n",
       "      <td>0</td>\n",
       "      <td>0</td>\n",
       "      <td>0</td>\n",
       "      <td>1</td>\n",
       "      <td>0</td>\n",
       "    </tr>\n",
       "    <tr>\n",
       "      <th>89</th>\n",
       "      <td>191</td>\n",
       "      <td>7.971431</td>\n",
       "      <td>5.181784</td>\n",
       "      <td>2004</td>\n",
       "      <td>298</td>\n",
       "      <td>1365</td>\n",
       "      <td>0</td>\n",
       "      <td>0</td>\n",
       "      <td>0</td>\n",
       "      <td>0</td>\n",
       "      <td>0</td>\n",
       "      <td>1</td>\n",
       "      <td>0</td>\n",
       "      <td>0</td>\n",
       "      <td>0</td>\n",
       "      <td>0</td>\n",
       "      <td>1</td>\n",
       "      <td>0</td>\n",
       "    </tr>\n",
       "    <tr>\n",
       "      <th>98</th>\n",
       "      <td>797</td>\n",
       "      <td>11.029066</td>\n",
       "      <td>7.576097</td>\n",
       "      <td>2003</td>\n",
       "      <td>770</td>\n",
       "      <td>1092</td>\n",
       "      <td>0</td>\n",
       "      <td>0</td>\n",
       "      <td>0</td>\n",
       "      <td>0</td>\n",
       "      <td>0</td>\n",
       "      <td>0</td>\n",
       "      <td>0</td>\n",
       "      <td>0</td>\n",
       "      <td>0</td>\n",
       "      <td>0</td>\n",
       "      <td>1</td>\n",
       "      <td>0</td>\n",
       "    </tr>\n",
       "    <tr>\n",
       "      <th>123</th>\n",
       "      <td>224</td>\n",
       "      <td>6.131226</td>\n",
       "      <td>3.713572</td>\n",
       "      <td>2004</td>\n",
       "      <td>474</td>\n",
       "      <td>1205</td>\n",
       "      <td>0</td>\n",
       "      <td>0</td>\n",
       "      <td>0</td>\n",
       "      <td>1</td>\n",
       "      <td>0</td>\n",
       "      <td>0</td>\n",
       "      <td>0</td>\n",
       "      <td>0</td>\n",
       "      <td>0</td>\n",
       "      <td>0</td>\n",
       "      <td>1</td>\n",
       "      <td>0</td>\n",
       "    </tr>\n",
       "    <tr>\n",
       "      <th>...</th>\n",
       "      <td>...</td>\n",
       "      <td>...</td>\n",
       "      <td>...</td>\n",
       "      <td>...</td>\n",
       "      <td>...</td>\n",
       "      <td>...</td>\n",
       "      <td>...</td>\n",
       "      <td>...</td>\n",
       "      <td>...</td>\n",
       "      <td>...</td>\n",
       "      <td>...</td>\n",
       "      <td>...</td>\n",
       "      <td>...</td>\n",
       "      <td>...</td>\n",
       "      <td>...</td>\n",
       "      <td>...</td>\n",
       "      <td>...</td>\n",
       "      <td>...</td>\n",
       "    </tr>\n",
       "    <tr>\n",
       "      <th>9245</th>\n",
       "      <td>16</td>\n",
       "      <td>5.147494</td>\n",
       "      <td>2.302585</td>\n",
       "      <td>2004</td>\n",
       "      <td>1887</td>\n",
       "      <td>876</td>\n",
       "      <td>0</td>\n",
       "      <td>1</td>\n",
       "      <td>0</td>\n",
       "      <td>0</td>\n",
       "      <td>0</td>\n",
       "      <td>0</td>\n",
       "      <td>0</td>\n",
       "      <td>0</td>\n",
       "      <td>0</td>\n",
       "      <td>0</td>\n",
       "      <td>1</td>\n",
       "      <td>0</td>\n",
       "    </tr>\n",
       "    <tr>\n",
       "      <th>3385</th>\n",
       "      <td>576</td>\n",
       "      <td>8.627302</td>\n",
       "      <td>4.852030</td>\n",
       "      <td>2006</td>\n",
       "      <td>450</td>\n",
       "      <td>598</td>\n",
       "      <td>0</td>\n",
       "      <td>0</td>\n",
       "      <td>0</td>\n",
       "      <td>1</td>\n",
       "      <td>0</td>\n",
       "      <td>0</td>\n",
       "      <td>0</td>\n",
       "      <td>0</td>\n",
       "      <td>0</td>\n",
       "      <td>0</td>\n",
       "      <td>0</td>\n",
       "      <td>1</td>\n",
       "    </tr>\n",
       "    <tr>\n",
       "      <th>2581</th>\n",
       "      <td>232</td>\n",
       "      <td>8.575273</td>\n",
       "      <td>4.875197</td>\n",
       "      <td>2008</td>\n",
       "      <td>1192</td>\n",
       "      <td>723</td>\n",
       "      <td>0</td>\n",
       "      <td>0</td>\n",
       "      <td>1</td>\n",
       "      <td>0</td>\n",
       "      <td>0</td>\n",
       "      <td>0</td>\n",
       "      <td>0</td>\n",
       "      <td>0</td>\n",
       "      <td>0</td>\n",
       "      <td>0</td>\n",
       "      <td>0</td>\n",
       "      <td>1</td>\n",
       "    </tr>\n",
       "    <tr>\n",
       "      <th>12503</th>\n",
       "      <td>231</td>\n",
       "      <td>5.342334</td>\n",
       "      <td>3.465736</td>\n",
       "      <td>2012</td>\n",
       "      <td>824</td>\n",
       "      <td>1204</td>\n",
       "      <td>0</td>\n",
       "      <td>0</td>\n",
       "      <td>0</td>\n",
       "      <td>1</td>\n",
       "      <td>0</td>\n",
       "      <td>0</td>\n",
       "      <td>0</td>\n",
       "      <td>0</td>\n",
       "      <td>0</td>\n",
       "      <td>0</td>\n",
       "      <td>0</td>\n",
       "      <td>1</td>\n",
       "    </tr>\n",
       "    <tr>\n",
       "      <th>433</th>\n",
       "      <td>448</td>\n",
       "      <td>6.890609</td>\n",
       "      <td>4.867534</td>\n",
       "      <td>2005</td>\n",
       "      <td>1590</td>\n",
       "      <td>1157</td>\n",
       "      <td>0</td>\n",
       "      <td>0</td>\n",
       "      <td>0</td>\n",
       "      <td>1</td>\n",
       "      <td>0</td>\n",
       "      <td>0</td>\n",
       "      <td>0</td>\n",
       "      <td>0</td>\n",
       "      <td>0</td>\n",
       "      <td>0</td>\n",
       "      <td>1</td>\n",
       "      <td>0</td>\n",
       "    </tr>\n",
       "  </tbody>\n",
       "</table>\n",
       "<p>3548 rows × 18 columns</p>\n",
       "</div>"
      ],
      "text/plain": [
       "       num_pages  no_ratingslognorm  text_reviews_count  year_clean  author  \\\n",
       "57           544          11.144279            8.423102        1996     229   \n",
       "75           256           6.418365            3.433987        1996     536   \n",
       "89           191           7.971431            5.181784        2004     298   \n",
       "98           797          11.029066            7.576097        2003     770   \n",
       "123          224           6.131226            3.713572        2004     474   \n",
       "...          ...                ...                 ...         ...     ...   \n",
       "9245          16           5.147494            2.302585        2004    1887   \n",
       "3385         576           8.627302            4.852030        2006     450   \n",
       "2581         232           8.575273            4.875197        2008    1192   \n",
       "12503        231           5.342334            3.465736        2012     824   \n",
       "433          448           6.890609            4.867534        2005    1590   \n",
       "\n",
       "       publisher  genre_Other  genre_children  genre_comics  \\\n",
       "57           601            0               0             0   \n",
       "75           667            0               0             0   \n",
       "89          1365            0               0             0   \n",
       "98          1092            0               0             0   \n",
       "123         1205            0               0             0   \n",
       "...          ...          ...             ...           ...   \n",
       "9245         876            0               1             0   \n",
       "3385         598            0               0             0   \n",
       "2581         723            0               0             1   \n",
       "12503       1204            0               0             0   \n",
       "433         1157            0               0             0   \n",
       "\n",
       "       genre_fantasy_paranormal_fiction  genre_history_biography  \\\n",
       "57                                    1                        0   \n",
       "75                                    0                        1   \n",
       "89                                    0                        0   \n",
       "98                                    0                        0   \n",
       "123                                   1                        0   \n",
       "...                                 ...                      ...   \n",
       "9245                                  0                        0   \n",
       "3385                                  1                        0   \n",
       "2581                                  0                        0   \n",
       "12503                                 1                        0   \n",
       "433                                   1                        0   \n",
       "\n",
       "       genre_mystery_thriller_crime  genre_not_given  genre_poetry_philosophy  \\\n",
       "57                                0                0                        0   \n",
       "75                                0                0                        0   \n",
       "89                                1                0                        0   \n",
       "98                                0                0                        0   \n",
       "123                               0                0                        0   \n",
       "...                             ...              ...                      ...   \n",
       "9245                              0                0                        0   \n",
       "3385                              0                0                        0   \n",
       "2581                              0                0                        0   \n",
       "12503                             0                0                        0   \n",
       "433                               0                0                        0   \n",
       "\n",
       "       genre_romance  genre_young_adult  rating_between_between 3 and 4  \\\n",
       "57                 0                  0                               0   \n",
       "75                 0                  0                               1   \n",
       "89                 0                  0                               1   \n",
       "98                 0                  0                               1   \n",
       "123                0                  0                               1   \n",
       "...              ...                ...                             ...   \n",
       "9245               0                  0                               1   \n",
       "3385               0                  0                               0   \n",
       "2581               0                  0                               0   \n",
       "12503              0                  0                               0   \n",
       "433                0                  0                               1   \n",
       "\n",
       "       rating_between_between 4 and 5  \n",
       "57                                  1  \n",
       "75                                  0  \n",
       "89                                  0  \n",
       "98                                  0  \n",
       "123                                 0  \n",
       "...                               ...  \n",
       "9245                                0  \n",
       "3385                                1  \n",
       "2581                                1  \n",
       "12503                               1  \n",
       "433                                 0  \n",
       "\n",
       "[3548 rows x 18 columns]"
      ]
     },
     "execution_count": 45,
     "metadata": {},
     "output_type": "execute_result"
    }
   ],
   "source": [
    "features"
   ]
  },
  {
   "cell_type": "code",
   "execution_count": 46,
   "metadata": {},
   "outputs": [],
   "source": [
    "min_max_scaler = MinMaxScaler()\n",
    "features = min_max_scaler.fit_transform(features)"
   ]
  },
  {
   "cell_type": "code",
   "execution_count": 47,
   "metadata": {},
   "outputs": [
    {
     "name": "stdout",
     "output_type": "stream",
     "text": [
      "Classifier_name : LogisticRegression_2\n",
      "accuracy:  0.8734518978276439\n",
      "standard dev:  0.010993379383880567\n"
     ]
    }
   ],
   "source": [
    "lgr = LogisticRegression(random_state=142)\n",
    "lgr2_acc=clf_result(lgr,\"LogisticRegression_2\")"
   ]
  },
  {
   "cell_type": "code",
   "execution_count": 48,
   "metadata": {},
   "outputs": [
    {
     "name": "stdout",
     "output_type": "stream",
     "text": [
      "Classifier_name : KNeighborsClassifier_2\n",
      "accuracy:  0.8821970239516194\n",
      "standard dev:  0.019952839911540943\n"
     ]
    }
   ],
   "source": [
    "knn = KNeighborsClassifier(n_neighbors=3)\n",
    "knn2_acc=clf_result(knn,\"KNeighborsClassifier_2\")"
   ]
  },
  {
   "cell_type": "code",
   "execution_count": 49,
   "metadata": {},
   "outputs": [
    {
     "name": "stdout",
     "output_type": "stream",
     "text": [
      "Classifier_name :  MLPClassifier_2\n",
      "accuracy:  0.9123545794541259\n",
      "standard dev:  0.014061525362664168\n"
     ]
    }
   ],
   "source": [
    "mlp = MLPClassifier(alpha=1, max_iter=1000,random_state=142,hidden_layer_sizes=(100,100))\n",
    "mlp2_acc=clf_result(mlp,\" MLPClassifier_2\")"
   ]
  },
  {
   "cell_type": "markdown",
   "metadata": {},
   "source": [
    "## Observation\n",
    "We can see that adding more data has increased all of our model's accuracy significantly. but as before the highest accuracy is of Multilayered perceptron followed by Logistic regression and the lowest being KNN."
   ]
  },
  {
   "cell_type": "code",
   "execution_count": 50,
   "metadata": {},
   "outputs": [],
   "source": [
    "eval_df=pd.DataFrame()\n",
    "eval_df['model']=model_arr\n",
    "eval_df['accuracy']=accuracy_arr\n",
    "eval_df['standard_dev']=std_arr"
   ]
  },
  {
   "cell_type": "code",
   "execution_count": 51,
   "metadata": {},
   "outputs": [],
   "source": [
    "eval_lgr=eval_df.loc[[0,3]]\n",
    "eval_knn=eval_df.loc[[1,4]]\n",
    "eval_mlp=eval_df.loc[[2,5]]\n"
   ]
  },
  {
   "cell_type": "code",
   "execution_count": 52,
   "metadata": {},
   "outputs": [
    {
     "data": {
      "text/html": [
       "<div>\n",
       "<style scoped>\n",
       "    .dataframe tbody tr th:only-of-type {\n",
       "        vertical-align: middle;\n",
       "    }\n",
       "\n",
       "    .dataframe tbody tr th {\n",
       "        vertical-align: top;\n",
       "    }\n",
       "\n",
       "    .dataframe thead th {\n",
       "        text-align: right;\n",
       "    }\n",
       "</style>\n",
       "<table border=\"1\" class=\"dataframe\">\n",
       "  <thead>\n",
       "    <tr style=\"text-align: right;\">\n",
       "      <th></th>\n",
       "      <th>model</th>\n",
       "      <th>accuracy</th>\n",
       "      <th>standard_dev</th>\n",
       "    </tr>\n",
       "  </thead>\n",
       "  <tbody>\n",
       "    <tr>\n",
       "      <th>0</th>\n",
       "      <td>LogisticRegression</td>\n",
       "      <td>0.815958</td>\n",
       "      <td>0.022790</td>\n",
       "    </tr>\n",
       "    <tr>\n",
       "      <th>1</th>\n",
       "      <td>KNeighborsClassifier</td>\n",
       "      <td>0.783838</td>\n",
       "      <td>0.032304</td>\n",
       "    </tr>\n",
       "    <tr>\n",
       "      <th>2</th>\n",
       "      <td>MLPClassifier</td>\n",
       "      <td>0.816243</td>\n",
       "      <td>0.023333</td>\n",
       "    </tr>\n",
       "    <tr>\n",
       "      <th>3</th>\n",
       "      <td>LogisticRegression_2</td>\n",
       "      <td>0.873452</td>\n",
       "      <td>0.010993</td>\n",
       "    </tr>\n",
       "    <tr>\n",
       "      <th>4</th>\n",
       "      <td>KNeighborsClassifier_2</td>\n",
       "      <td>0.882197</td>\n",
       "      <td>0.019953</td>\n",
       "    </tr>\n",
       "    <tr>\n",
       "      <th>5</th>\n",
       "      <td>MLPClassifier_2</td>\n",
       "      <td>0.912355</td>\n",
       "      <td>0.014062</td>\n",
       "    </tr>\n",
       "  </tbody>\n",
       "</table>\n",
       "</div>"
      ],
      "text/plain": [
       "                    model  accuracy  standard_dev\n",
       "0      LogisticRegression  0.815958      0.022790\n",
       "1    KNeighborsClassifier  0.783838      0.032304\n",
       "2           MLPClassifier  0.816243      0.023333\n",
       "3    LogisticRegression_2  0.873452      0.010993\n",
       "4  KNeighborsClassifier_2  0.882197      0.019953\n",
       "5         MLPClassifier_2  0.912355      0.014062"
      ]
     },
     "execution_count": 52,
     "metadata": {},
     "output_type": "execute_result"
    }
   ],
   "source": [
    "eval_df"
   ]
  },
  {
   "cell_type": "code",
   "execution_count": 53,
   "metadata": {},
   "outputs": [],
   "source": [
    "eval_df_final=pd.concat([eval_lgr, eval_knn,eval_mlp])"
   ]
  },
  {
   "cell_type": "code",
   "execution_count": 54,
   "metadata": {},
   "outputs": [
    {
     "data": {
      "image/png": "[encoded data removed]",
      "text/plain": [
       "<Figure size 720x360 with 1 Axes>"
      ]
     },
     "metadata": {
      "needs_background": "light"
     },
     "output_type": "display_data"
    }
   ],
   "source": [
    "plt.figure(figsize=(10,5))\n",
    "chart =sns.barplot(data=eval_df_final,x=\"model\", y=\"accuracy\")\n",
    "chart.set_xticklabels(chart.get_xticklabels(), rotation=45)\n",
    "plt.grid()"
   ]
  },
  {
   "cell_type": "markdown",
   "metadata": {},
   "source": [
    "### Observation\n",
    "It can be seen that we have received a relatively high accuracy from all of the algorithms but overall models with added features performed better and in both cases, Multi-layered perceptron performed better than other algorithms.\n",
    "To get a more absolute result we will perform a t-test to verify the hypothesis"
   ]
  },
  {
   "cell_type": "code",
   "execution_count": 55,
   "metadata": {},
   "outputs": [],
   "source": [
    "from scipy.stats import ttest_ind"
   ]
  },
  {
   "cell_type": "markdown",
   "metadata": {},
   "source": [
    "###### For classifiers without addiditonal features"
   ]
  },
  {
   "cell_type": "code",
   "execution_count": 60,
   "metadata": {},
   "outputs": [
    {
     "name": "stdout",
     "output_type": "stream",
     "text": [
      "p: 0.979384352840892\n"
     ]
    }
   ],
   "source": [
    "s,p=ttest_ind(lgr_acc,mlp_acc)\n",
    "print(\"p:\",p)\n"
   ]
  },
  {
   "cell_type": "code",
   "execution_count": 61,
   "metadata": {},
   "outputs": [
    {
     "name": "stdout",
     "output_type": "stream",
     "text": [
      "p: 0.025283823575642888\n"
     ]
    }
   ],
   "source": [
    "s,p=ttest_ind(knn_acc,mlp_acc)\n",
    "print(\"p:\",p)"
   ]
  },
  {
   "cell_type": "code",
   "execution_count": 62,
   "metadata": {},
   "outputs": [
    {
     "name": "stdout",
     "output_type": "stream",
     "text": [
      "p: 0.025396282218741247\n"
     ]
    }
   ],
   "source": [
    "s,p=ttest_ind(lgr_acc,knn_acc)\n",
    "print(\"p:\",p)"
   ]
  },
  {
   "cell_type": "markdown",
   "metadata": {},
   "source": [
    "From the T tests above we can see that there are no significant difference between the models . as all the p values are more tham 0.05"
   ]
  },
  {
   "cell_type": "markdown",
   "metadata": {},
   "source": [
    "##### For classifiers with addiditonal features"
   ]
  },
  {
   "cell_type": "code",
   "execution_count": 56,
   "metadata": {},
   "outputs": [
    {
     "name": "stdout",
     "output_type": "stream",
     "text": [
      "p: 3.811302587625453e-06\n"
     ]
    }
   ],
   "source": [
    "s,p=ttest_ind(lgr2_acc,mlp2_acc)\n",
    "print(\"p:\",p)\n"
   ]
  },
  {
   "cell_type": "code",
   "execution_count": 57,
   "metadata": {},
   "outputs": [
    {
     "name": "stdout",
     "output_type": "stream",
     "text": [
      "p: 0.0016154846944114575\n"
     ]
    }
   ],
   "source": [
    "s,p=ttest_ind(knn2_acc,mlp2_acc)\n",
    "print(\"p:\",p)"
   ]
  },
  {
   "cell_type": "code",
   "execution_count": 59,
   "metadata": {},
   "outputs": [
    {
     "name": "stdout",
     "output_type": "stream",
     "text": [
      "p: 0.26453740742271037\n"
     ]
    }
   ],
   "source": [
    "s,p=ttest_ind(lgr2_acc,knn2_acc)\n",
    "print(\"p:\",p)"
   ]
  },
  {
   "cell_type": "markdown",
   "metadata": {},
   "source": [
    "From the following T-tests, we can see That after adding more features MLP classifier is definitely better than the other algorithms but there is no significant difference between Logistic regression and Knn.\n",
    "So we are going to work with the MLP classifier and try to improve the accuracy even more. by some hyperparameter tuning."
   ]
  },
  {
   "cell_type": "markdown",
   "metadata": {},
   "source": [
    "#### Choose number of hidden layers"
   ]
  },
  {
   "cell_type": "code",
   "execution_count": 63,
   "metadata": {},
   "outputs": [],
   "source": [
    "# Try different solvers\n",
    "cv_scores = []\n",
    "cv_scores_std = []\n",
    "hidden_layer_sizes=[(100),(100,100),(100,100,100),(100,100,100,100)]\n",
    "for i in hidden_layer_sizes:\n",
    "    clf_mlp = MLPClassifier(alpha=1, max_iter=1000,random_state=142,hidden_layer_sizes=i)\n",
    "    scores = cross_val_score(clf_mlp, features, labels, scoring='accuracy', cv=KFold(n_splits=10, shuffle=True, random_state=142),n_jobs=-1)\n",
    "    cv_scores.append(scores.mean())\n",
    "    cv_scores_std.append(scores.std())"
   ]
  },
  {
   "cell_type": "code",
   "execution_count": 65,
   "metadata": {},
   "outputs": [
    {
     "data": {
      "image/png": "[encoded data removed]",
      "text/plain": [
       "<Figure size 432x288 with 1 Axes>"
      ]
     },
     "metadata": {
      "needs_background": "light"
     },
     "output_type": "display_data"
    }
   ],
   "source": [
    "plt.bar([\"1\",\"2\",\"3\",\"4\"], cv_scores, yerr=cv_scores_std, label='Accuracy')\n",
    "plt.xlabel('Hidden_layers')\n",
    "plt.ylim([0.5, 1])\n",
    "plt.ylabel('Accuracy')\n",
    "plt.legend(loc='best')\n",
    "plt.show()"
   ]
  },
  {
   "cell_type": "code",
   "execution_count": 66,
   "metadata": {},
   "outputs": [
    {
     "data": {
      "text/plain": [
       "[0.8920609532903636, 0.9123545794541259, 0.9115118962361741, 0.910666825813639]"
      ]
     },
     "execution_count": 66,
     "metadata": {},
     "output_type": "execute_result"
    }
   ],
   "source": [
    "cv_scores"
   ]
  },
  {
   "cell_type": "markdown",
   "metadata": {},
   "source": [
    "It can be seen that adding extra layers after the secong layer doesnt have any significant difference in the accuracy so we can keep the number of layer to 2 ."
   ]
  },
  {
   "cell_type": "markdown",
   "metadata": {},
   "source": [
    "#### Choose solver for the learning process"
   ]
  },
  {
   "cell_type": "code",
   "execution_count": 67,
   "metadata": {},
   "outputs": [],
   "source": [
    "# Try different solvers\n",
    "cv_scores = []\n",
    "cv_scores_std = []\n",
    "solvers = ['lbfgs', 'sgd', 'adam']\n",
    "for i in solvers:\n",
    "    clf_mlp = MLPClassifier(alpha=1, max_iter=1000,solver=i,random_state=142,hidden_layer_sizes=(100,100))\n",
    "    scores = cross_val_score(clf_mlp, features, labels, scoring='accuracy', cv=KFold(n_splits=10, shuffle=True, random_state=142),n_jobs=-1)\n",
    "    cv_scores.append(scores.mean())\n",
    "    cv_scores_std.append(scores.std())"
   ]
  },
  {
   "cell_type": "code",
   "execution_count": 68,
   "metadata": {},
   "outputs": [
    {
     "data": {
      "image/png": "[encoded data removed]",
      "text/plain": [
       "<Figure size 432x288 with 1 Axes>"
      ]
     },
     "metadata": {
      "needs_background": "light"
     },
     "output_type": "display_data"
    }
   ],
   "source": [
    "# Plot the relationship\n",
    "plt.bar(solvers, cv_scores, yerr=cv_scores_std, label='Accuracy')\n",
    "plt.xlabel('Solvers')\n",
    "plt.ylim([0.5, 1])\n",
    "plt.ylabel('Accuracy')\n",
    "plt.legend(loc='best')\n",
    "plt.show()"
   ]
  },
  {
   "cell_type": "code",
   "execution_count": 69,
   "metadata": {},
   "outputs": [
    {
     "data": {
      "text/plain": [
       "[0.9005220020689106, 0.8830365242301266, 0.9123545794541259]"
      ]
     },
     "execution_count": 69,
     "metadata": {},
     "output_type": "execute_result"
    }
   ],
   "source": [
    "cv_scores"
   ]
  },
  {
   "cell_type": "code",
   "execution_count": 70,
   "metadata": {},
   "outputs": [
    {
     "data": {
      "text/plain": [
       "[0.019422768879285204, 0.008337208329824078, 0.014061525362664168]"
      ]
     },
     "execution_count": 70,
     "metadata": {},
     "output_type": "execute_result"
    }
   ],
   "source": [
    "cv_scores_std"
   ]
  },
  {
   "cell_type": "markdown",
   "metadata": {},
   "source": [
    "Adam seems to provide us with the best results when it comes to the accuracy but when it comes to consistency , SGD has the least standard deviation . We will keep the default optimizer for out model , which is adam . "
   ]
  },
  {
   "cell_type": "markdown",
   "metadata": {},
   "source": [
    "#### Activation functions"
   ]
  },
  {
   "cell_type": "code",
   "execution_count": 71,
   "metadata": {},
   "outputs": [],
   "source": [
    "cv_scores = []\n",
    "cv_scores_std = []\n",
    "activation = ['identity', 'logistic','tanh','relu']\n",
    "for i in activation:\n",
    "    clf_mlp = MLPClassifier(alpha=1, max_iter=1000,activation=i,solver='adam',random_state=142,hidden_layer_sizes=(100,100))\n",
    "    scores = cross_val_score(clf_mlp, features, labels, scoring='accuracy', cv=KFold(n_splits=10, shuffle=True, random_state=142),n_jobs=-1)\n",
    "    cv_scores.append(scores.mean())\n",
    "    cv_scores_std.append(scores.std())"
   ]
  },
  {
   "cell_type": "code",
   "execution_count": 72,
   "metadata": {},
   "outputs": [
    {
     "data": {
      "image/png": "[encoded data removed]",
      "text/plain": [
       "<Figure size 432x288 with 1 Axes>"
      ]
     },
     "metadata": {
      "needs_background": "light"
     },
     "output_type": "display_data"
    }
   ],
   "source": [
    "plt.bar(activation, cv_scores, yerr=cv_scores_std, label='Accuracy')\n",
    "plt.xlabel('Activation')\n",
    "plt.ylim([0.5, 1])\n",
    "plt.ylabel('Accuracy')\n",
    "plt.legend(loc='best')\n",
    "plt.show()\n"
   ]
  },
  {
   "cell_type": "markdown",
   "metadata": {},
   "source": [
    "relu seems to provide us with the best results when it comes to the accuracy."
   ]
  },
  {
   "cell_type": "markdown",
   "metadata": {},
   "source": [
    "#### Use different values of alpha"
   ]
  },
  {
   "cell_type": "code",
   "execution_count": 74,
   "metadata": {},
   "outputs": [],
   "source": [
    "\n",
    "# Try different regulaization parameters\n",
    "cv_scores = []\n",
    "cv_scores_std = []\n",
    "alphas = [0.0001,0.001,0.01, 0.1,1]\n",
    "for i in alphas:\n",
    "    clf_mlp = MLPClassifier(alpha=i, max_iter=1000,activation='relu',solver='adam',random_state=142,hidden_layer_sizes=(100,100))\n",
    "    scores = cross_val_score(clf_mlp, features, labels, scoring='accuracy', cv=KFold(n_splits=10, shuffle=True, random_state=142),n_jobs=-1)\n",
    "    cv_scores.append(scores.mean())\n",
    "    cv_scores_std.append(scores.std())"
   ]
  },
  {
   "cell_type": "code",
   "execution_count": 77,
   "metadata": {},
   "outputs": [
    {
     "data": {
      "text/plain": [
       "[0.9126346781252487,\n",
       " 0.9126346781252487,\n",
       " 0.9131980584069389,\n",
       " 0.9123569666587095,\n",
       " 0.9123545794541259]"
      ]
     },
     "execution_count": 77,
     "metadata": {},
     "output_type": "execute_result"
    }
   ],
   "source": [
    "cv_scores"
   ]
  },
  {
   "cell_type": "code",
   "execution_count": 78,
   "metadata": {},
   "outputs": [
    {
     "data": {
      "image/png": "[encoded data removed]",
      "text/plain": [
       "<Figure size 432x288 with 1 Axes>"
      ]
     },
     "metadata": {
      "needs_background": "light"
     },
     "output_type": "display_data"
    }
   ],
   "source": [
    "# Plot the relationship\n",
    "plt.errorbar(alphas, cv_scores, yerr=cv_scores_std, marker='x', label='Accuracy')\n",
    "plt.xscale('log')\n",
    "plt.xlabel('alpha')\n",
    "plt.ylim([0.6, 1])\n",
    "plt.ylabel('Accuracy')\n",
    "plt.legend(loc='best')\n",
    "plt.show()"
   ]
  },
  {
   "cell_type": "markdown",
   "metadata": {},
   "source": [
    "Even though there is very small difference in results ,from the folowing leatning rates , 0.01 seems to give us the best result . "
   ]
  },
  {
   "cell_type": "markdown",
   "metadata": {},
   "source": [
    "## Conclusion"
   ]
  },
  {
   "cell_type": "markdown",
   "metadata": {},
   "source": [
    "#### Receomender System :\n",
    "From the above analysis, we can say that the book description is the most important factor when choosing similar books.\n",
    "and adding other features to them by concatenating before using TF-IDF vectorizer, gives a much better result than description alone.\n",
    "using other features like rating and review count in KNN doesn't seem to be a good option as they don't hold the information regarding the context.\n",
    "\n",
    "###### Problem :\n",
    "There were some problems with the dataset, as it wasn't fully cleaned. there were some repeated books, as the same book can be of different editions.\n",
    "* Using a better and cleaner dataset will give us a better result when it comes to finding similar books \n",
    "* Using a Deep Neural network like LSTm or using Word2vec might also improve the results\n",
    "\n",
    "\n",
    "#### Book to movies prediction :\n",
    "We have used several different models to predict if a book will be a movie representation or not.\n",
    "the models we have used are Logistic Regression, K Nearest Neighbour, and Multi-Layered perceptron.\n",
    "\n",
    "We have seen adding features like author and publisher increases the prediction significantly, so it can be said that the author and publisher are important when it comes to deciding which books will have movie representations. as we have a low dataset we had to use 10 fold cross-validation. \n",
    "\n",
    "###### Problem :\n",
    "\n",
    "* There was a lack of data for books that were turned to movies, increasing the number of samples will increase the accuracy."
   ]
  },
  {
   "cell_type": "code",
   "execution_count": null,
   "metadata": {},
   "outputs": [],
   "source": []
  }
 ],
 "metadata": {
  "kernelspec": {
   "display_name": "Python 3",
   "language": "python",
   "name": "python3"
  },
  "language_info": {
   "codemirror_mode": {
    "name": "ipython",
    "version": 3
   },
   "file_extension": ".py",
   "mimetype": "text/x-python",
   "name": "python",
   "nbconvert_exporter": "python",
   "pygments_lexer": "ipython3",
   "version": "3.8.3"
  }
 },
 "nbformat": 4,
 "nbformat_minor": 4
}
