{
 "cells": [
  {
   "cell_type": "code",
   "execution_count": 3,
   "metadata": {},
   "outputs": [],
   "source": [
    "import pandas as pd\n",
    "import numpy as np\n",
    "import re\n",
    "import seaborn as sns\n",
    "import ast\n",
    "import matplotlib.pyplot as plt\n",
    "import pickle"
   ]
  },
  {
   "cell_type": "markdown",
   "metadata": {},
   "source": [
    "# Preparing Dataset"
   ]
  },
  {
   "cell_type": "markdown",
   "metadata": {},
   "source": [
    "### The Datasets we have used is :\n",
    "\n",
    "\n",
    "* GoodReads data       (link : https://www.kaggle.com/jealousleopard/goodreadsbooks)\n",
    "* UCSD data       (link : https://sites.google.com/eng.ucsd.edu/ucsdbookgraph/home?authuser=0)"
   ]
  },
  {
   "cell_type": "markdown",
   "metadata": {},
   "source": [
    "## About the data"
   ]
  },
  {
   "cell_type": "markdown",
   "metadata": {},
   "source": [
    "#### GoodReads data \n",
    "GoodReads data is a very popular Dataset of books in Kaggle  , it was made from the Goodreads website which is the world's largest site for readers and book recommendations. It contains the following columns."
   ]
  },
  {
   "cell_type": "code",
   "execution_count": 11,
   "metadata": {},
   "outputs": [
    {
     "name": "stderr",
     "output_type": "stream",
     "text": [
      "b'Skipping line 3350: expected 12 fields, saw 13\\nSkipping line 4704: expected 12 fields, saw 13\\nSkipping line 5879: expected 12 fields, saw 13\\nSkipping line 8981: expected 12 fields, saw 13\\n'\n"
     ]
    }
   ],
   "source": [
    "Good_reads=pd.read_csv('data/GoodReads_books.csv',error_bad_lines = False)\n",
    "Good_reads.drop_duplicates(subset=['title'], inplace=True)"
   ]
  },
  {
   "cell_type": "code",
   "execution_count": 12,
   "metadata": {},
   "outputs": [
    {
     "data": {
      "text/plain": [
       "['bookID',\n",
       " 'title',\n",
       " 'authors',\n",
       " 'average_rating',\n",
       " 'isbn',\n",
       " 'isbn13',\n",
       " 'language_code',\n",
       " '  num_pages',\n",
       " 'ratings_count',\n",
       " 'text_reviews_count',\n",
       " 'publication_date',\n",
       " 'publisher']"
      ]
     },
     "execution_count": 12,
     "metadata": {},
     "output_type": "execute_result"
    }
   ],
   "source": [
    "goodreads_cols=Good_reads.columns.to_list()\n",
    "goodreads_cols"
   ]
  },
  {
   "cell_type": "markdown",
   "metadata": {},
   "source": [
    "### Colums Description:\n",
    "\n",
    "* bookID :This is the GoodReads book id\n",
    "* title : Title of the book\n",
    "* authors : The primary author of the book \n",
    "* average_rating : The Avegare rating of the book\n",
    "* ISBN ISBN(10) number: tells the information about a book - such as edition and publisher\n",
    "* ISBN 13:  The new format for ISBN, implemented in 2007. 13 digits* language_code Tells the language for the books\n",
    "* language_code:  Tells the language for the books\n",
    "* Num_pages: The number of pages in the book\n",
    "* Ratings_count : The total number of ratings the book recieved in GoodReads\n",
    "* text_reviews_count : The tital number of reviews the book recieved in GoodReads\n",
    "* publication_date: The date book was published in \n",
    "* publisher: The publisher of the paper back version of the book\n",
    "\n",
    "\n",
    "\n",
    "\n",
    "\n"
   ]
  },
  {
   "cell_type": "code",
   "execution_count": 13,
   "metadata": {},
   "outputs": [
    {
     "data": {
      "text/html": [
       "<div>\n",
       "<style scoped>\n",
       "    .dataframe tbody tr th:only-of-type {\n",
       "        vertical-align: middle;\n",
       "    }\n",
       "\n",
       "    .dataframe tbody tr th {\n",
       "        vertical-align: top;\n",
       "    }\n",
       "\n",
       "    .dataframe thead th {\n",
       "        text-align: right;\n",
       "    }\n",
       "</style>\n",
       "<table border=\"1\" class=\"dataframe\">\n",
       "  <thead>\n",
       "    <tr style=\"text-align: right;\">\n",
       "      <th></th>\n",
       "      <th>bookID</th>\n",
       "      <th>title</th>\n",
       "      <th>authors</th>\n",
       "      <th>average_rating</th>\n",
       "      <th>isbn</th>\n",
       "      <th>isbn13</th>\n",
       "      <th>language_code</th>\n",
       "      <th>num_pages</th>\n",
       "      <th>ratings_count</th>\n",
       "      <th>text_reviews_count</th>\n",
       "      <th>publication_date</th>\n",
       "      <th>publisher</th>\n",
       "    </tr>\n",
       "  </thead>\n",
       "  <tbody>\n",
       "    <tr>\n",
       "      <th>0</th>\n",
       "      <td>1</td>\n",
       "      <td>Harry Potter and the Half-Blood Prince (Harry ...</td>\n",
       "      <td>J.K. Rowling/Mary GrandPré</td>\n",
       "      <td>4.57</td>\n",
       "      <td>0439785960</td>\n",
       "      <td>9780439785969</td>\n",
       "      <td>eng</td>\n",
       "      <td>652</td>\n",
       "      <td>2095690</td>\n",
       "      <td>27591</td>\n",
       "      <td>9/16/2006</td>\n",
       "      <td>Scholastic Inc.</td>\n",
       "    </tr>\n",
       "    <tr>\n",
       "      <th>1</th>\n",
       "      <td>2</td>\n",
       "      <td>Harry Potter and the Order of the Phoenix (Har...</td>\n",
       "      <td>J.K. Rowling/Mary GrandPré</td>\n",
       "      <td>4.49</td>\n",
       "      <td>0439358078</td>\n",
       "      <td>9780439358071</td>\n",
       "      <td>eng</td>\n",
       "      <td>870</td>\n",
       "      <td>2153167</td>\n",
       "      <td>29221</td>\n",
       "      <td>9/1/2004</td>\n",
       "      <td>Scholastic Inc.</td>\n",
       "    </tr>\n",
       "  </tbody>\n",
       "</table>\n",
       "</div>"
      ],
      "text/plain": [
       "   bookID                                              title  ... publication_date        publisher\n",
       "0       1  Harry Potter and the Half-Blood Prince (Harry ...  ...        9/16/2006  Scholastic Inc.\n",
       "1       2  Harry Potter and the Order of the Phoenix (Har...  ...         9/1/2004  Scholastic Inc.\n",
       "\n",
       "[2 rows x 12 columns]"
      ]
     },
     "execution_count": 13,
     "metadata": {},
     "output_type": "execute_result"
    }
   ],
   "source": [
    "Good_reads.head(2)"
   ]
  },
  {
   "cell_type": "markdown",
   "metadata": {},
   "source": [
    "Even though the data contains detailed information, it is missing information like description, the number of awards, and Genre which are essential features for both the recommendation system and Book to the movie prediction model."
   ]
  },
  {
   "cell_type": "code",
   "execution_count": 1,
   "metadata": {},
   "outputs": [],
   "source": [
    "from Scraper_files.Datascraper import get_data"
   ]
  },
  {
   "cell_type": "code",
   "execution_count": 16,
   "metadata": {},
   "outputs": [],
   "source": [
    "ids=Good_reads['bookID'].to_list() "
   ]
  },
  {
   "cell_type": "code",
   "execution_count": 167,
   "metadata": {},
   "outputs": [
    {
     "data": {
      "text/plain": [
       "'count=0\\ntry:\\n    scrape_df=pd.read_csv(\\'data/GoddReads_desc.csv\\')\\n    title=scrape_df[\\'title\\'].to_list()\\n    description=scrape_df[\\'description\\'].to_list()\\n    awards=scrape_df[\\'awards\\'].to_list()\\n    genre=scrape_df[\\'genre\\'].to_list()\\n    book_id=scrape_df[\\'book_id\\'].to_list()\\nexcept Exception as e:\\n    print(e)\\n    title=[]\\n    description=[]\\n    awards=[]\\n    genre=[]\\n    book_id=[]\\n\\nfor items in ids:\\n    count+=1\\n    exc=1\\n    if items in book_id:\\n        continue\\n    else:\\n        try:\\n            book_data=get_data(f\\'https://www.goodreads.com/book/show/{items}\\')\\n        except Exception as e:\\n            if exc==1:\\n                pass\\n            print(e)              \\n        title.append(book_data[\\'title\\'])\\n        description.append(book_data[\\'description\\'])\\n        awards.append(book_data[\\'awards\\'])\\n        genre.append(book_data[\\'genre\\'])\\n        book_id.append(items)\\n        print(book_data[\\'title\\'],\"_ done_\",items)\\n    if count%10==0:\\n        new_df=pd.DataFrame({\\'title\\':title,\\'description\\':description,\\'awards\\':awards,\\'genre\\':genre,\\'book_id\\':book_id})\\n        new_df.to_csv(\\'data/GoddReads_desc.csv\\')\\n        print(\"saved_csv_entryno_\",items)'"
      ]
     },
     "execution_count": 167,
     "metadata": {},
     "output_type": "execute_result"
    }
   ],
   "source": [
    "'''count=0\n",
    "try:\n",
    "    scrape_df=pd.read_csv('data/GoddReads_desc.csv')\n",
    "    title=scrape_df['title'].to_list()\n",
    "    description=scrape_df['description'].to_list()\n",
    "    awards=scrape_df['awards'].to_list()\n",
    "    genre=scrape_df['genre'].to_list()\n",
    "    book_id=scrape_df['book_id'].to_list()\n",
    "except Exception as e:\n",
    "    print(e)\n",
    "    title=[]\n",
    "    description=[]\n",
    "    awards=[]\n",
    "    genre=[]\n",
    "    book_id=[]\n",
    "\n",
    "for items in ids:\n",
    "    count+=1\n",
    "    exc=1\n",
    "    if items in book_id:\n",
    "        continue\n",
    "    else:\n",
    "        try:\n",
    "            book_data=get_data(f'https://www.goodreads.com/book/show/{items}')\n",
    "        except Exception as e:\n",
    "            if exc==1:\n",
    "                pass\n",
    "            print(e)              \n",
    "        title.append(book_data['title'])\n",
    "        description.append(book_data['description'])\n",
    "        awards.append(book_data['awards'])\n",
    "        genre.append(book_data['genre'])\n",
    "        book_id.append(items)\n",
    "        print(book_data['title'],\"_ done_\",items)\n",
    "    if count%10==0:\n",
    "        new_df=pd.DataFrame({'title':title,'description':description,'awards':awards,'genre':genre,'book_id':book_id})\n",
    "        new_df.to_csv('data/GoddReads_desc.csv')\n",
    "        print(\"saved_csv_entryno_\",items)'''"
   ]
  },
  {
   "cell_type": "markdown",
   "metadata": {},
   "source": [
    "The best way to get those other data is directly from the source, so for adding that information we build a scraper by using python's Beautifulsoup library to get that information directly from the Goodreads website. We import the Scraper from Datascraper.py"
   ]
  },
  {
   "cell_type": "markdown",
   "metadata": {},
   "source": [
    "#### Description of the scraper:\n",
    "* The Data scraper will search for a GoddReads_desc.csv, if it finds one, it will read it will take the columns as list and will keep on appending to that list or will create an empty list for the features. (This is to avoid scraping the entries that has already been scraped)\n",
    "* loop over all the ids and will use it to create the URL for the book.\n",
    "###### URL pattern : https://www.goodreads.com/book/show/(book_id)\n",
    "* then scraped the data and adds it to the lists.\n",
    "* then creates a new data frame and adds the data as new columns.\n",
    "* saves it to a CSV GoddReads_desc.csv after every 10 data."
   ]
  },
  {
   "cell_type": "code",
   "execution_count": 18,
   "metadata": {},
   "outputs": [],
   "source": [
    "GoddReads_desc=pd.read_csv('data/GoddReads_desc.csv',index_col=0,error_bad_lines = False)"
   ]
  },
  {
   "cell_type": "code",
   "execution_count": 19,
   "metadata": {},
   "outputs": [
    {
     "data": {
      "text/html": [
       "<div>\n",
       "<style scoped>\n",
       "    .dataframe tbody tr th:only-of-type {\n",
       "        vertical-align: middle;\n",
       "    }\n",
       "\n",
       "    .dataframe tbody tr th {\n",
       "        vertical-align: top;\n",
       "    }\n",
       "\n",
       "    .dataframe thead th {\n",
       "        text-align: right;\n",
       "    }\n",
       "</style>\n",
       "<table border=\"1\" class=\"dataframe\">\n",
       "  <thead>\n",
       "    <tr style=\"text-align: right;\">\n",
       "      <th></th>\n",
       "      <th>title</th>\n",
       "      <th>description</th>\n",
       "      <th>awards</th>\n",
       "      <th>genre</th>\n",
       "      <th>book_id</th>\n",
       "    </tr>\n",
       "  </thead>\n",
       "  <tbody>\n",
       "    <tr>\n",
       "      <th>0</th>\n",
       "      <td>HarryPotterandtheHalf-BloodPrince</td>\n",
       "      <td>The war against Voldemort is not going well; e...</td>\n",
       "      <td>3</td>\n",
       "      <td>['Fantasy', 'Young Adult', 'Fiction', 'Fantasy...</td>\n",
       "      <td>1</td>\n",
       "    </tr>\n",
       "    <tr>\n",
       "      <th>1</th>\n",
       "      <td>HarryPotterandtheOrderofthePhoenix</td>\n",
       "      <td>There is a door at the end of a silent corrido...</td>\n",
       "      <td>9</td>\n",
       "      <td>['Fantasy', 'Young Adult', 'Fiction', 'Fantasy...</td>\n",
       "      <td>2</td>\n",
       "    </tr>\n",
       "    <tr>\n",
       "      <th>2</th>\n",
       "      <td>HarryPotterandtheChamberofSecrets</td>\n",
       "      <td>The Dursleys were so mean and hideous that sum...</td>\n",
       "      <td>7</td>\n",
       "      <td>['Fantasy', 'Young Adult', 'Fiction', 'Fantasy...</td>\n",
       "      <td>4</td>\n",
       "    </tr>\n",
       "    <tr>\n",
       "      <th>3</th>\n",
       "      <td>HarryPotterandthePrisonerofAzkaban</td>\n",
       "      <td>Harry Potter's third year at Hogwarts is full ...</td>\n",
       "      <td>13</td>\n",
       "      <td>['Fantasy', 'Young Adult', 'Fiction', 'Fantasy...</td>\n",
       "      <td>5</td>\n",
       "    </tr>\n",
       "    <tr>\n",
       "      <th>4</th>\n",
       "      <td>HarryPotterBoxedSet,Books1-5(HarryPotter,#1-5)</td>\n",
       "      <td>NaN</td>\n",
       "      <td>0</td>\n",
       "      <td>['Fantasy', 'Young Adult', 'Fiction', 'Fantasy...</td>\n",
       "      <td>8</td>\n",
       "    </tr>\n",
       "  </tbody>\n",
       "</table>\n",
       "</div>"
      ],
      "text/plain": [
       "                                            title  ... book_id\n",
       "0               HarryPotterandtheHalf-BloodPrince  ...       1\n",
       "1              HarryPotterandtheOrderofthePhoenix  ...       2\n",
       "2               HarryPotterandtheChamberofSecrets  ...       4\n",
       "3              HarryPotterandthePrisonerofAzkaban  ...       5\n",
       "4  HarryPotterBoxedSet,Books1-5(HarryPotter,#1-5)  ...       8\n",
       "\n",
       "[5 rows x 5 columns]"
      ]
     },
     "execution_count": 19,
     "metadata": {},
     "output_type": "execute_result"
    }
   ],
   "source": [
    "GoddReads_desc.head()"
   ]
  },
  {
   "cell_type": "code",
   "execution_count": 20,
   "metadata": {},
   "outputs": [
    {
     "name": "stdout",
     "output_type": "stream",
     "text": [
      "<class 'pandas.core.frame.DataFrame'>\n",
      "Int64Index: 10220 entries, 0 to 10219\n",
      "Data columns (total 5 columns):\n",
      " #   Column       Non-Null Count  Dtype \n",
      "---  ------       --------------  ----- \n",
      " 0   title        10220 non-null  object\n",
      " 1   description  8200 non-null   object\n",
      " 2   awards       10220 non-null  int64 \n",
      " 3   genre        10220 non-null  object\n",
      " 4   book_id      10220 non-null  int64 \n",
      "dtypes: int64(2), object(3)\n",
      "memory usage: 479.1+ KB\n"
     ]
    }
   ],
   "source": [
    "GoddReads_desc.info()"
   ]
  },
  {
   "cell_type": "code",
   "execution_count": 21,
   "metadata": {},
   "outputs": [],
   "source": [
    "GoddReads_desc.dropna(inplace=True)\n",
    "GoddReads_desc=GoddReads_desc[['book_id','description','awards','genre']]\n",
    "Good_reads.rename(columns={\"bookID\": \"book_id\"},inplace=True)"
   ]
  },
  {
   "cell_type": "markdown",
   "metadata": {},
   "source": [
    "There are some entries whos description the scraper had failed to collect, so we can drop those entries, and as we have the book id, we don't need the book title, and we renamed the book to book_id to merge the data frames"
   ]
  },
  {
   "cell_type": "code",
   "execution_count": 46,
   "metadata": {},
   "outputs": [],
   "source": [
    "Good_reads_main = pd.merge(Good_reads, GoddReads_desc,how=\"inner\", on=['book_id'])"
   ]
  },
  {
   "cell_type": "code",
   "execution_count": 47,
   "metadata": {},
   "outputs": [
    {
     "data": {
      "text/html": [
       "<div>\n",
       "<style scoped>\n",
       "    .dataframe tbody tr th:only-of-type {\n",
       "        vertical-align: middle;\n",
       "    }\n",
       "\n",
       "    .dataframe tbody tr th {\n",
       "        vertical-align: top;\n",
       "    }\n",
       "\n",
       "    .dataframe thead th {\n",
       "        text-align: right;\n",
       "    }\n",
       "</style>\n",
       "<table border=\"1\" class=\"dataframe\">\n",
       "  <thead>\n",
       "    <tr style=\"text-align: right;\">\n",
       "      <th></th>\n",
       "      <th>book_id</th>\n",
       "      <th>title</th>\n",
       "      <th>authors</th>\n",
       "      <th>average_rating</th>\n",
       "      <th>isbn</th>\n",
       "      <th>isbn13</th>\n",
       "      <th>language_code</th>\n",
       "      <th>num_pages</th>\n",
       "      <th>ratings_count</th>\n",
       "      <th>text_reviews_count</th>\n",
       "      <th>publication_date</th>\n",
       "      <th>publisher</th>\n",
       "      <th>description</th>\n",
       "      <th>awards</th>\n",
       "      <th>genre</th>\n",
       "    </tr>\n",
       "  </thead>\n",
       "  <tbody>\n",
       "    <tr>\n",
       "      <th>0</th>\n",
       "      <td>1</td>\n",
       "      <td>Harry Potter and the Half-Blood Prince (Harry ...</td>\n",
       "      <td>J.K. Rowling/Mary GrandPré</td>\n",
       "      <td>4.57</td>\n",
       "      <td>0439785960</td>\n",
       "      <td>9780439785969</td>\n",
       "      <td>eng</td>\n",
       "      <td>652</td>\n",
       "      <td>2095690</td>\n",
       "      <td>27591</td>\n",
       "      <td>9/16/2006</td>\n",
       "      <td>Scholastic Inc.</td>\n",
       "      <td>The war against Voldemort is not going well; e...</td>\n",
       "      <td>3</td>\n",
       "      <td>['Fantasy', 'Young Adult', 'Fiction', 'Fantasy...</td>\n",
       "    </tr>\n",
       "  </tbody>\n",
       "</table>\n",
       "</div>"
      ],
      "text/plain": [
       "   book_id  ...                                              genre\n",
       "0        1  ...  ['Fantasy', 'Young Adult', 'Fiction', 'Fantasy...\n",
       "\n",
       "[1 rows x 15 columns]"
      ]
     },
     "execution_count": 47,
     "metadata": {},
     "output_type": "execute_result"
    }
   ],
   "source": [
    "Good_reads_main.head(1)"
   ]
  },
  {
   "cell_type": "code",
   "execution_count": 85,
   "metadata": {},
   "outputs": [],
   "source": [
    "def get_genre(genre):\n",
    "    if len(genre)>3:\n",
    "        return genre.strip(\"][\").split(\",\")[0]\n",
    "    else:\n",
    "        return \"not_given\"\n",
    "Good_reads_main['genre_cleaned']=Good_reads_main['genre'].apply(lambda x: get_genre(x))"
   ]
  },
  {
   "cell_type": "markdown",
   "metadata": {},
   "source": [
    "The other columns are ok, but the genre columns is a list of the sorted list of genres, with the first one being the most related so we are only keeping the first element"
   ]
  },
  {
   "cell_type": "code",
   "execution_count": 42,
   "metadata": {},
   "outputs": [],
   "source": [
    "movies_df=pd.read_csv(\"data/book_to_movies_ids.csv\")\n",
    "movies_df=movies_df[['book_id','Movie']]"
   ]
  },
  {
   "cell_type": "code",
   "execution_count": 51,
   "metadata": {},
   "outputs": [
    {
     "name": "stdout",
     "output_type": "stream",
     "text": [
      "(2321, 2)\n"
     ]
    },
    {
     "data": {
      "text/html": [
       "<div>\n",
       "<style scoped>\n",
       "    .dataframe tbody tr th:only-of-type {\n",
       "        vertical-align: middle;\n",
       "    }\n",
       "\n",
       "    .dataframe tbody tr th {\n",
       "        vertical-align: top;\n",
       "    }\n",
       "\n",
       "    .dataframe thead th {\n",
       "        text-align: right;\n",
       "    }\n",
       "</style>\n",
       "<table border=\"1\" class=\"dataframe\">\n",
       "  <thead>\n",
       "    <tr style=\"text-align: right;\">\n",
       "      <th></th>\n",
       "      <th>book_id</th>\n",
       "      <th>Movie</th>\n",
       "    </tr>\n",
       "  </thead>\n",
       "  <tbody>\n",
       "    <tr>\n",
       "      <th>0</th>\n",
       "      <td>6892870</td>\n",
       "      <td>yes</td>\n",
       "    </tr>\n",
       "    <tr>\n",
       "      <th>1</th>\n",
       "      <td>8128</td>\n",
       "      <td>yes</td>\n",
       "    </tr>\n",
       "    <tr>\n",
       "      <th>2</th>\n",
       "      <td>12067</td>\n",
       "      <td>yes</td>\n",
       "    </tr>\n",
       "    <tr>\n",
       "      <th>3</th>\n",
       "      <td>31122</td>\n",
       "      <td>yes</td>\n",
       "    </tr>\n",
       "    <tr>\n",
       "      <th>4</th>\n",
       "      <td>498153</td>\n",
       "      <td>yes</td>\n",
       "    </tr>\n",
       "  </tbody>\n",
       "</table>\n",
       "</div>"
      ],
      "text/plain": [
       "   book_id Movie\n",
       "0  6892870   yes\n",
       "1     8128   yes\n",
       "2    12067   yes\n",
       "3    31122   yes\n",
       "4   498153   yes"
      ]
     },
     "execution_count": 51,
     "metadata": {},
     "output_type": "execute_result"
    }
   ],
   "source": [
    "print(movies_df.shape)\n",
    "movies_df.head()"
   ]
  },
  {
   "cell_type": "markdown",
   "metadata": {},
   "source": [
    "All the data are ok, now but we are still missing the movie column which ha the value of \"yes\" if the book was turned into movies \"No\" otherwise .for that we scraped the Wikipedia page for movies from non-fiction works. and took only the ones that match with the book title. Then we merged them with our dataset using the book id. But unfortunately only 403 books matched, we have to get more data from other \n",
    "Wiki pedia url: https://en.wikipedia.org/wiki/List_of_non-fiction_works_made_into_feature_films"
   ]
  },
  {
   "cell_type": "code",
   "execution_count": 83,
   "metadata": {},
   "outputs": [],
   "source": [
    "Good_reads_main=pd.merge(Good_reads_main, movies_df,how='left', on='book_id')\n",
    "Good_reads_main=pd.read_csv('data/GoodReads_main.csv')"
   ]
  },
  {
   "cell_type": "code",
   "execution_count": 84,
   "metadata": {},
   "outputs": [
    {
     "name": "stdout",
     "output_type": "stream",
     "text": [
      "<class 'pandas.core.frame.DataFrame'>\n",
      "RangeIndex: 8294 entries, 0 to 8293\n",
      "Data columns (total 19 columns):\n",
      " #   Column              Non-Null Count  Dtype  \n",
      "---  ------              --------------  -----  \n",
      " 0   Unnamed: 0          8294 non-null   int64  \n",
      " 1   Unnamed: 0.1        8294 non-null   int64  \n",
      " 2   book_id             8294 non-null   int64  \n",
      " 3   title               8294 non-null   object \n",
      " 4   authors             8294 non-null   object \n",
      " 5   average_rating      8294 non-null   float64\n",
      " 6   isbn                8294 non-null   object \n",
      " 7   isbn13              8294 non-null   int64  \n",
      " 8   language_code       8294 non-null   object \n",
      " 9     num_pages         8294 non-null   int64  \n",
      " 10  ratings_count       8294 non-null   int64  \n",
      " 11  text_reviews_count  8294 non-null   int64  \n",
      " 12  publication_date    8294 non-null   object \n",
      " 13  publisher           8294 non-null   object \n",
      " 14  description         8294 non-null   object \n",
      " 15  awards              8294 non-null   int64  \n",
      " 16  genre               8294 non-null   object \n",
      " 17  genre_cleaned       8294 non-null   object \n",
      " 18  Movie               403 non-null    object \n",
      "dtypes: float64(1), int64(8), object(10)\n",
      "memory usage: 1.2+ MB\n"
     ]
    }
   ],
   "source": [
    "Good_reads_main.info()"
   ]
  },
  {
   "cell_type": "code",
   "execution_count": 54,
   "metadata": {},
   "outputs": [],
   "source": [
    "Good_reads_main.drop([\"Unnamed: 0\",\"Unnamed: 0.1\"],axis=1,inplace=True)"
   ]
  },
  {
   "cell_type": "code",
   "execution_count": 55,
   "metadata": {},
   "outputs": [
    {
     "data": {
      "text/html": [
       "<div>\n",
       "<style scoped>\n",
       "    .dataframe tbody tr th:only-of-type {\n",
       "        vertical-align: middle;\n",
       "    }\n",
       "\n",
       "    .dataframe tbody tr th {\n",
       "        vertical-align: top;\n",
       "    }\n",
       "\n",
       "    .dataframe thead th {\n",
       "        text-align: right;\n",
       "    }\n",
       "</style>\n",
       "<table border=\"1\" class=\"dataframe\">\n",
       "  <thead>\n",
       "    <tr style=\"text-align: right;\">\n",
       "      <th></th>\n",
       "      <th>book_id</th>\n",
       "      <th>title</th>\n",
       "      <th>authors</th>\n",
       "      <th>average_rating</th>\n",
       "      <th>isbn</th>\n",
       "      <th>isbn13</th>\n",
       "      <th>language_code</th>\n",
       "      <th>num_pages</th>\n",
       "      <th>ratings_count</th>\n",
       "      <th>text_reviews_count</th>\n",
       "      <th>publication_date</th>\n",
       "      <th>publisher</th>\n",
       "      <th>description</th>\n",
       "      <th>awards</th>\n",
       "      <th>genre</th>\n",
       "      <th>genre_cleaned</th>\n",
       "      <th>Movie</th>\n",
       "    </tr>\n",
       "  </thead>\n",
       "  <tbody>\n",
       "    <tr>\n",
       "      <th>0</th>\n",
       "      <td>1</td>\n",
       "      <td>Harry Potter and the Half-Blood Prince (Harry ...</td>\n",
       "      <td>J.K. Rowling/Mary GrandPré</td>\n",
       "      <td>4.57</td>\n",
       "      <td>0439785960</td>\n",
       "      <td>9780439785969</td>\n",
       "      <td>eng</td>\n",
       "      <td>652</td>\n",
       "      <td>2095690</td>\n",
       "      <td>27591</td>\n",
       "      <td>9/16/2006</td>\n",
       "      <td>Scholastic Inc.</td>\n",
       "      <td>The war against Voldemort is not going well; e...</td>\n",
       "      <td>3</td>\n",
       "      <td>['Fantasy', 'Young Adult', 'Fiction', 'Fantasy...</td>\n",
       "      <td>'Fantasy'</td>\n",
       "      <td>yes</td>\n",
       "    </tr>\n",
       "    <tr>\n",
       "      <th>1</th>\n",
       "      <td>2</td>\n",
       "      <td>Harry Potter and the Order of the Phoenix (Har...</td>\n",
       "      <td>J.K. Rowling/Mary GrandPré</td>\n",
       "      <td>4.49</td>\n",
       "      <td>0439358078</td>\n",
       "      <td>9780439358071</td>\n",
       "      <td>eng</td>\n",
       "      <td>870</td>\n",
       "      <td>2153167</td>\n",
       "      <td>29221</td>\n",
       "      <td>9/1/2004</td>\n",
       "      <td>Scholastic Inc.</td>\n",
       "      <td>There is a door at the end of a silent corrido...</td>\n",
       "      <td>9</td>\n",
       "      <td>['Fantasy', 'Young Adult', 'Fiction', 'Fantasy...</td>\n",
       "      <td>'Fantasy'</td>\n",
       "      <td>NaN</td>\n",
       "    </tr>\n",
       "  </tbody>\n",
       "</table>\n",
       "</div>"
      ],
      "text/plain": [
       "   book_id                                              title  ... genre_cleaned  Movie\n",
       "0        1  Harry Potter and the Half-Blood Prince (Harry ...  ...     'Fantasy'    yes\n",
       "1        2  Harry Potter and the Order of the Phoenix (Har...  ...     'Fantasy'    NaN\n",
       "\n",
       "[2 rows x 17 columns]"
      ]
     },
     "execution_count": 55,
     "metadata": {},
     "output_type": "execute_result"
    }
   ],
   "source": [
    "Good_reads_main.head(2)"
   ]
  },
  {
   "cell_type": "markdown",
   "metadata": {},
   "source": [
    "This is our current dataset, but we need don't have many books that were turned into movies."
   ]
  },
  {
   "cell_type": "markdown",
   "metadata": {},
   "source": [
    "## Movies Data"
   ]
  },
  {
   "cell_type": "markdown",
   "metadata": {},
   "source": [
    "#### This is our current dataset, but we need don't have many books that were turned into movies. For that, we scraped some book data directly from GoodReads of books that were turned into movies"
   ]
  },
  {
   "cell_type": "markdown",
   "metadata": {},
   "source": [
    "##### To get the data we scraped data from two pages \n",
    "* https://www.goodreads.com/list/show/429.The_BOOK_was_BETTER_than_the_MOVIE\n",
    "* https://www.goodreads.com/list/show/104.The_MOVIE_was_BETTER_than_the_BOOK"
   ]
  },
  {
   "cell_type": "markdown",
   "metadata": {},
   "source": [
    "##### The code used to scrape the data of the books that were made into movies was the same as the code for collecting the description. Details explanation of the code is given in \"Scraper_files/Scraping_Movie_Data.ipnb\". the code returns a data frame of about 2000 books that were turned into movies. That data frame is then saved into GoodReads_Movies_from_book.csv."
   ]
  },
  {
   "cell_type": "code",
   "execution_count": 71,
   "metadata": {},
   "outputs": [
    {
     "data": {
      "text/html": [
       "<div>\n",
       "<style scoped>\n",
       "    .dataframe tbody tr th:only-of-type {\n",
       "        vertical-align: middle;\n",
       "    }\n",
       "\n",
       "    .dataframe tbody tr th {\n",
       "        vertical-align: top;\n",
       "    }\n",
       "\n",
       "    .dataframe thead th {\n",
       "        text-align: right;\n",
       "    }\n",
       "</style>\n",
       "<table border=\"1\" class=\"dataframe\">\n",
       "  <thead>\n",
       "    <tr style=\"text-align: right;\">\n",
       "      <th></th>\n",
       "      <th>book_id</th>\n",
       "      <th>title</th>\n",
       "      <th>authors</th>\n",
       "      <th>average_rating</th>\n",
       "      <th>isbn</th>\n",
       "      <th>isbn13</th>\n",
       "      <th>language_code</th>\n",
       "      <th>num_pages</th>\n",
       "      <th>ratings_count</th>\n",
       "      <th>text_reviews_count</th>\n",
       "      <th>publication_date</th>\n",
       "      <th>publisher</th>\n",
       "      <th>description</th>\n",
       "      <th>awards</th>\n",
       "      <th>genre</th>\n",
       "      <th>genre_cleaned</th>\n",
       "      <th>Movie</th>\n",
       "    </tr>\n",
       "  </thead>\n",
       "  <tbody>\n",
       "    <tr>\n",
       "      <th>0</th>\n",
       "      <td>1</td>\n",
       "      <td>Harry Potter and the Half-Blood Prince (Harry ...</td>\n",
       "      <td>J.K. Rowling/Mary GrandPré</td>\n",
       "      <td>4.57</td>\n",
       "      <td>0439785960</td>\n",
       "      <td>9780439785969</td>\n",
       "      <td>eng</td>\n",
       "      <td>652</td>\n",
       "      <td>2095690</td>\n",
       "      <td>27591</td>\n",
       "      <td>9/16/2006</td>\n",
       "      <td>Scholastic Inc.</td>\n",
       "      <td>The war against Voldemort is not going well; e...</td>\n",
       "      <td>3</td>\n",
       "      <td>['Fantasy', 'Young Adult', 'Fiction', 'Fantasy...</td>\n",
       "      <td>'Fantasy'</td>\n",
       "      <td>yes</td>\n",
       "    </tr>\n",
       "  </tbody>\n",
       "</table>\n",
       "</div>"
      ],
      "text/plain": [
       "   book_id                                              title  ... genre_cleaned  Movie\n",
       "0        1  Harry Potter and the Half-Blood Prince (Harry ...  ...     'Fantasy'    yes\n",
       "\n",
       "[1 rows x 17 columns]"
      ]
     },
     "execution_count": 71,
     "metadata": {},
     "output_type": "execute_result"
    }
   ],
   "source": [
    "Good_reads_main.head(1)"
   ]
  },
  {
   "cell_type": "markdown",
   "metadata": {},
   "source": [
    "As we dont need columns isbn and isbn13 because of being just ids, we can drop them."
   ]
  },
  {
   "cell_type": "code",
   "execution_count": 86,
   "metadata": {},
   "outputs": [],
   "source": [
    "Good_reads_main.drop([\"isbn\",\"isbn13\",'genre'],axis=1,inplace=True)"
   ]
  },
  {
   "cell_type": "code",
   "execution_count": 73,
   "metadata": {},
   "outputs": [],
   "source": [
    "Good_reads_movies=pd.read_csv('data/GoodReads_Movies_from_book.csv')"
   ]
  },
  {
   "cell_type": "code",
   "execution_count": 74,
   "metadata": {},
   "outputs": [],
   "source": [
    "Good_reads_movies.drop([\"Unnamed: 0\"],axis=1,inplace=True)"
   ]
  },
  {
   "cell_type": "code",
   "execution_count": 76,
   "metadata": {},
   "outputs": [
    {
     "name": "stdout",
     "output_type": "stream",
     "text": [
      "(1960, 14)\n"
     ]
    },
    {
     "data": {
      "text/html": [
       "<div>\n",
       "<style scoped>\n",
       "    .dataframe tbody tr th:only-of-type {\n",
       "        vertical-align: middle;\n",
       "    }\n",
       "\n",
       "    .dataframe tbody tr th {\n",
       "        vertical-align: top;\n",
       "    }\n",
       "\n",
       "    .dataframe thead th {\n",
       "        text-align: right;\n",
       "    }\n",
       "</style>\n",
       "<table border=\"1\" class=\"dataframe\">\n",
       "  <thead>\n",
       "    <tr style=\"text-align: right;\">\n",
       "      <th></th>\n",
       "      <th>title</th>\n",
       "      <th>description</th>\n",
       "      <th>awards</th>\n",
       "      <th>genre</th>\n",
       "      <th>book_id</th>\n",
       "      <th>language_code</th>\n",
       "      <th>num_pages</th>\n",
       "      <th>author</th>\n",
       "      <th>number_of_ratings</th>\n",
       "      <th>rating</th>\n",
       "      <th>publisher</th>\n",
       "      <th>year</th>\n",
       "      <th>text_reviews_count</th>\n",
       "      <th>Movie</th>\n",
       "    </tr>\n",
       "  </thead>\n",
       "  <tbody>\n",
       "    <tr>\n",
       "      <th>0</th>\n",
       "      <td>TheGirlWhoKickedtheHornet'sNest</td>\n",
       "      <td>The stunning third and final novel in Stieg La...</td>\n",
       "      <td>4</td>\n",
       "      <td>['Fiction']</td>\n",
       "      <td>6892870</td>\n",
       "      <td>English</td>\n",
       "      <td>566pages</td>\n",
       "      <td>Stieg Larsson</td>\n",
       "      <td>643854</td>\n",
       "      <td>4.22</td>\n",
       "      <td>Knopf</td>\n",
       "      <td>May23rd2010</td>\n",
       "      <td>29024</td>\n",
       "      <td>yes</td>\n",
       "    </tr>\n",
       "  </tbody>\n",
       "</table>\n",
       "</div>"
      ],
      "text/plain": [
       "                             title                                        description  ...  text_reviews_count Movie\n",
       "0  TheGirlWhoKickedtheHornet'sNest  The stunning third and final novel in Stieg La...  ...               29024   yes\n",
       "\n",
       "[1 rows x 14 columns]"
      ]
     },
     "execution_count": 76,
     "metadata": {},
     "output_type": "execute_result"
    }
   ],
   "source": [
    "print(Good_reads_movies.shape)\n",
    "Good_reads_movies.head(1)"
   ]
  },
  {
   "cell_type": "code",
   "execution_count": null,
   "metadata": {},
   "outputs": [],
   "source": []
  },
  {
   "cell_type": "code",
   "execution_count": 87,
   "metadata": {},
   "outputs": [],
   "source": [
    "Good_reads_main.rename(columns={'  num_pages': \"num_pages\", \"authors\": \"author\", \"ratings_count\": \"number_of_ratings\", \"average_rating\": \"rating\", \"publication_date\": \"year\",\"genre_cleaned\": \"genre\"},inplace=True)\n",
    "Good_reads_joined=pd.concat([Good_reads_main,Good_reads_movies])"
   ]
  },
  {
   "cell_type": "markdown",
   "metadata": {},
   "source": [
    "Now we are going to concatenate the two dataframes so for that we renamed tha columns to match each other "
   ]
  },
  {
   "cell_type": "code",
   "execution_count": 92,
   "metadata": {},
   "outputs": [],
   "source": [
    "Good_reads_joined.drop([\"Unnamed: 0\",\"Unnamed: 0.1\"],axis=1 , inplace=True)"
   ]
  },
  {
   "cell_type": "code",
   "execution_count": 94,
   "metadata": {},
   "outputs": [
    {
     "data": {
      "text/html": [
       "<div>\n",
       "<style scoped>\n",
       "    .dataframe tbody tr th:only-of-type {\n",
       "        vertical-align: middle;\n",
       "    }\n",
       "\n",
       "    .dataframe tbody tr th {\n",
       "        vertical-align: top;\n",
       "    }\n",
       "\n",
       "    .dataframe thead th {\n",
       "        text-align: right;\n",
       "    }\n",
       "</style>\n",
       "<table border=\"1\" class=\"dataframe\">\n",
       "  <thead>\n",
       "    <tr style=\"text-align: right;\">\n",
       "      <th></th>\n",
       "      <th>book_id</th>\n",
       "      <th>title</th>\n",
       "      <th>author</th>\n",
       "      <th>rating</th>\n",
       "      <th>language_code</th>\n",
       "      <th>num_pages</th>\n",
       "      <th>number_of_ratings</th>\n",
       "      <th>text_reviews_count</th>\n",
       "      <th>year</th>\n",
       "      <th>publisher</th>\n",
       "      <th>description</th>\n",
       "      <th>awards</th>\n",
       "      <th>genre</th>\n",
       "      <th>Movie</th>\n",
       "    </tr>\n",
       "  </thead>\n",
       "  <tbody>\n",
       "    <tr>\n",
       "      <th>0</th>\n",
       "      <td>1</td>\n",
       "      <td>Harry Potter and the Half-Blood Prince (Harry ...</td>\n",
       "      <td>J.K. Rowling/Mary GrandPré</td>\n",
       "      <td>4.57</td>\n",
       "      <td>eng</td>\n",
       "      <td>652</td>\n",
       "      <td>2095690</td>\n",
       "      <td>27591</td>\n",
       "      <td>9/16/2006</td>\n",
       "      <td>Scholastic Inc.</td>\n",
       "      <td>The war against Voldemort is not going well; e...</td>\n",
       "      <td>3</td>\n",
       "      <td>'Fantasy'</td>\n",
       "      <td>yes</td>\n",
       "    </tr>\n",
       "  </tbody>\n",
       "</table>\n",
       "</div>"
      ],
      "text/plain": [
       "   book_id                                              title                      author  ...  awards      genre Movie\n",
       "0        1  Harry Potter and the Half-Blood Prince (Harry ...  J.K. Rowling/Mary GrandPré  ...       3  'Fantasy'   yes\n",
       "\n",
       "[1 rows x 14 columns]"
      ]
     },
     "execution_count": 94,
     "metadata": {},
     "output_type": "execute_result"
    }
   ],
   "source": [
    "Good_reads_joined.head(1)"
   ]
  },
  {
   "cell_type": "code",
   "execution_count": 95,
   "metadata": {},
   "outputs": [],
   "source": [
    "Good_reads_joined.to_csv('data/GoodReads_final.csv')"
   ]
  },
  {
   "cell_type": "code",
   "execution_count": 96,
   "metadata": {},
   "outputs": [],
   "source": [
    "Good_reads_joined = pd.read_csv('data/GoodReads_final.csv',index_col=)"
   ]
  },
  {
   "cell_type": "code",
   "execution_count": 97,
   "metadata": {
    "scrolled": true
   },
   "outputs": [
    {
     "data": {
      "text/plain": [
       "(10254, 14)"
      ]
     },
     "execution_count": 97,
     "metadata": {},
     "output_type": "execute_result"
    }
   ],
   "source": [
    "Good_reads_joined.shape"
   ]
  },
  {
   "cell_type": "code",
   "execution_count": 99,
   "metadata": {},
   "outputs": [
    {
     "name": "stdout",
     "output_type": "stream",
     "text": [
      "<class 'pandas.core.frame.DataFrame'>\n",
      "Int64Index: 10254 entries, 0 to 1959\n",
      "Data columns (total 14 columns):\n",
      " #   Column              Non-Null Count  Dtype  \n",
      "---  ------              --------------  -----  \n",
      " 0   book_id             10254 non-null  int64  \n",
      " 1   title               10254 non-null  object \n",
      " 2   author              10254 non-null  object \n",
      " 3   rating              10254 non-null  float64\n",
      " 4   language_code       10253 non-null  object \n",
      " 5   num_pages           10254 non-null  object \n",
      " 6   number_of_ratings   10254 non-null  int64  \n",
      " 7   text_reviews_count  10254 non-null  object \n",
      " 8   year                10225 non-null  object \n",
      " 9   publisher           10254 non-null  object \n",
      " 10  description         9932 non-null   object \n",
      " 11  awards              10254 non-null  int64  \n",
      " 12  genre               10254 non-null  object \n",
      " 13  Movie               2363 non-null   object \n",
      "dtypes: float64(1), int64(3), object(10)\n",
      "memory usage: 1.2+ MB\n"
     ]
    }
   ],
   "source": [
    "Good_reads_joined.info()"
   ]
  },
  {
   "cell_type": "code",
   "execution_count": 101,
   "metadata": {},
   "outputs": [
    {
     "data": {
      "text/html": [
       "<div>\n",
       "<style scoped>\n",
       "    .dataframe tbody tr th:only-of-type {\n",
       "        vertical-align: middle;\n",
       "    }\n",
       "\n",
       "    .dataframe tbody tr th {\n",
       "        vertical-align: top;\n",
       "    }\n",
       "\n",
       "    .dataframe thead th {\n",
       "        text-align: right;\n",
       "    }\n",
       "</style>\n",
       "<table border=\"1\" class=\"dataframe\">\n",
       "  <thead>\n",
       "    <tr style=\"text-align: right;\">\n",
       "      <th></th>\n",
       "      <th>book_id</th>\n",
       "      <th>title</th>\n",
       "      <th>author</th>\n",
       "      <th>rating</th>\n",
       "      <th>language_code</th>\n",
       "      <th>num_pages</th>\n",
       "      <th>number_of_ratings</th>\n",
       "      <th>text_reviews_count</th>\n",
       "      <th>year</th>\n",
       "      <th>publisher</th>\n",
       "      <th>description</th>\n",
       "      <th>awards</th>\n",
       "      <th>genre</th>\n",
       "      <th>Movie</th>\n",
       "    </tr>\n",
       "  </thead>\n",
       "  <tbody>\n",
       "    <tr>\n",
       "      <th>0</th>\n",
       "      <td>1</td>\n",
       "      <td>Harry Potter and the Half-Blood Prince (Harry ...</td>\n",
       "      <td>J.K. Rowling/Mary GrandPré</td>\n",
       "      <td>4.57</td>\n",
       "      <td>eng</td>\n",
       "      <td>652</td>\n",
       "      <td>2095690</td>\n",
       "      <td>27591</td>\n",
       "      <td>9/16/2006</td>\n",
       "      <td>Scholastic Inc.</td>\n",
       "      <td>The war against Voldemort is not going well; e...</td>\n",
       "      <td>3</td>\n",
       "      <td>'Fantasy'</td>\n",
       "      <td>yes</td>\n",
       "    </tr>\n",
       "  </tbody>\n",
       "</table>\n",
       "</div>"
      ],
      "text/plain": [
       "   book_id                                              title                      author  ...  awards      genre Movie\n",
       "0        1  Harry Potter and the Half-Blood Prince (Harry ...  J.K. Rowling/Mary GrandPré  ...       3  'Fantasy'   yes\n",
       "\n",
       "[1 rows x 14 columns]"
      ]
     },
     "execution_count": 101,
     "metadata": {},
     "output_type": "execute_result"
    }
   ],
   "source": [
    "Good_reads_joined.head(1)"
   ]
  },
  {
   "cell_type": "code",
   "execution_count": 102,
   "metadata": {},
   "outputs": [
    {
     "data": {
      "text/html": [
       "<div>\n",
       "<style scoped>\n",
       "    .dataframe tbody tr th:only-of-type {\n",
       "        vertical-align: middle;\n",
       "    }\n",
       "\n",
       "    .dataframe tbody tr th {\n",
       "        vertical-align: top;\n",
       "    }\n",
       "\n",
       "    .dataframe thead th {\n",
       "        text-align: right;\n",
       "    }\n",
       "</style>\n",
       "<table border=\"1\" class=\"dataframe\">\n",
       "  <thead>\n",
       "    <tr style=\"text-align: right;\">\n",
       "      <th></th>\n",
       "      <th>book_id</th>\n",
       "      <th>title</th>\n",
       "      <th>author</th>\n",
       "      <th>rating</th>\n",
       "      <th>language_code</th>\n",
       "      <th>num_pages</th>\n",
       "      <th>number_of_ratings</th>\n",
       "      <th>text_reviews_count</th>\n",
       "      <th>year</th>\n",
       "      <th>publisher</th>\n",
       "      <th>description</th>\n",
       "      <th>awards</th>\n",
       "      <th>genre</th>\n",
       "      <th>Movie</th>\n",
       "    </tr>\n",
       "  </thead>\n",
       "  <tbody>\n",
       "    <tr>\n",
       "      <th>1959</th>\n",
       "      <td>652855</td>\n",
       "      <td>EddieandtheCruisers</td>\n",
       "      <td>P.F. Kluge</td>\n",
       "      <td>3.9</td>\n",
       "      <td>English</td>\n",
       "      <td>260pages</td>\n",
       "      <td>244</td>\n",
       "      <td>52</td>\n",
       "      <td>April1st1999</td>\n",
       "      <td>Kenyon College</td>\n",
       "      <td>NaN</td>\n",
       "      <td>0</td>\n",
       "      <td>['Fiction']</td>\n",
       "      <td>yes</td>\n",
       "    </tr>\n",
       "  </tbody>\n",
       "</table>\n",
       "</div>"
      ],
      "text/plain": [
       "      book_id                title      author  rating  ... description awards        genre Movie\n",
       "1959   652855  EddieandtheCruisers  P.F. Kluge     3.9  ...         NaN      0  ['Fiction']   yes\n",
       "\n",
       "[1 rows x 14 columns]"
      ]
     },
     "execution_count": 102,
     "metadata": {},
     "output_type": "execute_result"
    }
   ],
   "source": [
    "Good_reads_joined.tail(1)"
   ]
  },
  {
   "cell_type": "markdown",
   "metadata": {},
   "source": [
    "Now time of a bit of Data cleaning , joining the movie dataset changed the formatting a little bit which neeeds to be fixed"
   ]
  },
  {
   "cell_type": "markdown",
   "metadata": {},
   "source": [
    "* As Genre column consist of arrays of a single element e have to get the text only ."
   ]
  },
  {
   "cell_type": "code",
   "execution_count": 103,
   "metadata": {},
   "outputs": [],
   "source": [
    "def clean_genre(genre):\n",
    "    if\"]\" in genre:\n",
    "        genre=genre.strip(\"][\")\n",
    "    if \"'\" in genre:\n",
    "        genre=genre.strip(\"'\")\n",
    "    return genre"
   ]
  },
  {
   "cell_type": "code",
   "execution_count": 104,
   "metadata": {},
   "outputs": [],
   "source": [
    "Good_reads_joined['genre']=Good_reads_joined['genre'].apply(lambda x :clean_genre(x) )"
   ]
  },
  {
   "cell_type": "code",
   "execution_count": 105,
   "metadata": {},
   "outputs": [
    {
     "data": {
      "text/plain": [
       "1959    Fiction\n",
       "Name: genre, dtype: object"
      ]
     },
     "execution_count": 105,
     "metadata": {},
     "output_type": "execute_result"
    }
   ],
   "source": [
    "Good_reads_joined['genre'].tail(1)"
   ]
  },
  {
   "cell_type": "markdown",
   "metadata": {},
   "source": [
    "* we just need the number of pages so the column values should be an integer"
   ]
  },
  {
   "cell_type": "code",
   "execution_count": 107,
   "metadata": {},
   "outputs": [],
   "source": [
    "def clean_pages(page):\n",
    "    if \"pages\" in page:\n",
    "        page=page.replace(\"pages\",\"\")\n",
    "    elif \"Unavailable\" in page:\n",
    "        page=0\n",
    "    return int(page)"
   ]
  },
  {
   "cell_type": "code",
   "execution_count": 108,
   "metadata": {},
   "outputs": [],
   "source": [
    "Good_reads_joined['num_pages']=Good_reads_joined['num_pages'].apply(lambda x :clean_pages(x) )"
   ]
  },
  {
   "cell_type": "code",
   "execution_count": 115,
   "metadata": {},
   "outputs": [],
   "source": [
    "Good_reads_joined=Good_reads_joined.drop_duplicates(subset=['book_id'])# droppinf duplicate entries"
   ]
  },
  {
   "cell_type": "code",
   "execution_count": 42,
   "metadata": {},
   "outputs": [
    {
     "data": {
      "text/plain": [
       "<AxesSubplot:xlabel='genre', ylabel='count'>"
      ]
     },
     "execution_count": 42,
     "metadata": {},
     "output_type": "execute_result"
    },
    {
     "data": {
      "image/png": "[encoded data removed]",
      "text/plain": [
       "<Figure size 432x288 with 1 Axes>"
      ]
     },
     "metadata": {
      "needs_background": "light"
     },
     "output_type": "display_data"
    }
   ],
   "source": [
    "sns.countplot(Good_reads_joined.genre)"
   ]
  },
  {
   "cell_type": "markdown",
   "metadata": {},
   "source": [
    "There are too many genres that required 120 to be exact and they can be grouped to reduce them which will be easier to use."
   ]
  },
  {
   "cell_type": "code",
   "execution_count": 110,
   "metadata": {},
   "outputs": [
    {
     "data": {
      "text/plain": [
       "Fiction             1842\n",
       "Fantasy              790\n",
       "Nonfiction           727\n",
       "Classics             650\n",
       "Mystery              517\n",
       "                    ... \n",
       "Jewellery              1\n",
       "Asian Literature       1\n",
       "Lds                    1\n",
       "Amish                  1\n",
       "Sports and Games       1\n",
       "Name: genre, Length: 120, dtype: int64"
      ]
     },
     "execution_count": 110,
     "metadata": {},
     "output_type": "execute_result"
    }
   ],
   "source": [
    "Good_reads_joined.genre.value_counts()"
   ]
  },
  {
   "cell_type": "code",
   "execution_count": 111,
   "metadata": {},
   "outputs": [],
   "source": [
    "\n",
    "s = Good_reads_joined['genre'].value_counts()\n",
    "Good_reads_joined['genre'] = np.where(Good_reads_joined['genre'].isin(s.index[s >= 200]), Good_reads_joined['genre'], 'Other')"
   ]
  },
  {
   "cell_type": "markdown",
   "metadata": {},
   "source": [
    "* To group them together we converted all genres with less than 200 entries to a genre \"Others\""
   ]
  },
  {
   "cell_type": "code",
   "execution_count": 112,
   "metadata": {},
   "outputs": [
    {
     "data": {
      "text/plain": [
       "<AxesSubplot:xlabel='genre', ylabel='count'>"
      ]
     },
     "execution_count": 112,
     "metadata": {},
     "output_type": "execute_result"
    },
    {
     "data": {
      "image/png": "[encoded data removed]",
      "text/plain": [
       "<Figure size 432x288 with 1 Axes>"
      ]
     },
     "metadata": {
      "needs_background": "light"
     },
     "output_type": "display_data"
    }
   ],
   "source": [
    "sns.countplot(Good_reads_joined.genre)"
   ]
  },
  {
   "cell_type": "code",
   "execution_count": 116,
   "metadata": {},
   "outputs": [
    {
     "data": {
      "text/plain": [
       "(9851, 14)"
      ]
     },
     "execution_count": 116,
     "metadata": {},
     "output_type": "execute_result"
    }
   ],
   "source": [
    "Good_reads_joined.shape"
   ]
  },
  {
   "cell_type": "markdown",
   "metadata": {},
   "source": [
    "Currently, we have only 9851 books, which is not a big dataset, and making a recommendation system requires a lot of data than that. We will add some more data to it, from the UCSD book graph. The datasets were collected in late 2017 from goodreads.com, where we only scraped users' public shelves, i.e. everyone can see it on the web without login. User IDs and review IDs are anonymized."
   ]
  },
  {
   "cell_type": "markdown",
   "metadata": {},
   "source": [
    "### UCSD\n",
    "\n",
    "\n",
    "#### Reference\n",
    "* Mengting Wan, Julian McAuley, \"Item Recommendation on Monotonic Behavior Chains\", in RecSys'18.  [bibtex]\n",
    "* Mengting Wan, Rishabh Misra, Ndapa Nakashole, Julian McAuley, \"Fine-Grained Spoiler Detection from Large-Scale Review Corpora\", in ACL'19. [bibtex]"
   ]
  },
  {
   "cell_type": "code",
   "execution_count": 47,
   "metadata": {},
   "outputs": [],
   "source": [
    "\n",
    "df_children=pd.read_csv('genre_wise/children_book.csv')\n",
    "df_comic_book=pd.read_csv('genre_wise/comic_book.csv')\n",
    "df_fantasy_paranormal_book=pd.read_csv('genre_wise/fantasy_paranormal_book.csv')\n",
    "df_history_biography_book=pd.read_csv('genre_wise/history_biography_book.csv')\n",
    "df_mystery_thriller_crime_book=pd.read_csv('genre_wise/mystery_thriller_crime_book.csv')\n",
    "df_poetry_book=pd.read_csv('genre_wise/poetry_book.csv')\n",
    "df_romance_book=pd.read_csv('genre_wise/romance_book.csv')\n",
    "df_young_adult_book=pd.read_csv('genre_wise/young_adult_book.csv')"
   ]
  },
  {
   "cell_type": "code",
   "execution_count": 48,
   "metadata": {},
   "outputs": [],
   "source": [
    "df_children.drop('Unnamed: 0',axis=1,inplace=True)\n",
    "df_comic_book.drop('Unnamed: 0',axis=1,inplace=True)\n",
    "df_fantasy_paranormal_book.drop('Unnamed: 0',axis=1,inplace=True)\n",
    "df_history_biography_book.drop('Unnamed: 0',axis=1,inplace=True)\n",
    "df_mystery_thriller_crime_book.drop('Unnamed: 0',axis=1,inplace=True)\n",
    "df_poetry_book.drop('Unnamed: 0',axis=1,inplace=True)\n",
    "df_romance_book.drop('Unnamed: 0',axis=1,inplace=True)\n",
    "df_young_adult_book.drop('Unnamed: 0',axis=1,inplace=True)"
   ]
  },
  {
   "cell_type": "markdown",
   "metadata": {},
   "source": [
    "* Each data frame is a list of books of a fixed genre but the CSV files are too large to add it to the repository. To make ai a balanced dataset from all the genres we took a random sample of 2000 books from each data frame and concatenated them. So that there are 16000 entries in total but there are a lot of duplicate entries in the ad a lot of books have more than one genre. so we will remove duplicate entries from them which will leave us with 8368 entries"
   ]
  },
  {
   "cell_type": "code",
   "execution_count": 49,
   "metadata": {},
   "outputs": [],
   "source": [
    "df_children=df_children.sample(n=2000)\n",
    "df_comic_book=df_comic_book.sample(n=2000)\n",
    "df_fantasy_paranormal_book=df_fantasy_paranormal_book.sample(n=2000)\n",
    "df_history_biography_book=df_history_biography_book.sample(n=2000)\n",
    "df_mystery_thriller_crime_book=df_mystery_thriller_crime_book.sample(n=2000)\n",
    "df_poetry_book=df_poetry_book.sample(n=2000)\n",
    "df_romance_book=df_romance_book.sample(n=2000)\n",
    "df_young_adult_book=df_young_adult_book.sample(n=2000)\n",
    "df_ucd=pd.concat([df_children,df_comic_book,df_fantasy_paranormal_book,df_history_biography_book,\n",
    "           df_mystery_thriller_crime_book,df_poetry_book,df_romance_book,df_young_adult_book])"
   ]
  },
  {
   "cell_type": "code",
   "execution_count": 51,
   "metadata": {},
   "outputs": [],
   "source": [
    "df_ucd.dropna(inplace=True)\n",
    "##removing values with null columns which will leave 8368 entries , which is about half "
   ]
  },
  {
   "cell_type": "code",
   "execution_count": 52,
   "metadata": {},
   "outputs": [],
   "source": [
    "df_ucd.to_csv('data/second_df.csv')"
   ]
  },
  {
   "cell_type": "code",
   "execution_count": 126,
   "metadata": {},
   "outputs": [],
   "source": [
    "UCSD_data=pd.read_csv('data/second_df.csv',index_col=0)"
   ]
  },
  {
   "cell_type": "code",
   "execution_count": 127,
   "metadata": {},
   "outputs": [
    {
     "data": {
      "text/plain": [
       "(8368, 18)"
      ]
     },
     "execution_count": 127,
     "metadata": {},
     "output_type": "execute_result"
    }
   ],
   "source": [
    "UCSD_data.shape"
   ]
  },
  {
   "cell_type": "code",
   "execution_count": 128,
   "metadata": {},
   "outputs": [
    {
     "data": {
      "text/html": [
       "<div>\n",
       "<style scoped>\n",
       "    .dataframe tbody tr th:only-of-type {\n",
       "        vertical-align: middle;\n",
       "    }\n",
       "\n",
       "    .dataframe tbody tr th {\n",
       "        vertical-align: top;\n",
       "    }\n",
       "\n",
       "    .dataframe thead th {\n",
       "        text-align: right;\n",
       "    }\n",
       "</style>\n",
       "<table border=\"1\" class=\"dataframe\">\n",
       "  <thead>\n",
       "    <tr style=\"text-align: right;\">\n",
       "      <th></th>\n",
       "      <th>isbn</th>\n",
       "      <th>text_reviews_count</th>\n",
       "      <th>country_code</th>\n",
       "      <th>average_rating</th>\n",
       "      <th>similar_books</th>\n",
       "      <th>description</th>\n",
       "      <th>authors</th>\n",
       "      <th>publisher</th>\n",
       "      <th>num_pages</th>\n",
       "      <th>publication_day</th>\n",
       "      <th>isbn13</th>\n",
       "      <th>publication_month</th>\n",
       "      <th>publication_year</th>\n",
       "      <th>image_url</th>\n",
       "      <th>book_id</th>\n",
       "      <th>ratings_count</th>\n",
       "      <th>title</th>\n",
       "      <th>genre</th>\n",
       "    </tr>\n",
       "  </thead>\n",
       "  <tbody>\n",
       "    <tr>\n",
       "      <th>9952</th>\n",
       "      <td>0545103711</td>\n",
       "      <td>29</td>\n",
       "      <td>US</td>\n",
       "      <td>4.10</td>\n",
       "      <td>['6907159', '7257860', '7381399', '1061387', '...</td>\n",
       "      <td>Enter the world of Geronimo Stilton, where ano...</td>\n",
       "      <td>[{'author_id': '53793', 'role': ''}]</td>\n",
       "      <td>Scholastic Paperbacks</td>\n",
       "      <td>128.0</td>\n",
       "      <td>1.0</td>\n",
       "      <td>9.780545e+12</td>\n",
       "      <td>4.0</td>\n",
       "      <td>2010.0</td>\n",
       "      <td>https://images.gr-assets.com/books/1328838987m...</td>\n",
       "      <td>7283980</td>\n",
       "      <td>933</td>\n",
       "      <td>Mighty Mount Kilimanjaro</td>\n",
       "      <td>children</td>\n",
       "    </tr>\n",
       "    <tr>\n",
       "      <th>22124</th>\n",
       "      <td>0679884645</td>\n",
       "      <td>9</td>\n",
       "      <td>US</td>\n",
       "      <td>3.93</td>\n",
       "      <td>['44787', '1963062', '2305729', '2525250', '10...</td>\n",
       "      <td>D.W. is jealous when her big brother Arthur lo...</td>\n",
       "      <td>[{'author_id': '25031', 'role': ''}]</td>\n",
       "      <td>Random House Books for Young Readers</td>\n",
       "      <td>24.0</td>\n",
       "      <td>3.0</td>\n",
       "      <td>9.780680e+12</td>\n",
       "      <td>2.0</td>\n",
       "      <td>1998.0</td>\n",
       "      <td>https://s.gr-assets.com/assets/nophoto/book/11...</td>\n",
       "      <td>44607</td>\n",
       "      <td>206</td>\n",
       "      <td>Arthur Tricks the Tooth Fairy</td>\n",
       "      <td>children</td>\n",
       "    </tr>\n",
       "  </tbody>\n",
       "</table>\n",
       "</div>"
      ],
      "text/plain": [
       "             isbn  text_reviews_count country_code  ...  ratings_count                          title     genre\n",
       "9952   0545103711                  29           US  ...            933       Mighty Mount Kilimanjaro  children\n",
       "22124  0679884645                   9           US  ...            206  Arthur Tricks the Tooth Fairy  children\n",
       "\n",
       "[2 rows x 18 columns]"
      ]
     },
     "execution_count": 128,
     "metadata": {},
     "output_type": "execute_result"
    }
   ],
   "source": [
    "UCSD_data.head(2)"
   ]
  },
  {
   "cell_type": "markdown",
   "metadata": {},
   "source": [
    "The data is mostly clean but it needs to be formatted a bit to match our original dataset . "
   ]
  },
  {
   "cell_type": "code",
   "execution_count": 129,
   "metadata": {},
   "outputs": [
    {
     "data": {
      "text/plain": [
       "9952                  [{'author_id': '53793', 'role': ''}]\n",
       "22124                 [{'author_id': '25031', 'role': ''}]\n",
       "11584    [{'author_id': '21616', 'role': ''}, {'author_...\n",
       "9650                  [{'author_id': '53088', 'role': ''}]\n",
       "10061    [{'author_id': '1339173', 'role': 'Editor'}, {...\n",
       "Name: authors, dtype: object"
      ]
     },
     "execution_count": 129,
     "metadata": {},
     "output_type": "execute_result"
    }
   ],
   "source": [
    "UCSD_data.authors.head(5)"
   ]
  },
  {
   "cell_type": "markdown",
   "metadata": {},
   "source": [
    "* For the author, only their id is given so we have to get the author names from author.csv which is a mapping of the author to their ID. The author column in the combined data frame had the ids and role of the authors. We need the first author from its id which is the primary author."
   ]
  },
  {
   "cell_type": "code",
   "execution_count": 130,
   "metadata": {},
   "outputs": [],
   "source": [
    "df_author=pd.read_csv('data/authors.csv')"
   ]
  },
  {
   "cell_type": "code",
   "execution_count": 131,
   "metadata": {},
   "outputs": [],
   "source": [
    "def get_author(author):\n",
    "    return author.strip('][').split(',')[0] "
   ]
  },
  {
   "cell_type": "code",
   "execution_count": 132,
   "metadata": {},
   "outputs": [],
   "source": [
    "def get_author_dict(author):\n",
    "    return ast.literal_eval(author)['author_id']"
   ]
  },
  {
   "cell_type": "code",
   "execution_count": 133,
   "metadata": {},
   "outputs": [],
   "source": [
    "UCSD_data['authors_clean']=UCSD_data['authors'].apply(lambda x:get_author(x))\n",
    "UCSD_data['authors_clean']=UCSD_data['authors_clean']+\"}\"\n",
    "UCSD_data['authors_clean']=UCSD_data['authors_clean'].apply(lambda x:get_author_dict(x))\n",
    "UCSD_data['authors_clean']=UCSD_data['authors_clean'].apply(lambda x:int(x))\n",
    "UCSD_data.rename(columns={\"authors_clean\": \"author_id\"},inplace=True)"
   ]
  },
  {
   "cell_type": "code",
   "execution_count": 134,
   "metadata": {},
   "outputs": [],
   "source": [
    "df_author['author_id']=df_author['author_id'].apply(lambda x : int(x))\n",
    "df_author.rename(columns={\"average_rating\": \"average_rating_author\", \"ratings_count\": \"ratings_count_author\"}, errors=\"raise\",inplace=True)\n",
    "df_author.drop(['Unnamed: 0','text_reviews_count','ratings_count_author'],axis=1,inplace=True)\n",
    "#droping unnecessary columns from author df"
   ]
  },
  {
   "cell_type": "code",
   "execution_count": 135,
   "metadata": {},
   "outputs": [
    {
     "data": {
      "text/html": [
       "<div>\n",
       "<style scoped>\n",
       "    .dataframe tbody tr th:only-of-type {\n",
       "        vertical-align: middle;\n",
       "    }\n",
       "\n",
       "    .dataframe tbody tr th {\n",
       "        vertical-align: top;\n",
       "    }\n",
       "\n",
       "    .dataframe thead th {\n",
       "        text-align: right;\n",
       "    }\n",
       "</style>\n",
       "<table border=\"1\" class=\"dataframe\">\n",
       "  <thead>\n",
       "    <tr style=\"text-align: right;\">\n",
       "      <th></th>\n",
       "      <th>average_rating_author</th>\n",
       "      <th>author_id</th>\n",
       "      <th>name</th>\n",
       "    </tr>\n",
       "  </thead>\n",
       "  <tbody>\n",
       "    <tr>\n",
       "      <th>0</th>\n",
       "      <td>3.98</td>\n",
       "      <td>604031</td>\n",
       "      <td>Ronald J. Fields</td>\n",
       "    </tr>\n",
       "    <tr>\n",
       "      <th>1</th>\n",
       "      <td>4.08</td>\n",
       "      <td>626222</td>\n",
       "      <td>Anita Diamant</td>\n",
       "    </tr>\n",
       "    <tr>\n",
       "      <th>2</th>\n",
       "      <td>3.92</td>\n",
       "      <td>10333</td>\n",
       "      <td>Barbara Hambly</td>\n",
       "    </tr>\n",
       "    <tr>\n",
       "      <th>3</th>\n",
       "      <td>3.68</td>\n",
       "      <td>9212</td>\n",
       "      <td>Jennifer Weiner</td>\n",
       "    </tr>\n",
       "    <tr>\n",
       "      <th>4</th>\n",
       "      <td>3.82</td>\n",
       "      <td>149918</td>\n",
       "      <td>Nigel Pennick</td>\n",
       "    </tr>\n",
       "  </tbody>\n",
       "</table>\n",
       "</div>"
      ],
      "text/plain": [
       "   average_rating_author  author_id              name\n",
       "0                   3.98     604031  Ronald J. Fields\n",
       "1                   4.08     626222     Anita Diamant\n",
       "2                   3.92      10333    Barbara Hambly\n",
       "3                   3.68       9212   Jennifer Weiner\n",
       "4                   3.82     149918     Nigel Pennick"
      ]
     },
     "execution_count": 135,
     "metadata": {},
     "output_type": "execute_result"
    }
   ],
   "source": [
    "df_author.head()"
   ]
  },
  {
   "cell_type": "code",
   "execution_count": 136,
   "metadata": {},
   "outputs": [],
   "source": [
    "UCSD_data_clean = pd.merge(UCSD_data, df_author, on='author_id',how='left')\n",
    "# Merging the two dataframes on author_id to get the name"
   ]
  },
  {
   "cell_type": "code",
   "execution_count": 137,
   "metadata": {},
   "outputs": [],
   "source": [
    "UCSD_data_clean.drop_duplicates(subset=['book_id'], keep='last',inplace=True)\n",
    "UCSD_data_clean.drop_duplicates(subset=['title'], keep='last',inplace=True)\n",
    "#Dropping rows with duplicate book id"
   ]
  },
  {
   "cell_type": "code",
   "execution_count": 138,
   "metadata": {},
   "outputs": [
    {
     "data": {
      "text/html": [
       "<div>\n",
       "<style scoped>\n",
       "    .dataframe tbody tr th:only-of-type {\n",
       "        vertical-align: middle;\n",
       "    }\n",
       "\n",
       "    .dataframe tbody tr th {\n",
       "        vertical-align: top;\n",
       "    }\n",
       "\n",
       "    .dataframe thead th {\n",
       "        text-align: right;\n",
       "    }\n",
       "</style>\n",
       "<table border=\"1\" class=\"dataframe\">\n",
       "  <thead>\n",
       "    <tr style=\"text-align: right;\">\n",
       "      <th></th>\n",
       "      <th>isbn</th>\n",
       "      <th>text_reviews_count</th>\n",
       "      <th>country_code</th>\n",
       "      <th>average_rating</th>\n",
       "      <th>similar_books</th>\n",
       "      <th>description</th>\n",
       "      <th>authors</th>\n",
       "      <th>publisher</th>\n",
       "      <th>num_pages</th>\n",
       "      <th>publication_day</th>\n",
       "      <th>isbn13</th>\n",
       "      <th>publication_month</th>\n",
       "      <th>publication_year</th>\n",
       "      <th>image_url</th>\n",
       "      <th>book_id</th>\n",
       "      <th>ratings_count</th>\n",
       "      <th>title</th>\n",
       "      <th>genre</th>\n",
       "      <th>author_id</th>\n",
       "      <th>average_rating_author</th>\n",
       "      <th>name</th>\n",
       "    </tr>\n",
       "  </thead>\n",
       "  <tbody>\n",
       "    <tr>\n",
       "      <th>0</th>\n",
       "      <td>0545103711</td>\n",
       "      <td>29</td>\n",
       "      <td>US</td>\n",
       "      <td>4.10</td>\n",
       "      <td>['6907159', '7257860', '7381399', '1061387', '...</td>\n",
       "      <td>Enter the world of Geronimo Stilton, where ano...</td>\n",
       "      <td>[{'author_id': '53793', 'role': ''}]</td>\n",
       "      <td>Scholastic Paperbacks</td>\n",
       "      <td>128.0</td>\n",
       "      <td>1.0</td>\n",
       "      <td>9.780545e+12</td>\n",
       "      <td>4.0</td>\n",
       "      <td>2010.0</td>\n",
       "      <td>https://images.gr-assets.com/books/1328838987m...</td>\n",
       "      <td>7283980</td>\n",
       "      <td>933</td>\n",
       "      <td>Mighty Mount Kilimanjaro</td>\n",
       "      <td>children</td>\n",
       "      <td>53793</td>\n",
       "      <td>4.14</td>\n",
       "      <td>Geronimo Stilton</td>\n",
       "    </tr>\n",
       "    <tr>\n",
       "      <th>1</th>\n",
       "      <td>0679884645</td>\n",
       "      <td>9</td>\n",
       "      <td>US</td>\n",
       "      <td>3.93</td>\n",
       "      <td>['44787', '1963062', '2305729', '2525250', '10...</td>\n",
       "      <td>D.W. is jealous when her big brother Arthur lo...</td>\n",
       "      <td>[{'author_id': '25031', 'role': ''}]</td>\n",
       "      <td>Random House Books for Young Readers</td>\n",
       "      <td>24.0</td>\n",
       "      <td>3.0</td>\n",
       "      <td>9.780680e+12</td>\n",
       "      <td>2.0</td>\n",
       "      <td>1998.0</td>\n",
       "      <td>https://s.gr-assets.com/assets/nophoto/book/11...</td>\n",
       "      <td>44607</td>\n",
       "      <td>206</td>\n",
       "      <td>Arthur Tricks the Tooth Fairy</td>\n",
       "      <td>children</td>\n",
       "      <td>25031</td>\n",
       "      <td>4.09</td>\n",
       "      <td>Marc Brown</td>\n",
       "    </tr>\n",
       "  </tbody>\n",
       "</table>\n",
       "</div>"
      ],
      "text/plain": [
       "         isbn  text_reviews_count country_code  ...  author_id average_rating_author              name\n",
       "0  0545103711                  29           US  ...      53793                  4.14  Geronimo Stilton\n",
       "1  0679884645                   9           US  ...      25031                  4.09        Marc Brown\n",
       "\n",
       "[2 rows x 21 columns]"
      ]
     },
     "execution_count": 138,
     "metadata": {},
     "output_type": "execute_result"
    }
   ],
   "source": [
    "UCSD_data_clean.head(2)"
   ]
  },
  {
   "cell_type": "markdown",
   "metadata": {},
   "source": [
    "We can see that after joining the data frame we have a lot of unnecessary columns that need to be removed"
   ]
  },
  {
   "cell_type": "code",
   "execution_count": 139,
   "metadata": {},
   "outputs": [
    {
     "data": {
      "text/plain": [
       "Index(['book_id', 'title', 'author', 'rating', 'language_code', 'num_pages',\n",
       "       'number_of_ratings', 'text_reviews_count', 'year', 'publisher',\n",
       "       'description', 'awards', 'genre', 'Movie'],\n",
       "      dtype='object')"
      ]
     },
     "execution_count": 139,
     "metadata": {},
     "output_type": "execute_result"
    }
   ],
   "source": [
    "Good_reads_joined.columns"
   ]
  },
  {
   "cell_type": "code",
   "execution_count": 140,
   "metadata": {},
   "outputs": [
    {
     "data": {
      "text/plain": [
       "Index(['isbn', 'text_reviews_count', 'country_code', 'average_rating',\n",
       "       'similar_books', 'description', 'authors', 'publisher', 'num_pages',\n",
       "       'publication_day', 'isbn13', 'publication_month', 'publication_year',\n",
       "       'image_url', 'book_id', 'ratings_count', 'title', 'genre', 'author_id',\n",
       "       'average_rating_author', 'name'],\n",
       "      dtype='object')"
      ]
     },
     "execution_count": 140,
     "metadata": {},
     "output_type": "execute_result"
    }
   ],
   "source": [
    "UCSD_data_clean.columns"
   ]
  },
  {
   "cell_type": "code",
   "execution_count": 141,
   "metadata": {},
   "outputs": [],
   "source": [
    "# we do not need the author, similar books , isbn , isbn13,image_url,author_id,average_rating_author etc\n",
    "UCSD_data_clean.drop(['isbn','isbn13','authors','author_id','average_rating_author','image_url', 'publication_day','similar_books','publication_month'],axis=1,inplace=True)"
   ]
  },
  {
   "cell_type": "code",
   "execution_count": 142,
   "metadata": {},
   "outputs": [],
   "source": [
    "\n",
    "UCSD_data_clean.rename(columns={\"name\": \"author\", \"average_rating\": \"rating\", \"ratings_count\": \"number_of_ratings\", \"publication_year\": \"year\"}, errors=\"raise\",inplace=True)"
   ]
  },
  {
   "cell_type": "markdown",
   "metadata": {},
   "source": [
    "* To keep things consistent we will rename the columns to match the one above "
   ]
  },
  {
   "cell_type": "code",
   "execution_count": 143,
   "metadata": {},
   "outputs": [
    {
     "data": {
      "text/plain": [
       "{'US'}"
      ]
     },
     "execution_count": 143,
     "metadata": {},
     "output_type": "execute_result"
    }
   ],
   "source": [
    "set(UCSD_data_clean.country_code)\n"
   ]
  },
  {
   "cell_type": "markdown",
   "metadata": {},
   "source": [
    "as there is only one country code we can change the country code to languuage code and chage the value to english"
   ]
  },
  {
   "cell_type": "code",
   "execution_count": 144,
   "metadata": {},
   "outputs": [],
   "source": [
    "UCSD_data_clean.rename(columns={\"country_code\": \"language_code\"}, errors=\"raise\",inplace=True)"
   ]
  },
  {
   "cell_type": "code",
   "execution_count": 145,
   "metadata": {},
   "outputs": [],
   "source": [
    "UCSD_data_clean['language_code']='eng'"
   ]
  },
  {
   "cell_type": "code",
   "execution_count": 146,
   "metadata": {},
   "outputs": [],
   "source": [
    "rez=pd.concat([Good_reads_joined,UCSD_data_clean])"
   ]
  },
  {
   "cell_type": "code",
   "execution_count": 147,
   "metadata": {},
   "outputs": [
    {
     "data": {
      "text/html": [
       "<div>\n",
       "<style scoped>\n",
       "    .dataframe tbody tr th:only-of-type {\n",
       "        vertical-align: middle;\n",
       "    }\n",
       "\n",
       "    .dataframe tbody tr th {\n",
       "        vertical-align: top;\n",
       "    }\n",
       "\n",
       "    .dataframe thead th {\n",
       "        text-align: right;\n",
       "    }\n",
       "</style>\n",
       "<table border=\"1\" class=\"dataframe\">\n",
       "  <thead>\n",
       "    <tr style=\"text-align: right;\">\n",
       "      <th></th>\n",
       "      <th>book_id</th>\n",
       "      <th>title</th>\n",
       "      <th>author</th>\n",
       "      <th>rating</th>\n",
       "      <th>language_code</th>\n",
       "      <th>num_pages</th>\n",
       "      <th>number_of_ratings</th>\n",
       "      <th>text_reviews_count</th>\n",
       "      <th>year</th>\n",
       "      <th>publisher</th>\n",
       "      <th>description</th>\n",
       "      <th>awards</th>\n",
       "      <th>genre</th>\n",
       "      <th>Movie</th>\n",
       "    </tr>\n",
       "  </thead>\n",
       "  <tbody>\n",
       "    <tr>\n",
       "      <th>0</th>\n",
       "      <td>1</td>\n",
       "      <td>Harry Potter and the Half-Blood Prince (Harry ...</td>\n",
       "      <td>J.K. Rowling/Mary GrandPré</td>\n",
       "      <td>4.57</td>\n",
       "      <td>eng</td>\n",
       "      <td>652.0</td>\n",
       "      <td>2095690</td>\n",
       "      <td>27591</td>\n",
       "      <td>9/16/2006</td>\n",
       "      <td>Scholastic Inc.</td>\n",
       "      <td>The war against Voldemort is not going well; e...</td>\n",
       "      <td>3.0</td>\n",
       "      <td>Fantasy</td>\n",
       "      <td>yes</td>\n",
       "    </tr>\n",
       "    <tr>\n",
       "      <th>1</th>\n",
       "      <td>2</td>\n",
       "      <td>Harry Potter and the Order of the Phoenix (Har...</td>\n",
       "      <td>J.K. Rowling/Mary GrandPré</td>\n",
       "      <td>4.49</td>\n",
       "      <td>eng</td>\n",
       "      <td>870.0</td>\n",
       "      <td>2153167</td>\n",
       "      <td>29221</td>\n",
       "      <td>9/1/2004</td>\n",
       "      <td>Scholastic Inc.</td>\n",
       "      <td>There is a door at the end of a silent corrido...</td>\n",
       "      <td>9.0</td>\n",
       "      <td>Fantasy</td>\n",
       "      <td>NaN</td>\n",
       "    </tr>\n",
       "    <tr>\n",
       "      <th>2</th>\n",
       "      <td>4</td>\n",
       "      <td>Harry Potter and the Chamber of Secrets (Harry...</td>\n",
       "      <td>J.K. Rowling</td>\n",
       "      <td>4.42</td>\n",
       "      <td>eng</td>\n",
       "      <td>352.0</td>\n",
       "      <td>6333</td>\n",
       "      <td>244</td>\n",
       "      <td>11/1/2003</td>\n",
       "      <td>Scholastic</td>\n",
       "      <td>The Dursleys were so mean and hideous that sum...</td>\n",
       "      <td>7.0</td>\n",
       "      <td>Fantasy</td>\n",
       "      <td>NaN</td>\n",
       "    </tr>\n",
       "  </tbody>\n",
       "</table>\n",
       "</div>"
      ],
      "text/plain": [
       "   book_id                                              title                      author  ...  awards    genre  Movie\n",
       "0        1  Harry Potter and the Half-Blood Prince (Harry ...  J.K. Rowling/Mary GrandPré  ...     3.0  Fantasy    yes\n",
       "1        2  Harry Potter and the Order of the Phoenix (Har...  J.K. Rowling/Mary GrandPré  ...     9.0  Fantasy    NaN\n",
       "2        4  Harry Potter and the Chamber of Secrets (Harry...                J.K. Rowling  ...     7.0  Fantasy    NaN\n",
       "\n",
       "[3 rows x 14 columns]"
      ]
     },
     "execution_count": 147,
     "metadata": {},
     "output_type": "execute_result"
    }
   ],
   "source": [
    "rez.head(3)"
   ]
  },
  {
   "cell_type": "code",
   "execution_count": 148,
   "metadata": {},
   "outputs": [
    {
     "data": {
      "text/plain": [
       "14"
      ]
     },
     "execution_count": 148,
     "metadata": {},
     "output_type": "execute_result"
    }
   ],
   "source": [
    "len(rez.columns)"
   ]
  },
  {
   "cell_type": "code",
   "execution_count": 149,
   "metadata": {},
   "outputs": [
    {
     "data": {
      "text/plain": [
       "(17984, 14)"
      ]
     },
     "execution_count": 149,
     "metadata": {},
     "output_type": "execute_result"
    }
   ],
   "source": [
    "rez.shape"
   ]
  },
  {
   "cell_type": "code",
   "execution_count": 150,
   "metadata": {},
   "outputs": [],
   "source": [
    "## Dropping duplicate columns\n",
    "rez.drop_duplicates(subset=['book_id'], keep='last',inplace=True)"
   ]
  },
  {
   "cell_type": "code",
   "execution_count": 151,
   "metadata": {},
   "outputs": [
    {
     "name": "stdout",
     "output_type": "stream",
     "text": [
      "<class 'pandas.core.frame.DataFrame'>\n",
      "Int64Index: 17776 entries, 0 to 8367\n",
      "Data columns (total 14 columns):\n",
      " #   Column              Non-Null Count  Dtype  \n",
      "---  ------              --------------  -----  \n",
      " 0   book_id             17776 non-null  int64  \n",
      " 1   title               17776 non-null  object \n",
      " 2   author              15893 non-null  object \n",
      " 3   rating              17776 non-null  float64\n",
      " 4   language_code       17775 non-null  object \n",
      " 5   num_pages           17776 non-null  float64\n",
      " 6   number_of_ratings   17776 non-null  int64  \n",
      " 7   text_reviews_count  17776 non-null  object \n",
      " 8   year                17747 non-null  object \n",
      " 9   publisher           17776 non-null  object \n",
      " 10  description         17465 non-null  object \n",
      " 11  awards              9643 non-null   float64\n",
      " 12  genre               17776 non-null  object \n",
      " 13  Movie               1925 non-null   object \n",
      "dtypes: float64(3), int64(2), object(9)\n",
      "memory usage: 2.0+ MB\n"
     ]
    }
   ],
   "source": [
    "rez.info()"
   ]
  },
  {
   "cell_type": "code",
   "execution_count": 152,
   "metadata": {},
   "outputs": [],
   "source": [
    "#fixing null values\n",
    "rez['author']= rez['author'].fillna(value='Not_given')\n",
    "rez['awards']= rez['awards'].fillna(value='Not_given')\n",
    "rez['description']= rez['description'].fillna(value='Not_given')\n",
    "rez['Movie']= rez['Movie'].fillna(value='no')"
   ]
  },
  {
   "cell_type": "markdown",
   "metadata": {},
   "source": [
    "There are still a few columns with null values, so we will take care of them. \n",
    "* missing values in author, awards, and description is filled with Not_given\n",
    "* missing values in Movies is filled with Not_given"
   ]
  },
  {
   "cell_type": "code",
   "execution_count": 153,
   "metadata": {},
   "outputs": [
    {
     "data": {
      "text/plain": [
       "<AxesSubplot:xlabel='language_code', ylabel='count'>"
      ]
     },
     "execution_count": 153,
     "metadata": {},
     "output_type": "execute_result"
    },
    {
     "data": {
      "image/png": "[encoded data removed]",
      "text/plain": [
       "<Figure size 432x288 with 1 Axes>"
      ]
     },
     "metadata": {
      "needs_background": "light"
     },
     "output_type": "display_data"
    }
   ],
   "source": [
    "sns.countplot(rez.language_code)"
   ]
  },
  {
   "cell_type": "code",
   "execution_count": 154,
   "metadata": {},
   "outputs": [
    {
     "data": {
      "text/plain": [
       "eng                      14622\n",
       "English                   1477\n",
       "en-US                     1006\n",
       "spa                        149\n",
       "en-GB                      137\n",
       "fre                        107\n",
       "ger                         68\n",
       "Unavailable                 61\n",
       "French                      19\n",
       "mul                         16\n",
       "Arabic                      14\n",
       "jpn                         12\n",
       "German                      11\n",
       "Spanish                     11\n",
       "Indonesian                   7\n",
       "grc                          7\n",
       "en-CA                        5\n",
       "zho                          5\n",
       "Italian                      5\n",
       "por                          4\n",
       "Portuguese                   3\n",
       "enm                          3\n",
       "ita                          3\n",
       "Polish                       3\n",
       "Filipino; Pilipino           2\n",
       "lat                          2\n",
       "rus                          2\n",
       "Kannada                      2\n",
       "Japanese                     1\n",
       "swe                          1\n",
       "srp                          1\n",
       "nor                          1\n",
       "gla                          1\n",
       "Swedish                      1\n",
       "glg                          1\n",
       "Greek, Modern (1453-)        1\n",
       "Russian                      1\n",
       "ara                          1\n",
       "tur                          1\n",
       "Danish                       1\n",
       "Name: language_code, dtype: int64"
      ]
     },
     "execution_count": 154,
     "metadata": {},
     "output_type": "execute_result"
    }
   ],
   "source": [
    "rez.language_code.value_counts()"
   ]
  },
  {
   "cell_type": "code",
   "execution_count": 155,
   "metadata": {},
   "outputs": [],
   "source": [
    "\n",
    "rez=rez[(rez['language_code']==\"eng\") | (rez['language_code']=='English')|(rez['language_code']=='en-US')|(rez['language_code']=='en-GB')|(rez['language_code']=='en-CA')]"
   ]
  },
  {
   "cell_type": "markdown",
   "metadata": {},
   "source": [
    "We are keeping only English books that way we can remove the language-code column and keeping entries of other languages will not only make it complicated but being in a different language means it we cannot find similar books using language."
   ]
  },
  {
   "cell_type": "code",
   "execution_count": 156,
   "metadata": {},
   "outputs": [],
   "source": [
    "rez.drop(['language_code'],axis=1,inplace=True)"
   ]
  },
  {
   "cell_type": "code",
   "execution_count": 157,
   "metadata": {},
   "outputs": [],
   "source": [
    "def clean_author(author):\n",
    "    if \"/\"in author:\n",
    "        return author.split(\"/\")[0]\n",
    "    else:\n",
    "        return author\n",
    "    "
   ]
  },
  {
   "cell_type": "code",
   "execution_count": 158,
   "metadata": {},
   "outputs": [],
   "source": [
    "rez['author']=rez.author.apply(lambda x : clean_author(x))"
   ]
  },
  {
   "cell_type": "code",
   "execution_count": 159,
   "metadata": {},
   "outputs": [
    {
     "name": "stdout",
     "output_type": "stream",
     "text": [
      "<class 'pandas.core.frame.DataFrame'>\n",
      "Int64Index: 17247 entries, 0 to 8367\n",
      "Data columns (total 13 columns):\n",
      " #   Column              Non-Null Count  Dtype  \n",
      "---  ------              --------------  -----  \n",
      " 0   book_id             17247 non-null  int64  \n",
      " 1   title               17247 non-null  object \n",
      " 2   author              17247 non-null  object \n",
      " 3   rating              17247 non-null  float64\n",
      " 4   num_pages           17247 non-null  float64\n",
      " 5   number_of_ratings   17247 non-null  int64  \n",
      " 6   text_reviews_count  17247 non-null  object \n",
      " 7   year                17235 non-null  object \n",
      " 8   publisher           17247 non-null  object \n",
      " 9   description         17247 non-null  object \n",
      " 10  awards              17247 non-null  object \n",
      " 11  genre               17247 non-null  object \n",
      " 12  Movie               17247 non-null  object \n",
      "dtypes: float64(2), int64(2), object(9)\n",
      "memory usage: 1.8+ MB\n"
     ]
    }
   ],
   "source": [
    "rez.info()"
   ]
  },
  {
   "cell_type": "code",
   "execution_count": 160,
   "metadata": {},
   "outputs": [],
   "source": [
    "rez['genre']=rez['genre'].replace({'Childrens': 'children',\n",
    "                  'Historical': 'history_biography',\n",
    "                  'History': 'history_biography',\n",
    "                  'Fantasy': 'fantasy_paranormal_fiction',\n",
    "                  'Fiction': 'fantasy_paranormal_fiction',\n",
    "                  'Horror': 'mystery_thriller_crime',\n",
    "                  'Mystery': 'mystery_thriller_crime',\n",
    "                  'Nonfiction': 'history_biography',\n",
    "                  'fantasy_paranormal': 'fantasy_paranormal_fiction',\n",
    "                  'Philosophy': 'poetry_philosophy',\n",
    "                  'poetry': 'poetry_philosophy',\n",
    "                  'Romance': 'romance',\n",
    "                 'Science Fiction': 'fantasy_paranormal_fiction',\n",
    "                 'Sequential Art': 'comics',\n",
    "                 'Young Adult': 'young_adult'})"
   ]
  },
  {
   "cell_type": "markdown",
   "metadata": {},
   "source": [
    "As the genre in UCSD and GoodReads are different so we will rename the genres in GoodReads to match the genres in UCSD to make the formatting constant ."
   ]
  },
  {
   "cell_type": "code",
   "execution_count": 161,
   "metadata": {},
   "outputs": [
    {
     "data": {
      "text/plain": [
       "[Text(0, 0, 'fantasy_paranormal_fiction'),\n",
       " Text(1, 0, 'not_given'),\n",
       " Text(2, 0, 'history_biography'),\n",
       " Text(3, 0, 'Other'),\n",
       " Text(4, 0, 'young_adult'),\n",
       " Text(5, 0, 'romance'),\n",
       " Text(6, 0, 'mystery_thriller_crime'),\n",
       " Text(7, 0, 'Classics'),\n",
       " Text(8, 0, 'children'),\n",
       " Text(9, 0, 'poetry_philosophy'),\n",
       " Text(10, 0, 'comics')]"
      ]
     },
     "execution_count": 161,
     "metadata": {},
     "output_type": "execute_result"
    },
    {
     "data": {
      "image/png": "[encoded data removed]",
      "text/plain": [
       "<Figure size 720x360 with 1 Axes>"
      ]
     },
     "metadata": {
      "needs_background": "light"
     },
     "output_type": "display_data"
    }
   ],
   "source": [
    "plt.figure(figsize=(10,5))\n",
    "chart = sns.countplot(\n",
    "    data=rez,\n",
    "    x='genre',  \n",
    ")\n",
    "chart.set_xticklabels(chart.get_xticklabels(),rotation=90)"
   ]
  },
  {
   "cell_type": "code",
   "execution_count": 166,
   "metadata": {},
   "outputs": [
    {
     "data": {
      "text/html": [
       "<div>\n",
       "<style scoped>\n",
       "    .dataframe tbody tr th:only-of-type {\n",
       "        vertical-align: middle;\n",
       "    }\n",
       "\n",
       "    .dataframe tbody tr th {\n",
       "        vertical-align: top;\n",
       "    }\n",
       "\n",
       "    .dataframe thead th {\n",
       "        text-align: right;\n",
       "    }\n",
       "</style>\n",
       "<table border=\"1\" class=\"dataframe\">\n",
       "  <thead>\n",
       "    <tr style=\"text-align: right;\">\n",
       "      <th></th>\n",
       "      <th>book_id</th>\n",
       "      <th>title</th>\n",
       "      <th>author</th>\n",
       "      <th>rating</th>\n",
       "      <th>num_pages</th>\n",
       "      <th>number_of_ratings</th>\n",
       "      <th>text_reviews_count</th>\n",
       "      <th>publisher</th>\n",
       "      <th>description</th>\n",
       "      <th>awards</th>\n",
       "      <th>genre</th>\n",
       "      <th>Movie</th>\n",
       "      <th>year</th>\n",
       "    </tr>\n",
       "  </thead>\n",
       "  <tbody>\n",
       "    <tr>\n",
       "      <th>0</th>\n",
       "      <td>1</td>\n",
       "      <td>Harry Potter and the Half-Blood Prince (Harry ...</td>\n",
       "      <td>J.K. Rowling</td>\n",
       "      <td>4.57</td>\n",
       "      <td>652</td>\n",
       "      <td>2095690</td>\n",
       "      <td>27591</td>\n",
       "      <td>Scholastic Inc.</td>\n",
       "      <td>The war against Voldemort is not going well; e...</td>\n",
       "      <td>3</td>\n",
       "      <td>fantasy_paranormal_fiction</td>\n",
       "      <td>yes</td>\n",
       "      <td>2006</td>\n",
       "    </tr>\n",
       "    <tr>\n",
       "      <th>1</th>\n",
       "      <td>2</td>\n",
       "      <td>Harry Potter and the Order of the Phoenix (Har...</td>\n",
       "      <td>J.K. Rowling</td>\n",
       "      <td>4.49</td>\n",
       "      <td>870</td>\n",
       "      <td>2153167</td>\n",
       "      <td>29221</td>\n",
       "      <td>Scholastic Inc.</td>\n",
       "      <td>There is a door at the end of a silent corrido...</td>\n",
       "      <td>9</td>\n",
       "      <td>fantasy_paranormal_fiction</td>\n",
       "      <td>yes</td>\n",
       "      <td>2004</td>\n",
       "    </tr>\n",
       "  </tbody>\n",
       "</table>\n",
       "</div>"
      ],
      "text/plain": [
       "   book_id                                              title        author  ...                       genre  Movie  year\n",
       "0        1  Harry Potter and the Half-Blood Prince (Harry ...  J.K. Rowling  ...  fantasy_paranormal_fiction    yes  2006\n",
       "1        2  Harry Potter and the Order of the Phoenix (Har...  J.K. Rowling  ...  fantasy_paranormal_fiction    yes  2004\n",
       "\n",
       "[2 rows x 13 columns]"
      ]
     },
     "execution_count": 166,
     "metadata": {},
     "output_type": "execute_result"
    }
   ],
   "source": [
    "rez.head(2)"
   ]
  },
  {
   "cell_type": "code",
   "execution_count": 95,
   "metadata": {},
   "outputs": [],
   "source": [
    "def clean_title(title):\n",
    "    if \" \" not in title:\n",
    "        book=re.sub(r\"(\\w)([A-Z])\", r\"\\1 \\2\", title)\n",
    "        return book\n",
    "    else:\n",
    "        return title\n",
    "rez['title']=rez['title'].apply(lambda x : clean_title(x))"
   ]
  },
  {
   "cell_type": "markdown",
   "metadata": {},
   "source": [
    "Some Title name had no spaces between the words and the wrds were in camel case , we have to put a space between them to make the formatting constant.\n"
   ]
  },
  {
   "cell_type": "code",
   "execution_count": 97,
   "metadata": {},
   "outputs": [
    {
     "name": "stdout",
     "output_type": "stream",
     "text": [
      "9/16/2006\n",
      "January9th2007\n",
      "2016.0\n"
     ]
    }
   ],
   "source": [
    "print(rez['year'][0])\n",
    "print(rez['year'][8000])\n",
    "print(rez['year'][17000])"
   ]
  },
  {
   "cell_type": "markdown",
   "metadata": {},
   "source": [
    "The year column is not formatted constantly, so we have to fix that, we are using only the year the book was published."
   ]
  },
  {
   "cell_type": "code",
   "execution_count": 98,
   "metadata": {},
   "outputs": [],
   "source": [
    "def get_year(date):\n",
    "    try:\n",
    "        if len(date)>6:\n",
    "            return date[-4:]\n",
    "        elif len(date)==4:\n",
    "            return date\n",
    "        elif \"-\" in date:\n",
    "            return date.split(\"-\")[1]\n",
    "        else:\n",
    "            return date[:-2]\n",
    "    except Exception as e:\n",
    "        pass\n",
    "def clean_year(year):\n",
    "    try:\n",
    "        if((int(year)<1000) and (int(year)>0)):\n",
    "            return 1900+int(year)\n",
    "        else: \n",
    "            return int(year)\n",
    "    except Exception as e:\n",
    "        pass\n",
    "        return 0\n",
    "rez['year_clean']=rez['year'].apply( lambda x : get_year(x))\n",
    "rez['year_clean']=rez['year_clean'].apply( lambda x : clean_year(x))"
   ]
  },
  {
   "cell_type": "code",
   "execution_count": 102,
   "metadata": {},
   "outputs": [],
   "source": [
    "rez.dropna(inplace=True)"
   ]
  },
  {
   "cell_type": "code",
   "execution_count": 103,
   "metadata": {},
   "outputs": [
    {
     "name": "stdout",
     "output_type": "stream",
     "text": [
      "<class 'pandas.core.frame.DataFrame'>\n",
      "Int64Index: 17235 entries, 0 to 17246\n",
      "Data columns (total 14 columns):\n",
      " #   Column              Non-Null Count  Dtype  \n",
      "---  ------              --------------  -----  \n",
      " 0   book_id             17235 non-null  int64  \n",
      " 1   title               17235 non-null  object \n",
      " 2   author              17235 non-null  object \n",
      " 3   rating              17235 non-null  float64\n",
      " 4   num_pages           17235 non-null  float64\n",
      " 5   number_of_ratings   17235 non-null  int64  \n",
      " 6   text_reviews_count  17235 non-null  object \n",
      " 7   year                17235 non-null  object \n",
      " 8   publisher           17235 non-null  object \n",
      " 9   description         17235 non-null  object \n",
      " 10  awards              17235 non-null  object \n",
      " 11  genre               17235 non-null  object \n",
      " 12  Movie               17235 non-null  object \n",
      " 13  year_clean          17235 non-null  int64  \n",
      "dtypes: float64(2), int64(3), object(9)\n",
      "memory usage: 2.0+ MB\n"
     ]
    }
   ],
   "source": [
    "rez.info()"
   ]
  },
  {
   "cell_type": "code",
   "execution_count": 107,
   "metadata": {},
   "outputs": [
    {
     "data": {
      "text/html": [
       "<div>\n",
       "<style scoped>\n",
       "    .dataframe tbody tr th:only-of-type {\n",
       "        vertical-align: middle;\n",
       "    }\n",
       "\n",
       "    .dataframe tbody tr th {\n",
       "        vertical-align: top;\n",
       "    }\n",
       "\n",
       "    .dataframe thead th {\n",
       "        text-align: right;\n",
       "    }\n",
       "</style>\n",
       "<table border=\"1\" class=\"dataframe\">\n",
       "  <thead>\n",
       "    <tr style=\"text-align: right;\">\n",
       "      <th></th>\n",
       "      <th>book_id</th>\n",
       "      <th>title</th>\n",
       "      <th>author</th>\n",
       "      <th>rating</th>\n",
       "      <th>num_pages</th>\n",
       "      <th>number_of_ratings</th>\n",
       "      <th>text_reviews_count</th>\n",
       "      <th>year</th>\n",
       "      <th>publisher</th>\n",
       "      <th>description</th>\n",
       "      <th>awards</th>\n",
       "      <th>genre</th>\n",
       "      <th>Movie</th>\n",
       "      <th>year_clean</th>\n",
       "    </tr>\n",
       "  </thead>\n",
       "  <tbody>\n",
       "    <tr>\n",
       "      <th>0</th>\n",
       "      <td>1</td>\n",
       "      <td>Harry Potter and the Half-Blood Prince (Harry ...</td>\n",
       "      <td>J.K. Rowling</td>\n",
       "      <td>4.57</td>\n",
       "      <td>652.0</td>\n",
       "      <td>2095690</td>\n",
       "      <td>27591</td>\n",
       "      <td>9/16/2006</td>\n",
       "      <td>Scholastic Inc.</td>\n",
       "      <td>The war against Voldemort is not going well; e...</td>\n",
       "      <td>3.0</td>\n",
       "      <td>fantasy_paranormal_fiction</td>\n",
       "      <td>yes</td>\n",
       "      <td>2006</td>\n",
       "    </tr>\n",
       "    <tr>\n",
       "      <th>1</th>\n",
       "      <td>2</td>\n",
       "      <td>Harry Potter and the Order of the Phoenix (Har...</td>\n",
       "      <td>J.K. Rowling</td>\n",
       "      <td>4.49</td>\n",
       "      <td>870.0</td>\n",
       "      <td>2153167</td>\n",
       "      <td>29221</td>\n",
       "      <td>9/1/2004</td>\n",
       "      <td>Scholastic Inc.</td>\n",
       "      <td>There is a door at the end of a silent corrido...</td>\n",
       "      <td>9.0</td>\n",
       "      <td>fantasy_paranormal_fiction</td>\n",
       "      <td>no</td>\n",
       "      <td>2004</td>\n",
       "    </tr>\n",
       "    <tr>\n",
       "      <th>2</th>\n",
       "      <td>4</td>\n",
       "      <td>Harry Potter and the Chamber of Secrets (Harry...</td>\n",
       "      <td>J.K. Rowling</td>\n",
       "      <td>4.42</td>\n",
       "      <td>352.0</td>\n",
       "      <td>6333</td>\n",
       "      <td>244</td>\n",
       "      <td>11/1/2003</td>\n",
       "      <td>Scholastic</td>\n",
       "      <td>The Dursleys were so mean and hideous that sum...</td>\n",
       "      <td>7.0</td>\n",
       "      <td>fantasy_paranormal_fiction</td>\n",
       "      <td>no</td>\n",
       "      <td>2003</td>\n",
       "    </tr>\n",
       "    <tr>\n",
       "      <th>3</th>\n",
       "      <td>5</td>\n",
       "      <td>Harry Potter and the Prisoner of Azkaban (Harr...</td>\n",
       "      <td>J.K. Rowling</td>\n",
       "      <td>4.56</td>\n",
       "      <td>435.0</td>\n",
       "      <td>2339585</td>\n",
       "      <td>36325</td>\n",
       "      <td>5/1/2004</td>\n",
       "      <td>Scholastic Inc.</td>\n",
       "      <td>Harry Potter's third year at Hogwarts is full ...</td>\n",
       "      <td>13.0</td>\n",
       "      <td>fantasy_paranormal_fiction</td>\n",
       "      <td>no</td>\n",
       "      <td>2004</td>\n",
       "    </tr>\n",
       "    <tr>\n",
       "      <th>4</th>\n",
       "      <td>9</td>\n",
       "      <td>Unauthorized Harry Potter Book Seven News: \"Ha...</td>\n",
       "      <td>W. Frederick Zimmerman</td>\n",
       "      <td>3.74</td>\n",
       "      <td>152.0</td>\n",
       "      <td>19</td>\n",
       "      <td>1</td>\n",
       "      <td>4/26/2005</td>\n",
       "      <td>Nimble Books</td>\n",
       "      <td>Through the magic of print-on-demand technolog...</td>\n",
       "      <td>0.0</td>\n",
       "      <td>not_given</td>\n",
       "      <td>no</td>\n",
       "      <td>2005</td>\n",
       "    </tr>\n",
       "  </tbody>\n",
       "</table>\n",
       "</div>"
      ],
      "text/plain": [
       "   book_id                                              title  \\\n",
       "0        1  Harry Potter and the Half-Blood Prince (Harry ...   \n",
       "1        2  Harry Potter and the Order of the Phoenix (Har...   \n",
       "2        4  Harry Potter and the Chamber of Secrets (Harry...   \n",
       "3        5  Harry Potter and the Prisoner of Azkaban (Harr...   \n",
       "4        9  Unauthorized Harry Potter Book Seven News: \"Ha...   \n",
       "\n",
       "                   author  rating  num_pages  number_of_ratings  \\\n",
       "0            J.K. Rowling    4.57      652.0            2095690   \n",
       "1            J.K. Rowling    4.49      870.0            2153167   \n",
       "2            J.K. Rowling    4.42      352.0               6333   \n",
       "3            J.K. Rowling    4.56      435.0            2339585   \n",
       "4  W. Frederick Zimmerman    3.74      152.0                 19   \n",
       "\n",
       "  text_reviews_count       year        publisher  \\\n",
       "0              27591  9/16/2006  Scholastic Inc.   \n",
       "1              29221   9/1/2004  Scholastic Inc.   \n",
       "2                244  11/1/2003       Scholastic   \n",
       "3              36325   5/1/2004  Scholastic Inc.   \n",
       "4                  1  4/26/2005     Nimble Books   \n",
       "\n",
       "                                         description awards  \\\n",
       "0  The war against Voldemort is not going well; e...    3.0   \n",
       "1  There is a door at the end of a silent corrido...    9.0   \n",
       "2  The Dursleys were so mean and hideous that sum...    7.0   \n",
       "3  Harry Potter's third year at Hogwarts is full ...   13.0   \n",
       "4  Through the magic of print-on-demand technolog...    0.0   \n",
       "\n",
       "                        genre Movie  year_clean  \n",
       "0  fantasy_paranormal_fiction   yes        2006  \n",
       "1  fantasy_paranormal_fiction    no        2004  \n",
       "2  fantasy_paranormal_fiction    no        2003  \n",
       "3  fantasy_paranormal_fiction    no        2004  \n",
       "4                   not_given    no        2005  "
      ]
     },
     "execution_count": 107,
     "metadata": {},
     "output_type": "execute_result"
    }
   ],
   "source": [
    "rez.head()"
   ]
  },
  {
   "cell_type": "markdown",
   "metadata": {},
   "source": [
    "The dataset seems to be clean right now, with no null values, we are going to use this dataset for our Data Analysis and the recommender system and Classification. we are saving the data frame in Poject_data.csv."
   ]
  },
  {
   "cell_type": "code",
   "execution_count": 105,
   "metadata": {},
   "outputs": [],
   "source": [
    "#rez.to_csv('data/Poject_data.csv')"
   ]
  }
 ],
 "metadata": {
  "kernelspec": {
   "display_name": "Python 3",
   "language": "python",
   "name": "python3"
  },
  "language_info": {
   "codemirror_mode": {
    "name": "ipython",
    "version": 3
   },
   "file_extension": ".py",
   "mimetype": "text/x-python",
   "name": "python",
   "nbconvert_exporter": "python",
   "pygments_lexer": "ipython3",
   "version": "3.8.3"
  }
 },
 "nbformat": 4,
 "nbformat_minor": 4
}
